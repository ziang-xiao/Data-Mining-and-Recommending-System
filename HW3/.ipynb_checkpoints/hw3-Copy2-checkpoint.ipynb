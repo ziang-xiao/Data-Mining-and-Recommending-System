{
 "cells": [
  {
   "cell_type": "markdown",
   "id": "5ace1bc3",
   "metadata": {},
   "source": [
    "# CSE 258, Fall 2021: Homework 3"
   ]
  },
  {
   "cell_type": "markdown",
   "id": "15f9dabc",
   "metadata": {},
   "source": [
    "## Tasks (Cook/Make prediction)"
   ]
  },
  {
   "cell_type": "code",
   "execution_count": 1,
   "id": "9d6fbf84",
   "metadata": {},
   "outputs": [],
   "source": [
    "import gzip\n",
    "import csv\n",
    "import random\n",
    "import numpy\n",
    "import matplotlib.pyplot as plt\n",
    "from collections import defaultdict\n",
    "from sklearn import linear_model"
   ]
  },
  {
   "cell_type": "code",
   "execution_count": 2,
   "id": "fdf0334b",
   "metadata": {},
   "outputs": [],
   "source": [
    "def readGz(path):\n",
    "    for l in gzip.open(path, 'rt'):\n",
    "        yield eval(l)"
   ]
  },
  {
   "cell_type": "code",
   "execution_count": 3,
   "id": "21e020c2",
   "metadata": {},
   "outputs": [],
   "source": [
    "def readCSV(path):\n",
    "    f = gzip.open(path, 'rt')\n",
    "    c = csv.reader(f)\n",
    "    header = next(c)\n",
    "    for l in c:\n",
    "        d = dict(zip(header,l))\n",
    "        yield d['user_id'],d['recipe_id'],d"
   ]
  },
  {
   "cell_type": "code",
   "execution_count": 4,
   "id": "df4d16f0",
   "metadata": {},
   "outputs": [],
   "source": [
    "def getHeader(path):\n",
    "    f = gzip.open(path, 'rt', encoding = \"utf8\")\n",
    "    header = f.readline()\n",
    "    header = header.strip().split('\\t')\n",
    "    header = header[0].split(',')\n",
    "    return header"
   ]
  },
  {
   "cell_type": "code",
   "execution_count": 5,
   "id": "e1deb124",
   "metadata": {},
   "outputs": [],
   "source": [
    "data = []\n",
    "train = []\n",
    "valid = []"
   ]
  },
  {
   "cell_type": "markdown",
   "id": "daf0b166",
   "metadata": {},
   "source": [
    "Load in data and split the training data (‘trainInteractions.csv.gz’) as follows:\\\n",
    "(1) Reviews 1-400,000 for training\\\n",
    "(2) Reviews 400,000-500,000 for validation"
   ]
  },
  {
   "cell_type": "code",
   "execution_count": 6,
   "id": "a34be7ba",
   "metadata": {},
   "outputs": [],
   "source": [
    "for user,recipe,d in readCSV(\"trainInteractions.csv.gz\"):\n",
    "  data.append(d)"
   ]
  },
  {
   "cell_type": "code",
   "execution_count": 7,
   "id": "bcf5809c",
   "metadata": {},
   "outputs": [],
   "source": [
    "header = getHeader(\"trainInteractions.csv.gz\")"
   ]
  },
  {
   "cell_type": "code",
   "execution_count": 8,
   "id": "5c60c4bf",
   "metadata": {},
   "outputs": [],
   "source": [
    "train = data[:400000]\n",
    "valid = data[400000:]"
   ]
  },
  {
   "cell_type": "markdown",
   "id": "2e1a7b82",
   "metadata": {},
   "source": [
    "Useful precalculation"
   ]
  },
  {
   "cell_type": "code",
   "execution_count": 9,
   "id": "1e96f4ea",
   "metadata": {},
   "outputs": [],
   "source": [
    "recipeCount = defaultdict(int)\n",
    "totalCooked = 0\n",
    "userSet = set()\n",
    "recipeSet = set()\n",
    "userPerRecipe = defaultdict(set)\n",
    "recipePerUser = defaultdict(set)"
   ]
  },
  {
   "cell_type": "code",
   "execution_count": 10,
   "id": "84bac103",
   "metadata": {},
   "outputs": [],
   "source": [
    "for d in train:\n",
    "    user,recipe = d['user_id'], d['recipe_id']\n",
    "    recipeCount[recipe] += 1\n",
    "    totalCooked += 1\n",
    "    userSet.add(user)\n",
    "    recipeSet.add(recipe)\n",
    "    userPerRecipe[recipe].add(user)\n",
    "    recipePerUser[user].add(recipe)"
   ]
  },
  {
   "cell_type": "markdown",
   "id": "87c1737f",
   "metadata": {},
   "source": [
    "### Q1\n",
    "Although we have built a validation set, it only consists of positive samples. For this task we also need examples of user/item pairs corresponding to recipes that weren’t cooked. For each entry (user,recipe) in the validation set, sample a negative entry by randomly choosing a recipe that user hasn’t cooked. Evaluate the performance (accuracy) of the baseline model on the validation set you have built."
   ]
  },
  {
   "cell_type": "code",
   "execution_count": 11,
   "id": "ba48023a",
   "metadata": {},
   "outputs": [],
   "source": [
    "def sampleNegative(valid):\n",
    "    NegValid = valid\n",
    "    \n",
    "    recipeList = list(recipeSet)\n",
    "    \n",
    "    for i in range(len(valid)):\n",
    "        d = valid[i]\n",
    "        u = d['user_id']\n",
    "        r = random.choice(recipeList)\n",
    "        while r in recipePerUser[u]:\n",
    "            r = random.choice(recipeList)\n",
    "        field = [u, r, \"\", \"-1\"]\n",
    "        item = dict(zip(header, field))\n",
    "        NegValid.append(item)\n",
    "\n",
    "    return NegValid"
   ]
  },
  {
   "cell_type": "code",
   "execution_count": 12,
   "id": "fc33c2c3",
   "metadata": {},
   "outputs": [],
   "source": [
    "valid = sampleNegative(valid)"
   ]
  },
  {
   "cell_type": "code",
   "execution_count": 13,
   "id": "2e59f771",
   "metadata": {},
   "outputs": [],
   "source": [
    "def Q1():    \n",
    "    mostPopular = [(recipeCount[x], x) for x in recipeCount]\n",
    "    mostPopular.sort()\n",
    "    mostPopular.reverse()\n",
    "\n",
    "    return1 = set()\n",
    "    count = 0\n",
    "    for ic, i in mostPopular:\n",
    "        count += ic\n",
    "        return1.add(i)\n",
    "        if count > totalCooked / 2:\n",
    "            break\n",
    "\n",
    "    correct = 0\n",
    "    for d in valid:\n",
    "        if d['recipe_id'] in return1:\n",
    "            correct += (d['rating'] != '-1')\n",
    "        else:\n",
    "            correct += (d['rating'] == '-1')\n",
    "    \n",
    "    print(\"Accuracy on Validation set is\")\n",
    "    print(correct/len(valid))"
   ]
  },
  {
   "cell_type": "code",
   "execution_count": 14,
   "id": "6842209a",
   "metadata": {},
   "outputs": [
    {
     "name": "stdout",
     "output_type": "stream",
     "text": [
      "Accuracy on Validation set is\n",
      "0.663895\n"
     ]
    }
   ],
   "source": [
    "Q1()"
   ]
  },
  {
   "cell_type": "markdown",
   "id": "e4a67e08",
   "metadata": {},
   "source": [
    "### Q2\n",
    "The existing ‘made/cooked prediction’ baseline just returns True if the item in question is ‘popular,’ using a threshold of the 50th percentile of popularity (totalCooked/2). Assuming that the ‘non-made’ test examples are a random sample of user-recipe pairs, this threshold may not be the best one. See if you can find a better threshold and report its performance on your validation set."
   ]
  },
  {
   "cell_type": "code",
   "execution_count": 15,
   "id": "ca6309fa",
   "metadata": {},
   "outputs": [],
   "source": [
    "def Q2():\n",
    "    \n",
    "    threshold = 1.86\n",
    "    \n",
    "    mostPopular = [(recipeCount[x], x) for x in recipeCount]\n",
    "    mostPopular.sort()\n",
    "    mostPopular.reverse()\n",
    "\n",
    "    return1 = set()\n",
    "    count = 0\n",
    "    for ic, i in mostPopular:\n",
    "        count += ic\n",
    "        return1.add(i)\n",
    "        if count > totalCooked / threshold:\n",
    "            break\n",
    "\n",
    "    correct = 0\n",
    "    for d in valid:\n",
    "        if d['recipe_id'] in return1:\n",
    "            correct += (d['rating'] != '-1')\n",
    "        else:\n",
    "            correct += (d['rating'] == '-1')\n",
    "    \n",
    "    print(\"Accuracy on Validation set with threshold \", threshold, \" (totalCooked / threshold)\" \" is\")\n",
    "    print(correct/len(valid))"
   ]
  },
  {
   "cell_type": "code",
   "execution_count": 16,
   "id": "da8ceab7",
   "metadata": {},
   "outputs": [
    {
     "name": "stdout",
     "output_type": "stream",
     "text": [
      "Accuracy on Validation set with threshold  1.86  (totalCooked / threshold) is\n",
      "0.66656\n"
     ]
    }
   ],
   "source": [
    "Q2()"
   ]
  },
  {
   "cell_type": "markdown",
   "id": "68113a57",
   "metadata": {},
   "source": [
    "### Q3\n",
    "An alternate baseline than the one provided might make use of the Jaccard similarity (or another similarity metric). Given a pair $(u, g)$ in the validation set, consider all training items $g_0$ that user $u$ has cooked. For each, compute the Jaccard similarity between $g$ and $g_0$, i.e., users (in the training set) who have made $g$ and users who have made $g_0$. Predict as ‘made’ if the maximum of these Jaccard similarities exceeds a threshold (you may choose the threshold that works best). Report the performance on your validation set."
   ]
  },
  {
   "cell_type": "code",
   "execution_count": 17,
   "id": "fe2324a9",
   "metadata": {},
   "outputs": [],
   "source": [
    "def Jaccard(s1, s2):\n",
    "    numer = len(s1.intersection(s2))\n",
    "    denom = len(s1.union(s2))\n",
    "    if denom == 0:\n",
    "        return 0\n",
    "    return numer / denom"
   ]
  },
  {
   "cell_type": "code",
   "execution_count": 18,
   "id": "4c8d147d",
   "metadata": {},
   "outputs": [],
   "source": [
    "def Q3():\n",
    "    thresholds = numpy.arange(0.001, 0.02, 0.001)\n",
    "    res = []\n",
    "    for threshold in thresholds:\n",
    "        correct = 0\n",
    "        for d in valid:\n",
    "            similarities = [0]\n",
    "            userCooked = recipePerUser[d['user_id']]\n",
    "            for recipe in userCooked:\n",
    "                similarities.append(Jaccard(userPerRecipe[d['recipe_id']], userPerRecipe[recipe]))\n",
    "                \n",
    "            if max(similarities) > threshold:\n",
    "                correct += (d['rating'] != '-1')\n",
    "            else:\n",
    "                correct += (d['rating'] == '-1')\n",
    "\n",
    "        res.append(correct/len(valid))\n",
    "\n",
    "    plt.plot(thresholds, res, 'b-')\n",
    "    plt.xlabel('Threshold')\n",
    "    plt.ylabel('Accuracy for different thresholds')\n",
    "    plt.show()\n",
    "    return res"
   ]
  },
  {
   "cell_type": "code",
   "execution_count": 19,
   "id": "a70b1688",
   "metadata": {},
   "outputs": [
    {
     "data": {
      "image/png": "[encoded data removed]",
      "text/plain": [
       "<Figure size 432x288 with 1 Axes>"
      ]
     },
     "metadata": {
      "needs_background": "light"
     },
     "output_type": "display_data"
    }
   ],
   "source": [
    "res = Q3()"
   ]
  },
  {
   "cell_type": "code",
   "execution_count": 20,
   "id": "7b08aa7f",
   "metadata": {},
   "outputs": [
    {
     "name": "stdout",
     "output_type": "stream",
     "text": [
      "Accuracy on Validation set with similarity threshold  0.012  is\n",
      "0.570015\n"
     ]
    }
   ],
   "source": [
    "print(\"Accuracy on Validation set with similarity threshold \", 0.001 + res.index(max(res)) * 0.001, \" is\")\n",
    "print(max(res))"
   ]
  },
  {
   "cell_type": "markdown",
   "id": "f34d00c8",
   "metadata": {},
   "source": [
    "### Q4\n",
    "Improve the above predictor by incorporating both a Jaccard-based threshold and a popularity based threshold. Report the performance on your validation set."
   ]
  },
  {
   "cell_type": "code",
   "execution_count": 21,
   "id": "a49a861f",
   "metadata": {},
   "outputs": [],
   "source": [
    "def Q4():\n",
    "    \n",
    "    pop_threshold = 1.69\n",
    "    sim_threshold = 0.012\n",
    "    \n",
    "    mostPopular = [(recipeCount[x], x) for x in recipeCount]\n",
    "    mostPopular.sort()\n",
    "    mostPopular.reverse()\n",
    "\n",
    "    return1 = set()\n",
    "    count = 0\n",
    "    for ic, i in mostPopular:\n",
    "        count += ic\n",
    "        return1.add(i)\n",
    "        if count > totalCooked / pop_threshold:\n",
    "            break\n",
    "\n",
    "    correct = 0\n",
    "    for d in valid:\n",
    "        similarities = [0]\n",
    "        for recipe in recipePerUser[d['user_id']]:\n",
    "            if d['recipe_id'] not in userPerRecipe:\n",
    "                similarities.append(0)\n",
    "            else:\n",
    "                similarities.append(Jaccard(userPerRecipe[d['recipe_id']], userPerRecipe[recipe]))\n",
    "\n",
    "        if max(similarities) > sim_threshold and d['recipe_id'] in return1:\n",
    "                correct += (d['rating'] != '-1')\n",
    "        else:\n",
    "                correct += (d['rating'] == '-1')\n",
    "    \n",
    "    print(\"Accuracy on Validation set with \\npopularity threshold \", pop_threshold, \n",
    "          \" (totalCooked / threshold) \\nand similarity threshold \", sim_threshold, \" is\")\n",
    "    print(correct/len(valid))"
   ]
  },
  {
   "cell_type": "code",
   "execution_count": 22,
   "id": "832ff693",
   "metadata": {},
   "outputs": [
    {
     "name": "stdout",
     "output_type": "stream",
     "text": [
      "Accuracy on Validation set with \n",
      "popularity threshold  1.69  (totalCooked / threshold) \n",
      "and similarity threshold  0.012  is\n",
      "0.65045\n"
     ]
    }
   ],
   "source": [
    "Q4()"
   ]
  },
  {
   "cell_type": "markdown",
   "id": "5364ee49",
   "metadata": {},
   "source": [
    "### Q5\n",
    "To run our model on the test set, we’ll have to use the files ‘stub Made.txt’ to find the user id/recipe id pairs about which we have to make predictions. Using that data, run the above model and upload your solution to Kaggle. Tell us your Kaggle user name. If you’ve already uploaded a better solution to Kaggle, that’s fine too!"
   ]
  },
  {
   "cell_type": "markdown",
   "id": "3468eb49",
   "metadata": {},
   "source": [
    "Kaggle user name: ZiangX\\\n",
    "Score: 0.67190"
   ]
  },
  {
   "cell_type": "code",
   "execution_count": 23,
   "id": "a1e541cc",
   "metadata": {},
   "outputs": [],
   "source": [
    "def Q5():\n",
    "    \n",
    "    pop_threshold = 1.69\n",
    "    sim_threshold = 0.012\n",
    "    \n",
    "    mostPopular = [(recipeCount[x], x) for x in recipeCount]\n",
    "    mostPopular.sort()\n",
    "    mostPopular.reverse()\n",
    "\n",
    "    return1 = set()\n",
    "    count = 0\n",
    "    for ic, i in mostPopular:\n",
    "        count += ic\n",
    "        return1.add(i)\n",
    "        if count > totalCooked / pop_threshold:\n",
    "            break               \n",
    "                \n",
    "    predictions = open(\"predictions_Made.txt\", 'w')\n",
    "    for l in open(\"stub_Made.txt\"):\n",
    "        if l.startswith(\"user_id\"):\n",
    "            predictions.write(l)\n",
    "            continue\n",
    "        u,i = l.strip().split('-')\n",
    "        similarities = [0]\n",
    "        for recipe in recipePerUser[u]:\n",
    "            if i not in userPerRecipe:\n",
    "                similarities.append(0)\n",
    "            else:\n",
    "                similarities.append(Jaccard(userPerRecipe[i], userPerRecipe[recipe]))  \n",
    "        \n",
    "        if max(similarities) > sim_threshold and i in return1:\n",
    "            predictions.write(u + '-' + i + \",1\\n\")\n",
    "        else:\n",
    "            predictions.write(u + '-' + i + \",0\\n\")\n",
    "\n",
    "    predictions.close()"
   ]
  },
  {
   "cell_type": "code",
   "execution_count": 24,
   "id": "c6c9e1b2",
   "metadata": {},
   "outputs": [],
   "source": [
    "Q5()"
   ]
  },
  {
   "cell_type": "markdown",
   "id": "daca257b",
   "metadata": {},
   "source": [
    "## Tasks (Rating prediction)\n",
    "Let’s start by building our training/validation sets much as we did for the first task. This time building a validation set is more straightforward: you can simply use part of the data for validation, and do not need to randomly sample non-cooked users/recipes."
   ]
  },
  {
   "cell_type": "code",
   "execution_count": 11,
   "id": "2333f5ee",
   "metadata": {},
   "outputs": [],
   "source": [
    "train = data[:400000]\n",
    "valid = data[400000:]"
   ]
  },
  {
   "cell_type": "code",
   "execution_count": 12,
   "id": "d36e643b",
   "metadata": {},
   "outputs": [],
   "source": [
    "import scipy\n",
    "import tensorflow as tf"
   ]
  },
  {
   "cell_type": "markdown",
   "id": "21f2f4ca",
   "metadata": {},
   "source": [
    "### Q9\n",
    "Fit a predictor of the form\\\n",
    "$$rating(user, item) \\simeq \\alpha + \\beta_user + \\beta_item$$\\\n",
    "by fitting the mean and the two bias terms as described in the lecture notes. Use a regularization\n",
    "parameter of $\\lambda = 1$. Report the MSE on the validation set."
   ]
  },
  {
   "cell_type": "code",
   "execution_count": 13,
   "id": "ee90c1b3",
   "metadata": {},
   "outputs": [],
   "source": [
    "userIDs = {}\n",
    "itemIDs = {}\n",
    "interactions = []\n",
    "\n",
    "for d in data:\n",
    "    u = d['user_id']\n",
    "    i = d['recipe_id']\n",
    "    r = int(d['rating'])\n",
    "    if not u in userIDs: userIDs[u] = len(userIDs)\n",
    "    if not i in itemIDs: itemIDs[i] = len(itemIDs)\n",
    "    interactions.append((u,i,r))"
   ]
  },
  {
   "cell_type": "code",
   "execution_count": 14,
   "id": "2082518f",
   "metadata": {},
   "outputs": [],
   "source": [
    "interactionsTrain = interactions[:400000]\n",
    "interactionsValid = interactions[400000:]"
   ]
  },
  {
   "cell_type": "code",
   "execution_count": 15,
   "id": "b802bdc3",
   "metadata": {},
   "outputs": [],
   "source": [
    "mu = sum([r for _,_,r in interactionsTrain]) / len(interactionsTrain)"
   ]
  },
  {
   "cell_type": "code",
   "execution_count": 16,
   "id": "5d0d5c98",
   "metadata": {},
   "outputs": [],
   "source": [
    "optimizer = tf.keras.optimizers.Adam(0.1)"
   ]
  },
  {
   "cell_type": "code",
   "execution_count": 17,
   "id": "88d7fa2d",
   "metadata": {},
   "outputs": [],
   "source": [
    "class LatentFactorModelBiasOnly(tf.keras.Model):\n",
    "    def __init__(self, mu, lamb):\n",
    "        super(LatentFactorModelBiasOnly, self).__init__()\n",
    "        # Initialize to average\n",
    "        self.alpha = tf.Variable(mu)\n",
    "        # Initialize to small random values\n",
    "        self.betaU = tf.Variable(tf.random.normal([len(userIDs)],stddev=0.001))\n",
    "        self.betaI = tf.Variable(tf.random.normal([len(itemIDs)],stddev=0.001))\n",
    "        self.lamb = lamb\n",
    "\n",
    "    # Prediction for a single instance (useful for evaluation)\n",
    "    def predict(self, u, i):\n",
    "        p = self.alpha + self.betaU[u] + self.betaI[i]\n",
    "        return p\n",
    "\n",
    "    # Regularizer\n",
    "    def reg(self):\n",
    "        return self.lamb * (tf.reduce_sum(self.betaU**2) +\\\n",
    "                            tf.reduce_sum(self.betaI**2))\n",
    "    \n",
    "    # Prediction for a sample of instances\n",
    "    def predictSample(self, sampleU, sampleI):\n",
    "        u = tf.convert_to_tensor(sampleU, dtype=tf.int32)\n",
    "        i = tf.convert_to_tensor(sampleI, dtype=tf.int32)\n",
    "        beta_u = tf.nn.embedding_lookup(self.betaU, u)\n",
    "        beta_i = tf.nn.embedding_lookup(self.betaI, i)\n",
    "        pred = self.alpha + beta_u + beta_i\n",
    "        return pred\n",
    "    \n",
    "    # Loss\n",
    "    def call(self, sampleU, sampleI, sampleR):\n",
    "        pred = self.predictSample(sampleU, sampleI)\n",
    "        r = tf.convert_to_tensor(sampleR, dtype=tf.float32)\n",
    "        return tf.nn.l2_loss(pred - r) / len(sampleR)"
   ]
  },
  {
   "cell_type": "code",
   "execution_count": 36,
   "id": "6031a6c9",
   "metadata": {},
   "outputs": [
    {
     "name": "stderr",
     "output_type": "stream",
     "text": [
      "2021-11-05 09:19:12.994866: I tensorflow/core/platform/cpu_feature_guard.cc:145] This TensorFlow binary is optimized with Intel(R) MKL-DNN to use the following CPU instructions in performance critical operations:  SSE4.1 SSE4.2 AVX AVX2 AVX512F FMA\n",
      "To enable them in non-MKL-DNN operations, rebuild TensorFlow with the appropriate compiler flags.\n",
      "2021-11-05 09:19:12.998282: I tensorflow/core/common_runtime/process_util.cc:115] Creating new thread pool with default inter op setting: 8. Tune using inter_op_parallelism_threads for best performance.\n"
     ]
    }
   ],
   "source": [
    "modelBiasOnly = LatentFactorModelBiasOnly(mu, 1)"
   ]
  },
  {
   "cell_type": "code",
   "execution_count": 18,
   "id": "61107758",
   "metadata": {},
   "outputs": [],
   "source": [
    "def trainingStepBiasOnly(model, interactions):\n",
    "    Nsamples = 400000\n",
    "    with tf.GradientTape() as tape:\n",
    "        sampleU, sampleI, sampleR = [], [], []\n",
    "        for _ in range(Nsamples):\n",
    "            u,i,r = random.choice(interactions)\n",
    "            sampleU.append(userIDs[u])\n",
    "            sampleI.append(itemIDs[i])\n",
    "            sampleR.append(r)\n",
    "\n",
    "        loss = model(sampleU,sampleI,sampleR)\n",
    "        loss += model.reg()\n",
    "    gradients = tape.gradient(loss, model.trainable_variables)\n",
    "    optimizer.apply_gradients((grad, var) for\n",
    "        (grad, var) in zip(gradients, model.trainable_variables)\n",
    "        if grad is not None)\n",
    "    return loss.numpy()"
   ]
  },
  {
   "cell_type": "code",
   "execution_count": 38,
   "id": "24e552bc",
   "metadata": {},
   "outputs": [],
   "source": [
    "for i in range(50):\n",
    "    obj = trainingStepBiasOnly(modelBiasOnly, interactionsTrain)"
   ]
  },
  {
   "cell_type": "code",
   "execution_count": 19,
   "id": "c33bf504",
   "metadata": {},
   "outputs": [],
   "source": [
    "def MSE(predictions, labels):\n",
    "    differences = [(x-y)**2 for x,y in zip(predictions,labels)]\n",
    "    return sum(differences) / len(differences)"
   ]
  },
  {
   "cell_type": "code",
   "execution_count": 40,
   "id": "8f7ce0e5",
   "metadata": {},
   "outputs": [],
   "source": [
    "biasOnlyPredictions =\\\n",
    "    [modelBiasOnly.predict(userIDs[u],itemIDs[i]).numpy() for u,i,_ in interactionsTest]"
   ]
  },
  {
   "cell_type": "code",
   "execution_count": 42,
   "id": "74f6a31d",
   "metadata": {},
   "outputs": [],
   "source": [
    "labels = [r for _,_,r in interactionsTrain]"
   ]
  },
  {
   "cell_type": "code",
   "execution_count": 44,
   "id": "53ed2158",
   "metadata": {},
   "outputs": [
    {
     "name": "stdout",
     "output_type": "stream",
     "text": [
      "MSE on test set is\n"
     ]
    },
    {
     "data": {
      "text/plain": [
       "0.9042177548489306"
      ]
     },
     "execution_count": 44,
     "metadata": {},
     "output_type": "execute_result"
    }
   ],
   "source": [
    "print('MSE on test set is')\n",
    "MSE(biasOnlyPredictions, labels)"
   ]
  },
  {
   "cell_type": "code",
   "execution_count": 47,
   "id": "208ad4e2",
   "metadata": {},
   "outputs": [],
   "source": [
    "biasOnlyPredictions_valid =\\\n",
    "    [modelBiasOnly.predict(userIDs[u],itemIDs[i]).numpy() for u,i,_ in interactionsValid]\n",
    "labels_valid = [r for _,_,r in interactionsValid]"
   ]
  },
  {
   "cell_type": "code",
   "execution_count": 48,
   "id": "844ae145",
   "metadata": {},
   "outputs": [
    {
     "name": "stdout",
     "output_type": "stream",
     "text": [
      "MSE on validation set is\n"
     ]
    },
    {
     "data": {
      "text/plain": [
       "0.9097578798565606"
      ]
     },
     "execution_count": 48,
     "metadata": {},
     "output_type": "execute_result"
    }
   ],
   "source": [
    "print('MSE on validation set is')\n",
    "MSE(biasOnlyPredictions_valid, labels_valid)"
   ]
  },
  {
   "cell_type": "markdown",
   "id": "d62c69a0",
   "metadata": {},
   "source": [
    "### Q10\n",
    "Report the user and recipe IDs that have the largest and smallest values of $\\beta$."
   ]
  },
  {
   "cell_type": "code",
   "execution_count": 82,
   "id": "9190548d",
   "metadata": {},
   "outputs": [],
   "source": [
    "betaU = modelBiasOnly.betaU\n",
    "betaU = betaU.numpy().tolist()"
   ]
  },
  {
   "cell_type": "code",
   "execution_count": 83,
   "id": "e01564a9",
   "metadata": {},
   "outputs": [],
   "source": [
    "maxUserIdx = betaU.index(max(betaU))\n",
    "minUserIdx = betaU.index(min(betaU))"
   ]
  },
  {
   "cell_type": "code",
   "execution_count": 84,
   "id": "d50820c7",
   "metadata": {},
   "outputs": [],
   "source": [
    "findUserID = [(k, v) for k, v in userIDs.items()]"
   ]
  },
  {
   "cell_type": "code",
   "execution_count": 85,
   "id": "5889b78b",
   "metadata": {},
   "outputs": [],
   "source": [
    "betaI = modelBiasOnly.betaI\n",
    "betaI = betaI.numpy().tolist()"
   ]
  },
  {
   "cell_type": "code",
   "execution_count": 86,
   "id": "cedfbf3c",
   "metadata": {},
   "outputs": [],
   "source": [
    "maxRecipeIdx = betaI.index(max(betaI))\n",
    "minRecipeIdx = betaI.index(min(betaI))"
   ]
  },
  {
   "cell_type": "code",
   "execution_count": 87,
   "id": "928a473c",
   "metadata": {},
   "outputs": [],
   "source": [
    "findRecipeID = [(k, v) for k, v in itemIDs.items()]"
   ]
  },
  {
   "cell_type": "code",
   "execution_count": 99,
   "id": "8a0cd05b",
   "metadata": {},
   "outputs": [
    {
     "name": "stdout",
     "output_type": "stream",
     "text": [
      "User ID  30355466 with largest beta  0.0061275167390704155\n",
      "User ID  08518108 with smallest beta  -0.005967316217720509\n",
      "Recipe ID  93747399 with largest beta  0.005972690414637327\n",
      "Recipe ID  80760853 with smallest beta  -0.005988098680973053\n"
     ]
    }
   ],
   "source": [
    "print('User ID ', findUserID[maxUserIdx][0], 'with largest beta ', max(betaU))\n",
    "print('User ID ', findUserID[minUserIdx][0], 'with smallest beta ', min(betaU))\n",
    "print('Recipe ID ', findRecipeID[maxRecipeIdx][0], 'with largest beta ', max(betaI))\n",
    "print('Recipe ID ', findRecipeID[minRecipeIdx][0], 'with smallest beta ', min(betaI))"
   ]
  },
  {
   "cell_type": "markdown",
   "id": "12b186da",
   "metadata": {},
   "source": [
    "### Q11\n",
    "Find a better value of $\\lambda$ using your validation set. Report the value you chose, its MSE, and upload your\n",
    "solution to Kaggle by running it on the test data."
   ]
  },
  {
   "cell_type": "markdown",
   "id": "474c9ab1",
   "metadata": {},
   "source": [
    "Kaggle user name: ZiangX\\\n",
    "Score: 0.83678"
   ]
  },
  {
   "cell_type": "code",
   "execution_count": 20,
   "id": "cd486645",
   "metadata": {},
   "outputs": [
    {
     "name": "stderr",
     "output_type": "stream",
     "text": [
      "2021-11-05 11:35:52.304392: I tensorflow/core/platform/cpu_feature_guard.cc:145] This TensorFlow binary is optimized with Intel(R) MKL-DNN to use the following CPU instructions in performance critical operations:  SSE4.1 SSE4.2 AVX AVX2 AVX512F FMA\n",
      "To enable them in non-MKL-DNN operations, rebuild TensorFlow with the appropriate compiler flags.\n",
      "2021-11-05 11:35:52.304801: I tensorflow/core/common_runtime/process_util.cc:115] Creating new thread pool with default inter op setting: 8. Tune using inter_op_parallelism_threads for best performance.\n"
     ]
    }
   ],
   "source": [
    "modelBiasOnly = LatentFactorModelBiasOnly(mu, 0.00001)"
   ]
  },
  {
   "cell_type": "code",
   "execution_count": 21,
   "id": "796735ad",
   "metadata": {},
   "outputs": [],
   "source": [
    "for i in range(100):\n",
    "    obj = trainingStepBiasOnly(modelBiasOnly, interactionsTrain)"
   ]
  },
  {
   "cell_type": "code",
   "execution_count": 22,
   "id": "8f1d66fb",
   "metadata": {},
   "outputs": [],
   "source": [
    "biasOnlyPredictions_valid =\\\n",
    "    [modelBiasOnly.predict(userIDs[u],itemIDs[i]).numpy() for u,i,_ in interactionsValid]\n",
    "labels_valid = [r for _,_,r in interactionsValid]"
   ]
  },
  {
   "cell_type": "code",
   "execution_count": 23,
   "id": "0248bcbc",
   "metadata": {},
   "outputs": [
    {
     "name": "stdout",
     "output_type": "stream",
     "text": [
      "MSE on validation set with lambda = 0.00001 is\n"
     ]
    },
    {
     "data": {
      "text/plain": [
       "0.8266678504934706"
      ]
     },
     "execution_count": 23,
     "metadata": {},
     "output_type": "execute_result"
    }
   ],
   "source": [
    "print('MSE on validation set with lambda = 0.00001 is')\n",
    "MSE(biasOnlyPredictions_valid, labels_valid)"
   ]
  },
  {
   "cell_type": "code",
   "execution_count": 24,
   "id": "ec91c011",
   "metadata": {},
   "outputs": [],
   "source": [
    "allRatings = []\n",
    "userRatings = defaultdict(list)\n",
    "\n",
    "for user,recipe,d in readCSV(\"trainInteractions.csv.gz\"):\n",
    "  r = int(d['rating'])\n",
    "  allRatings.append(r)\n",
    "  userRatings[user].append(r)\n",
    "\n",
    "globalAverage = sum(allRatings) / len(allRatings)\n",
    "userAverage = {}\n",
    "for u in userRatings:\n",
    "  userAverage[u] = sum(userRatings[u]) / len(userRatings[u])\n",
    "\n",
    "predictions = open(\"predictions_Rated.txt\", 'w')\n",
    "for l in open(\"stub_Rated.txt\"):\n",
    "    if l.startswith(\"user_id\"):\n",
    "        #header\n",
    "        predictions.write(l)\n",
    "        continue\n",
    "    u,i = l.strip().split('-')\n",
    "    if u in userIDs and i in itemIDs:\n",
    "        predictions.write(u + '-' + i + ',' + str(modelBiasOnly.predict(userIDs[u],itemIDs[i]).numpy()) + '\\n')\n",
    "    elif u in userAverage:\n",
    "        predictions.write(u + '-' + i + ',' + str(userAverage[u]) + '\\n')\n",
    "    else:\n",
    "        predictions.write(u + '-' + i + ',' + str(globalAverage) + '\\n')\n",
    "\n",
    "predictions.close()"
   ]
  }
 ],
 "metadata": {
  "kernelspec": {
   "display_name": "Python 3 (ipykernel)",
   "language": "python",
   "name": "python3"
  },
  "language_info": {
   "codemirror_mode": {
    "name": "ipython",
    "version": 3
   },
   "file_extension": ".py",
   "mimetype": "text/x-python",
   "name": "python",
   "nbconvert_exporter": "python",
   "pygments_lexer": "ipython3",
   "version": "3.7.11"
  }
 },
 "nbformat": 4,
 "nbformat_minor": 5
}
