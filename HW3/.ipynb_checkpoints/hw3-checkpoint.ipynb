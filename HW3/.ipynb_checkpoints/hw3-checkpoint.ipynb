{
 "cells": [
  {
   "cell_type": "markdown",
   "id": "d0a83f45",
   "metadata": {},
   "source": [
    "# CSE 258, Fall 2021: Homework 3"
   ]
  },
  {
   "cell_type": "markdown",
   "id": "63ddcece",
   "metadata": {},
   "source": [
    "## Tasks (Cook/Make prediction)"
   ]
  },
  {
   "cell_type": "code",
   "execution_count": 8,
   "id": "f556470a",
   "metadata": {},
   "outputs": [],
   "source": [
    "import gzip\n",
    "import csv\n",
    "import random\n",
    "import pandas as pd\n",
    "from collections import defaultdict\n",
    "from sklearn import linear_model\n",
    "from tqdm.notebook import tqdm"
   ]
  },
  {
   "cell_type": "code",
   "execution_count": 2,
   "id": "5dea2642",
   "metadata": {},
   "outputs": [],
   "source": [
    "def readGz(path):\n",
    "    for l in gzip.open(path, 'rt'):\n",
    "        yield eval(l)"
   ]
  },
  {
   "cell_type": "code",
   "execution_count": 3,
   "id": "d1bd9c5c",
   "metadata": {},
   "outputs": [],
   "source": [
    "def readCSV(path):\n",
    "    f = gzip.open(path, 'rt')\n",
    "    c = csv.reader(f)\n",
    "    header = next(c)\n",
    "    for l in c:\n",
    "        d = dict(zip(header,l))\n",
    "        yield d['user_id'],d['recipe_id'],d"
   ]
  },
  {
   "cell_type": "code",
   "execution_count": 4,
   "id": "2e941bb7",
   "metadata": {},
   "outputs": [],
   "source": [
    "def splitDataset(path):\n",
    "    f = gzip.open(path, 'rt')\n",
    "    data = pd.read_csv(f)\n",
    "    train, valid = data[:400000], data[400000:]\n",
    "    return data, train, valid"
   ]
  },
  {
   "cell_type": "code",
   "execution_count": 5,
   "id": "28d59f5a",
   "metadata": {},
   "outputs": [],
   "source": [
    "data, train, valid = splitDataset(\"trainInteractions.csv.gz\")"
   ]
  },
  {
   "cell_type": "markdown",
   "id": "f5ee463d",
   "metadata": {},
   "source": [
    "### Q1\n",
    "Although we have built a validation set, it only consists of positive samples. For this task we also need examples of user/item pairs corresponding to recipes that weren’t cooked. For each entry (user,recipe) in the validation set, sample a negative entry by randomly choosing a recipe that user hasn’t cooked. Evaluate the performance (accuracy) of the baseline model on the validation set you have built."
   ]
  },
  {
   "cell_type": "code",
   "execution_count": 9,
   "id": "c4303dab",
   "metadata": {},
   "outputs": [],
   "source": [
    "def sampleNegative(data, train, valid):\n",
    "    valid['cooked'] = 1\n",
    "    NegValid = valid\n",
    "\n",
    "    userRecipeDict = {}\n",
    "    for index, row in tqdm(data.iterrows()):\n",
    "        if row['user_id'] not in userRecipeDict:\n",
    "            userRecipeDict[row['user_id']] = {row['recipe_id']}\n",
    "        else:\n",
    "            userRecipeDict[row['user_id']].add(row['recipe_id'])\n",
    "\n",
    "    for index, row in tqdm(valid.iterrows()):\n",
    "        NegRecipeID = random.sample(set(data['recipe_id']) - userRecipeDict[row['user_id']], 1)[0]\n",
    "        NegValid = NegValid.append({'user_id': row['user_id'], 'recipe_id': NegRecipeID, 'rating': 0, 'cooked':0}, ignore_index=True)\n",
    "\n",
    "    return NegValid, userRecipeDict"
   ]
  },
  {
   "cell_type": "code",
   "execution_count": 10,
   "id": "3487d897",
   "metadata": {},
   "outputs": [
    {
     "name": "stderr",
     "output_type": "stream",
     "text": [
      "<ipython-input-9-d8cac14a1116>:2: SettingWithCopyWarning: \n",
      "A value is trying to be set on a copy of a slice from a DataFrame.\n",
      "Try using .loc[row_indexer,col_indexer] = value instead\n",
      "\n",
      "See the caveats in the documentation: https://pandas.pydata.org/pandas-docs/stable/user_guide/indexing.html#returning-a-view-versus-a-copy\n",
      "  valid['cooked'] = 1\n"
     ]
    },
    {
     "data": {
      "application/vnd.jupyter.widget-view+json": {
       "model_id": "dacc8cb0eee4491a92aab861a7513c9e",
       "version_major": 2,
       "version_minor": 0
      },
      "text/plain": [
       "0it [00:00, ?it/s]"
      ]
     },
     "metadata": {},
     "output_type": "display_data"
    },
    {
     "data": {
      "application/vnd.jupyter.widget-view+json": {
       "model_id": "0a642d6af90d4823a7cd10272df92f96",
       "version_major": 2,
       "version_minor": 0
      },
      "text/plain": [
       "0it [00:00, ?it/s]"
      ]
     },
     "metadata": {},
     "output_type": "display_data"
    }
   ],
   "source": [
    "valid, _ = sampleNegative(data, train, valid)"
   ]
  },
  {
   "cell_type": "code",
   "execution_count": null,
   "id": "2f0d1767",
   "metadata": {},
   "outputs": [],
   "source": []
  },
  {
   "cell_type": "code",
   "execution_count": null,
   "id": "8772fa93",
   "metadata": {},
   "outputs": [],
   "source": []
  },
  {
   "cell_type": "code",
   "execution_count": null,
   "id": "feef3360",
   "metadata": {},
   "outputs": [],
   "source": [
    "def Q1():    \n",
    "    recipeCount = defaultdict(int)\n",
    "    totalCooked = 0\n",
    "\n",
    "    for index, row in tqdm(train.iterrows()):\n",
    "        recipeCount[row['recipe_id']] += 1\n",
    "        totalCooked += 1\n",
    "\n",
    "    mostPopular = [(recipeCount[x], x) for x in recipeCount]\n",
    "    mostPopular.sort()\n",
    "    mostPopular.reverse()\n",
    "\n",
    "    return1 = set()\n",
    "    count = 0\n",
    "    for ic, i in mostPopular:\n",
    "        count += ic\n",
    "        return1.add(i)\n",
    "        if count > totalRead / 2:\n",
    "            break\n",
    "\n",
    "    correct = 0\n",
    "    for index, row in tqdm(valid.iterrows()):\n",
    "        if row['recipe_id'] in return1:\n",
    "            correct += (row['cooked'] != 0)\n",
    "        else:\n",
    "            correct += (row['cooked'] == 0)\n",
    "    \n",
    "    print('Accuracy on Validation set is ' % (correct/len(valid)))"
   ]
  },
  {
   "cell_type": "code",
   "execution_count": null,
   "id": "9fd82b0a",
   "metadata": {},
   "outputs": [],
   "source": [
    "Q1()"
   ]
  },
  {
   "cell_type": "markdown",
   "id": "cc4d2de7",
   "metadata": {},
   "source": [
    "### Q2\n",
    "The existing ‘made/cooked prediction’ baseline just returns True if the item in question is ‘popular,’ using a threshold of the 50th percentile of popularity (totalCooked/2). Assuming that the ‘non-made’ test examples are a random sample of user-recipe pairs, this threshold may not be the best one. See if you can find a better threshold and report its performance on your validation set."
   ]
  },
  {
   "cell_type": "code",
   "execution_count": null,
   "id": "f64b8e36",
   "metadata": {},
   "outputs": [],
   "source": [
    "def Q2():\n",
    "    recipeCount = defaultdict(int)\n",
    "    totalCooked = 0\n",
    "    \n",
    "    threshold = 1.5\n",
    "\n",
    "    for index, row in tqdm(train.iterrows()):\n",
    "        recipeCount[row['recipe_id']] += 1\n",
    "        totalCooked += 1\n",
    "\n",
    "    mostPopular = [(recipeCount[x], x) for x in recipeCount]\n",
    "    mostPopular.sort()\n",
    "    mostPopular.reverse()\n",
    "\n",
    "    return1 = set()\n",
    "    count = 0\n",
    "    for ic, i in mostPopular:\n",
    "        count += ic\n",
    "        return1.add(i)\n",
    "        if count > totalRead / threshold:\n",
    "            break\n",
    "\n",
    "    correct = 0\n",
    "    for index, row in tqdm(valid.iterrows()):\n",
    "        if row['recipe_id'] in return1:\n",
    "            correct += (row['cooked'] != 0)\n",
    "        else:\n",
    "            correct += (row['cooked'] == 0)\n",
    "    \n",
    "    print('Accuracy on Validation set is ' % (correct/len(valid)))"
   ]
  },
  {
   "cell_type": "code",
   "execution_count": null,
   "id": "24eb8ab6",
   "metadata": {},
   "outputs": [],
   "source": [
    "Q2()"
   ]
  },
  {
   "cell_type": "markdown",
   "id": "1772c36e",
   "metadata": {},
   "source": [
    "### Q3\n",
    "An alternate baseline than the one provided might make use of the Jaccard similarity (or another similarity metric). Given a pair (u, g) in the validation set, consider all training items g0 that user u has cooked. For each, compute the Jaccard similarity between g and g0, i.e., users (in the training set) who have made g and users who have made g0. Predict as ‘made’ if the maximum of these Jaccard similarities exceeds a threshold (you may choose the threshold that works best). Report the performance on your validation set."
   ]
  },
  {
   "cell_type": "code",
   "execution_count": null,
   "id": "e0733bb0",
   "metadata": {},
   "outputs": [],
   "source": [
    "def Jaccard(s1, s2):\n",
    "    numer = len(s1.intersection(s2))\n",
    "    denom = len(s1.union(s2))\n",
    "    return numer / denom"
   ]
  },
  {
   "cell_type": "code",
   "execution_count": null,
   "id": "652b1044",
   "metadata": {},
   "outputs": [],
   "source": [
    "userReadBook, BookwasRead = {}, {}\n",
    "for index, row in tqdm(train.iterrows()):\n",
    "    if row['userID'] not in userReadBook:\n",
    "        userReadBook[row['userID']] = {row['bookID']}\n",
    "    else:\n",
    "        userReadBook[row['userID']].add(row['bookID'])\n",
    "    if row['bookID'] not in BookwasRead:\n",
    "        BookwasRead[row['bookID']] = {row['userID']}\n",
    "    else:\n",
    "        BookwasRead[row['bookID']].add(row['userID'])"
   ]
  },
  {
   "cell_type": "code",
   "execution_count": null,
   "id": "06e44670",
   "metadata": {},
   "outputs": [],
   "source": [
    "thresholds = [1/2**i for i in range(1, 10)]\n",
    "acc = []\n",
    "for threshold in thresholds:\n",
    "    print('Evaluating on threshold %.3f ...' % threshold)\n",
    "    correct = 0\n",
    "    for index, row in tqdm(valid.iterrows()):\n",
    "        userReads = userReadBook[row['userID']]\n",
    "        jac = []\n",
    "        for book in userReads:\n",
    "            if row['bookID'] not in BookwasRead:\n",
    "                jac.append(0)\n",
    "            else:\n",
    "                jac.append(Jaccard(BookwasRead[row['bookID']], BookwasRead[book]))\n",
    "                \n",
    "        if max(jac) > threshold:\n",
    "            correct += (row['read'] != 0)\n",
    "        else:\n",
    "            correct += (row['read'] == 0)\n",
    "    \n",
    "    acc.append(correct/len(valid))\n",
    "\n",
    "plt.plot(thresholds, acc, 'b-')\n",
    "plt.xlabel('Threshold')\n",
    "plt.ylabel('Accuracy on Validation Set for different thresholds')\n",
    "plt.show()"
   ]
  },
  {
   "cell_type": "code",
   "execution_count": null,
   "id": "e7e87c05",
   "metadata": {},
   "outputs": [],
   "source": [
    "print('threshold %.3f, accuracy %.3f' % (thresholds[acc.index(max(acc))], max(acc)))"
   ]
  },
  {
   "cell_type": "code",
   "execution_count": 1,
   "id": "dcfdc214",
   "metadata": {},
   "outputs": [],
   "source": [
    "import tensorflow"
   ]
  },
  {
   "cell_type": "code",
   "execution_count": null,
   "id": "42e66497",
   "metadata": {},
   "outputs": [],
   "source": []
  }
 ],
 "metadata": {
  "kernelspec": {
   "display_name": "Python 3 (ipykernel)",
   "language": "python",
   "name": "python3"
  },
  "language_info": {
   "codemirror_mode": {
    "name": "ipython",
    "version": 3
   },
   "file_extension": ".py",
   "mimetype": "text/x-python",
   "name": "python",
   "nbconvert_exporter": "python",
   "pygments_lexer": "ipython3",
   "version": "3.7.11"
  }
 },
 "nbformat": 4,
 "nbformat_minor": 5
}
