{
 "cells": [
  {
   "cell_type": "markdown",
   "id": "5ace1bc3",
   "metadata": {},
   "source": [
    "# CSE 258, Fall 2021: Homework 3"
   ]
  },
  {
   "cell_type": "markdown",
   "id": "15f9dabc",
   "metadata": {},
   "source": [
    "## Tasks (Cook/Make prediction)"
   ]
  },
  {
   "cell_type": "code",
   "execution_count": 122,
   "id": "9d6fbf84",
   "metadata": {},
   "outputs": [],
   "source": [
    "import gzip\n",
    "import csv\n",
    "import random\n",
    "import numpy\n",
    "import matplotlib.pyplot as plt\n",
    "from collections import defaultdict\n",
    "from sklearn import linear_model"
   ]
  },
  {
   "cell_type": "code",
   "execution_count": 2,
   "id": "fdf0334b",
   "metadata": {},
   "outputs": [],
   "source": [
    "def readGz(path):\n",
    "    for l in gzip.open(path, 'rt'):\n",
    "        yield eval(l)"
   ]
  },
  {
   "cell_type": "code",
   "execution_count": 3,
   "id": "21e020c2",
   "metadata": {},
   "outputs": [],
   "source": [
    "def readCSV(path):\n",
    "    f = gzip.open(path, 'rt')\n",
    "    c = csv.reader(f)\n",
    "    header = next(c)\n",
    "    for l in c:\n",
    "        d = dict(zip(header,l))\n",
    "        yield d['user_id'],d['recipe_id'],d"
   ]
  },
  {
   "cell_type": "code",
   "execution_count": 4,
   "id": "da3c783f",
   "metadata": {},
   "outputs": [],
   "source": [
    "def getHeader(path):\n",
    "    f = gzip.open(path, 'rt', encoding = \"utf8\")\n",
    "    header = f.readline()\n",
    "    header = header.strip().split('\\t')\n",
    "    header = header[0].split(',')\n",
    "    return header"
   ]
  },
  {
   "cell_type": "code",
   "execution_count": 5,
   "id": "aed57ef8",
   "metadata": {},
   "outputs": [],
   "source": [
    "data = []\n",
    "train = []\n",
    "valid = []"
   ]
  },
  {
   "cell_type": "markdown",
   "id": "e2e9993e",
   "metadata": {},
   "source": [
    "Load in data and split the training data (‘trainInteractions.csv.gz’) as follows:\\\n",
    "(1) Reviews 1-400,000 for training\\\n",
    "(2) Reviews 400,000-500,000 for validation"
   ]
  },
  {
   "cell_type": "code",
   "execution_count": 7,
   "id": "4697de9b",
   "metadata": {},
   "outputs": [],
   "source": [
    "for user,recipe,d in readCSV(\"trainInteractions.csv.gz\"):\n",
    "  data.append(d)"
   ]
  },
  {
   "cell_type": "code",
   "execution_count": 8,
   "id": "1f767484",
   "metadata": {},
   "outputs": [],
   "source": [
    "header = getHeader(\"trainInteractions.csv.gz\")"
   ]
  },
  {
   "cell_type": "code",
   "execution_count": 9,
   "id": "0244f806",
   "metadata": {},
   "outputs": [],
   "source": [
    "train = data[:400000]\n",
    "valid = data[400000:]"
   ]
  },
  {
   "cell_type": "code",
   "execution_count": 10,
   "id": "089d6ac2",
   "metadata": {},
   "outputs": [
    {
     "data": {
      "text/plain": [
       "{'user_id': '88348277',\n",
       " 'recipe_id': '03969194',\n",
       " 'date': '2004-12-23',\n",
       " 'rating': '5'}"
      ]
     },
     "execution_count": 10,
     "metadata": {},
     "output_type": "execute_result"
    }
   ],
   "source": [
    "train[0]"
   ]
  },
  {
   "cell_type": "markdown",
   "id": "2e86a3ab",
   "metadata": {},
   "source": [
    "Useful precalculation"
   ]
  },
  {
   "cell_type": "code",
   "execution_count": 12,
   "id": "48994b09",
   "metadata": {},
   "outputs": [],
   "source": [
    "recipeCount = defaultdict(int)\n",
    "totalCooked = 0\n",
    "userSet = set()\n",
    "recipeSet = set()\n",
    "userPerRecipe = defaultdict(set)\n",
    "recipePerUser = defaultdict(set)"
   ]
  },
  {
   "cell_type": "code",
   "execution_count": 13,
   "id": "f73ba3e2",
   "metadata": {},
   "outputs": [],
   "source": [
    "for d in train:\n",
    "    user,recipe = d['user_id'], d['recipe_id']\n",
    "    recipeCount[recipe] += 1\n",
    "    totalCooked += 1\n",
    "    userSet.add(user)\n",
    "    recipeSet.add(recipe)\n",
    "    userPerRecipe[recipe].add(user)\n",
    "    recipePerUser[user].add(recipe)"
   ]
  },
  {
   "cell_type": "markdown",
   "id": "87c1737f",
   "metadata": {},
   "source": [
    "### Q1\n",
    "Although we have built a validation set, it only consists of positive samples. For this task we also need examples of user/item pairs corresponding to recipes that weren’t cooked. For each entry (user,recipe) in the validation set, sample a negative entry by randomly choosing a recipe that user hasn’t cooked. Evaluate the performance (accuracy) of the baseline model on the validation set you have built."
   ]
  },
  {
   "cell_type": "code",
   "execution_count": 14,
   "id": "ba48023a",
   "metadata": {},
   "outputs": [],
   "source": [
    "def sampleNegative(valid):\n",
    "    NegValid = valid\n",
    "    \n",
    "    recipeList = list(recipeSet)\n",
    "    \n",
    "    for i in range(len(valid)):\n",
    "        d = valid[i]\n",
    "        u = d['user_id']\n",
    "        r = random.choice(recipeList)\n",
    "        while r in recipePerUser[u]:\n",
    "            r = random.choice(recipeList)\n",
    "        field = [u, r, \"\", \"-1\"]\n",
    "        item = dict(zip(header, field))\n",
    "        NegValid.append(item)\n",
    "\n",
    "    return NegValid"
   ]
  },
  {
   "cell_type": "code",
   "execution_count": 15,
   "id": "fc33c2c3",
   "metadata": {},
   "outputs": [],
   "source": [
    "valid = sampleNegative(valid)"
   ]
  },
  {
   "cell_type": "code",
   "execution_count": 24,
   "id": "2e59f771",
   "metadata": {},
   "outputs": [],
   "source": [
    "def Q1():    \n",
    "    mostPopular = [(recipeCount[x], x) for x in recipeCount]\n",
    "    mostPopular.sort()\n",
    "    mostPopular.reverse()\n",
    "\n",
    "    return1 = set()\n",
    "    count = 0\n",
    "    for ic, i in mostPopular:\n",
    "        count += ic\n",
    "        return1.add(i)\n",
    "        if count > totalCooked / 2:\n",
    "            break\n",
    "\n",
    "    correct = 0\n",
    "    for d in valid:\n",
    "        if d['recipe_id'] in return1:\n",
    "            correct += (d['rating'] != '-1')\n",
    "        else:\n",
    "            correct += (d['rating'] == '-1')\n",
    "    \n",
    "    print(\"Accuracy on Validation set is\")\n",
    "    print(correct/len(valid))"
   ]
  },
  {
   "cell_type": "code",
   "execution_count": 25,
   "id": "6842209a",
   "metadata": {},
   "outputs": [
    {
     "name": "stdout",
     "output_type": "stream",
     "text": [
      "132948\n",
      "200000\n",
      "Accuracy on Validation set is\n",
      "0.66474\n"
     ]
    }
   ],
   "source": [
    "Q1()"
   ]
  },
  {
   "cell_type": "markdown",
   "id": "e4a67e08",
   "metadata": {},
   "source": [
    "### Q2\n",
    "The existing ‘made/cooked prediction’ baseline just returns True if the item in question is ‘popular,’ using a threshold of the 50th percentile of popularity (totalCooked/2). Assuming that the ‘non-made’ test examples are a random sample of user-recipe pairs, this threshold may not be the best one. See if you can find a better threshold and report its performance on your validation set."
   ]
  },
  {
   "cell_type": "code",
   "execution_count": 69,
   "id": "ca6309fa",
   "metadata": {},
   "outputs": [],
   "source": [
    "def Q2():\n",
    "    \n",
    "    threshold = 1.86\n",
    "    \n",
    "    mostPopular = [(recipeCount[x], x) for x in recipeCount]\n",
    "    mostPopular.sort()\n",
    "    mostPopular.reverse()\n",
    "\n",
    "    return1 = set()\n",
    "    count = 0\n",
    "    for ic, i in mostPopular:\n",
    "        count += ic\n",
    "        return1.add(i)\n",
    "        if count > totalCooked / threshold:\n",
    "            break\n",
    "\n",
    "    correct = 0\n",
    "    for d in valid:\n",
    "        if d['recipe_id'] in return1:\n",
    "            correct += (d['rating'] != '-1')\n",
    "        else:\n",
    "            correct += (d['rating'] == '-1')\n",
    "    \n",
    "    print(\"Accuracy on Validation set with threshold \", threshold, \" (totalCooked / threshold)\" \" is\")\n",
    "    print(correct/len(valid))"
   ]
  },
  {
   "cell_type": "code",
   "execution_count": 70,
   "id": "da8ceab7",
   "metadata": {},
   "outputs": [
    {
     "name": "stdout",
     "output_type": "stream",
     "text": [
      "Accuracy on Validation set with threshold  1.86  (totalCooked / threshold) is\n",
      "0.66691\n"
     ]
    }
   ],
   "source": [
    "Q2()"
   ]
  },
  {
   "cell_type": "markdown",
   "id": "68113a57",
   "metadata": {},
   "source": [
    "### Q3\n",
    "An alternate baseline than the one provided might make use of the Jaccard similarity (or another similarity metric). Given a pair $(u, g)$ in the validation set, consider all training items $g_0$ that user $u$ has cooked. For each, compute the Jaccard similarity between $g$ and $g_0$, i.e., users (in the training set) who have made $g$ and users who have made $g_0$. Predict as ‘made’ if the maximum of these Jaccard similarities exceeds a threshold (you may choose the threshold that works best). Report the performance on your validation set."
   ]
  },
  {
   "cell_type": "code",
   "execution_count": 87,
   "id": "fe2324a9",
   "metadata": {},
   "outputs": [],
   "source": [
    "def Jaccard(s1, s2):\n",
    "    numer = len(s1.intersection(s2))\n",
    "    denom = len(s1.union(s2))\n",
    "    if denom == 0:\n",
    "        return 0\n",
    "    return numer / denom"
   ]
  },
  {
   "cell_type": "code",
   "execution_count": 127,
   "id": "6650fcb3",
   "metadata": {},
   "outputs": [],
   "source": [
    "def Q3():\n",
    "    thresholds = numpy.arange(0.001, 0.02, 0.001)\n",
    "    res = []\n",
    "    for threshold in thresholds:\n",
    "        correct = 0\n",
    "        for d in valid:\n",
    "            similarities = [0]\n",
    "            userCooked = recipePerUser[d['user_id']]\n",
    "            for recipe in userCooked:\n",
    "                similarities.append(Jaccard(userPerRecipe[d['recipe_id']], userPerRecipe[recipe]))\n",
    "                \n",
    "            if max(similarities) > threshold:\n",
    "                correct += (d['rating'] != '-1')\n",
    "            else:\n",
    "                correct += (d['rating'] == '-1')\n",
    "\n",
    "        res.append(correct/len(valid))\n",
    "\n",
    "    plt.plot(thresholds, res, 'b-')\n",
    "    plt.xlabel('Threshold')\n",
    "    plt.ylabel('Accuracy for different thresholds')\n",
    "    plt.show()\n",
    "    return res"
   ]
  },
  {
   "cell_type": "code",
   "execution_count": 128,
   "id": "0a94d786",
   "metadata": {},
   "outputs": [
    {
     "data": {
      "image/png": "[encoded data removed]",
      "text/plain": [
       "<Figure size 432x288 with 1 Axes>"
      ]
     },
     "metadata": {
      "needs_background": "light"
     },
     "output_type": "display_data"
    }
   ],
   "source": [
    "res = Q3()"
   ]
  },
  {
   "cell_type": "code",
   "execution_count": 136,
   "id": "72e10a38",
   "metadata": {},
   "outputs": [
    {
     "name": "stdout",
     "output_type": "stream",
     "text": [
      "Accuracy on Validation set with similarity threshold  0.012  is\n",
      "0.570185\n"
     ]
    }
   ],
   "source": [
    "print(\"Accuracy on Validation set with similarity threshold \", 0.001 + res.index(max(res)) * 0.001, \" is\")\n",
    "print(max(res))"
   ]
  },
  {
   "cell_type": "markdown",
   "id": "01dc4561",
   "metadata": {},
   "source": [
    "### Q4\n",
    "Improve the above predictor by incorporating both a Jaccard-based threshold and a popularity based threshold. Report the performance on your validation set."
   ]
  },
  {
   "cell_type": "code",
   "execution_count": 156,
   "id": "7a8732a9",
   "metadata": {},
   "outputs": [],
   "source": [
    "def Q4():\n",
    "    \n",
    "    pop_threshold = 1.69\n",
    "    sim_threshold = 0.012\n",
    "    \n",
    "    mostPopular = [(recipeCount[x], x) for x in recipeCount]\n",
    "    mostPopular.sort()\n",
    "    mostPopular.reverse()\n",
    "\n",
    "    return1 = set()\n",
    "    count = 0\n",
    "    for ic, i in mostPopular:\n",
    "        count += ic\n",
    "        return1.add(i)\n",
    "        if count > totalCooked / pop_threshold:\n",
    "            break\n",
    "\n",
    "    correct = 0\n",
    "    for d in valid:\n",
    "        similarities = [0]\n",
    "        for recipe in recipePerUser[d['user_id']]:\n",
    "            if d['recipe_id'] not in userPerRecipe:\n",
    "                similarities.append(0)\n",
    "            else:\n",
    "                similarities.append(Jaccard(userPerRecipe[d['recipe_id']], userPerRecipe[recipe]))\n",
    "\n",
    "        if max(similarities) > sim_threshold and d['recipe_id'] in return1:\n",
    "                correct += (d['rating'] != '-1')\n",
    "        else:\n",
    "                correct += (d['rating'] == '-1')\n",
    "    \n",
    "    print(\"Accuracy on Validation set with popularity threshold \", pop_threshold, \n",
    "          \" (totalCooked / threshold) and similarity threshold \", sim_threshold, \" is\")\n",
    "    print(correct/len(valid))"
   ]
  },
  {
   "cell_type": "code",
   "execution_count": 157,
   "id": "443f4eb2",
   "metadata": {},
   "outputs": [
    {
     "name": "stdout",
     "output_type": "stream",
     "text": [
      "Accuracy on Validation set with popularity threshold  1.69  (totalCooked / threshold) and similarity threshold  0.012  is\n",
      "0.650425\n"
     ]
    }
   ],
   "source": [
    "Q4()"
   ]
  },
  {
   "cell_type": "markdown",
   "id": "7efc50f5",
   "metadata": {},
   "source": [
    "### Q5\n",
    "To run our model on the test set, we’ll have to use the files ‘stub Made.txt’ to find the user id/recipe id pairs about which we have to make predictions. Using that data, run the above model and upload your solution to Kaggle. Tell us your Kaggle user name. If you’ve already uploaded a better solution to Kaggle, that’s fine too!"
   ]
  },
  {
   "cell_type": "markdown",
   "id": "40803405",
   "metadata": {},
   "source": [
    "Kaggle user name: ZiangX"
   ]
  },
  {
   "cell_type": "code",
   "execution_count": 152,
   "id": "6c364cce",
   "metadata": {},
   "outputs": [],
   "source": [
    "def Q5(popThreshold):\n",
    "    \n",
    "    pop_threshold = popThreshold\n",
    "    sim_threshold = 0.012\n",
    "    \n",
    "    mostPopular = [(recipeCount[x], x) for x in recipeCount]\n",
    "    mostPopular.sort()\n",
    "    mostPopular.reverse()\n",
    "\n",
    "    return1 = set()\n",
    "    count = 0\n",
    "    for ic, i in mostPopular:\n",
    "        count += ic\n",
    "        return1.add(i)\n",
    "        if count > totalCooked / pop_threshold:\n",
    "            break\n",
    "\n",
    "    correct = 0\n",
    "    for d in valid:\n",
    "        similarities = [0]\n",
    "        for recipe in recipePerUser[d['user_id']]:\n",
    "            if d['recipe_id'] not in userPerRecipe:\n",
    "                similarities.append(0)\n",
    "            else:\n",
    "                similarities.append(Jaccard(userPerRecipe[d['recipe_id']], userPerRecipe[recipe]))\n",
    "\n",
    "        if max(similarities) > sim_threshold and d['recipe_id'] in return1:\n",
    "                correct += (d['rating'] != '-1')\n",
    "        else:\n",
    "                correct += (d['rating'] == '-1')\n",
    "                \n",
    "    print(\"Accuracy on Validation set with popularity threshold \", pop_threshold, \n",
    "          \" (totalCooked / threshold) and similarity threshold \", sim_threshold, \" is\")\n",
    "    print(correct/len(valid))\n",
    "    return correct/len(valid)"
   ]
  },
  {
   "cell_type": "code",
   "execution_count": 153,
   "id": "65169230",
   "metadata": {},
   "outputs": [
    {
     "name": "stdout",
     "output_type": "stream",
     "text": [
      "Accuracy on Validation set with popularity threshold  1.6  (totalCooked / threshold) and similarity threshold  0.012  is\n",
      "0.649275\n",
      "Accuracy on Validation set with popularity threshold  1.61  (totalCooked / threshold) and similarity threshold  0.012  is\n",
      "0.64958\n",
      "Accuracy on Validation set with popularity threshold  1.62  (totalCooked / threshold) and similarity threshold  0.012  is\n",
      "0.649785\n",
      "Accuracy on Validation set with popularity threshold  1.6300000000000001  (totalCooked / threshold) and similarity threshold  0.012  is\n",
      "0.64978\n",
      "Accuracy on Validation set with popularity threshold  1.6400000000000001  (totalCooked / threshold) and similarity threshold  0.012  is\n",
      "0.64992\n",
      "Accuracy on Validation set with popularity threshold  1.6500000000000001  (totalCooked / threshold) and similarity threshold  0.012  is\n",
      "0.65008\n",
      "Accuracy on Validation set with popularity threshold  1.6600000000000001  (totalCooked / threshold) and similarity threshold  0.012  is\n",
      "0.65014\n",
      "Accuracy on Validation set with popularity threshold  1.6700000000000002  (totalCooked / threshold) and similarity threshold  0.012  is\n",
      "0.650075\n",
      "Accuracy on Validation set with popularity threshold  1.6800000000000002  (totalCooked / threshold) and similarity threshold  0.012  is\n",
      "0.650375\n",
      "Accuracy on Validation set with popularity threshold  1.6900000000000002  (totalCooked / threshold) and similarity threshold  0.012  is\n",
      "0.650425\n",
      "Accuracy on Validation set with popularity threshold  1.7000000000000002  (totalCooked / threshold) and similarity threshold  0.012  is\n",
      "0.650255\n",
      "Accuracy on Validation set with popularity threshold  1.7100000000000002  (totalCooked / threshold) and similarity threshold  0.012  is\n",
      "0.650085\n",
      "Accuracy on Validation set with popularity threshold  1.7200000000000002  (totalCooked / threshold) and similarity threshold  0.012  is\n",
      "0.65005\n",
      "Accuracy on Validation set with popularity threshold  1.7300000000000002  (totalCooked / threshold) and similarity threshold  0.012  is\n",
      "0.649985\n",
      "Accuracy on Validation set with popularity threshold  1.7400000000000002  (totalCooked / threshold) and similarity threshold  0.012  is\n",
      "0.64973\n",
      "Accuracy on Validation set with popularity threshold  1.7500000000000002  (totalCooked / threshold) and similarity threshold  0.012  is\n",
      "0.64945\n",
      "Accuracy on Validation set with popularity threshold  1.7600000000000002  (totalCooked / threshold) and similarity threshold  0.012  is\n",
      "0.649275\n",
      "Accuracy on Validation set with popularity threshold  1.7700000000000002  (totalCooked / threshold) and similarity threshold  0.012  is\n",
      "0.64924\n",
      "Accuracy on Validation set with popularity threshold  1.7800000000000002  (totalCooked / threshold) and similarity threshold  0.012  is\n",
      "0.649255\n",
      "Accuracy on Validation set with popularity threshold  1.7900000000000003  (totalCooked / threshold) and similarity threshold  0.012  is\n",
      "0.649095\n",
      "Accuracy on Validation set with popularity threshold  1.8000000000000003  (totalCooked / threshold) and similarity threshold  0.012  is\n",
      "0.64897\n",
      "Accuracy on Validation set with popularity threshold  1.8100000000000003  (totalCooked / threshold) and similarity threshold  0.012  is\n",
      "0.64885\n",
      "Accuracy on Validation set with popularity threshold  1.8200000000000003  (totalCooked / threshold) and similarity threshold  0.012  is\n",
      "0.64876\n",
      "Accuracy on Validation set with popularity threshold  1.8300000000000003  (totalCooked / threshold) and similarity threshold  0.012  is\n",
      "0.64872\n",
      "Accuracy on Validation set with popularity threshold  1.8400000000000003  (totalCooked / threshold) and similarity threshold  0.012  is\n",
      "0.648565\n",
      "Accuracy on Validation set with popularity threshold  1.8500000000000003  (totalCooked / threshold) and similarity threshold  0.012  is\n",
      "0.648335\n"
     ]
    }
   ],
   "source": [
    "threshold_pops = numpy.arange(1.6, 1.86, 0.01)\n",
    "acc = []\n",
    "for threshold_pop in threshold_pops:\n",
    "    acc.append(Q5(threshold_pop))"
   ]
  },
  {
   "cell_type": "code",
   "execution_count": 154,
   "id": "c8ead80c",
   "metadata": {},
   "outputs": [
    {
     "data": {
      "image/png": "[encoded data removed]",
      "text/plain": [
       "<Figure size 432x288 with 1 Axes>"
      ]
     },
     "metadata": {
      "needs_background": "light"
     },
     "output_type": "display_data"
    }
   ],
   "source": [
    "plt.plot(threshold_pops, acc)\n",
    "plt.xlabel('Threshold on popularity')\n",
    "plt.ylabel('Accuracy on Validation Set for different thresholds')\n",
    "plt.show()"
   ]
  },
  {
   "cell_type": "code",
   "execution_count": 155,
   "id": "91666535",
   "metadata": {},
   "outputs": [
    {
     "data": {
      "text/plain": [
       "0.650425"
      ]
     },
     "execution_count": 155,
     "metadata": {},
     "output_type": "execute_result"
    }
   ],
   "source": [
    "max(acc)"
   ]
  },
  {
   "cell_type": "code",
   "execution_count": null,
   "id": "1cdb64b3",
   "metadata": {},
   "outputs": [],
   "source": []
  },
  {
   "cell_type": "code",
   "execution_count": null,
   "id": "41d94450",
   "metadata": {},
   "outputs": [],
   "source": []
  },
  {
   "cell_type": "code",
   "execution_count": null,
   "id": "e0ca41d5",
   "metadata": {},
   "outputs": [],
   "source": []
  },
  {
   "cell_type": "code",
   "execution_count": 160,
   "id": "f01c4a30",
   "metadata": {},
   "outputs": [],
   "source": [
    "def Q6():\n",
    "    \n",
    "    pop_threshold = 1.69\n",
    "    sim_threshold = 0.012\n",
    "    \n",
    "    mostPopular = [(recipeCount[x], x) for x in recipeCount]\n",
    "    mostPopular.sort()\n",
    "    mostPopular.reverse()\n",
    "\n",
    "    return1 = set()\n",
    "    count = 0\n",
    "    for ic, i in mostPopular:\n",
    "        count += ic\n",
    "        return1.add(i)\n",
    "        if count > totalCooked / pop_threshold:\n",
    "            break               \n",
    "                \n",
    "    predictions = open(\"predictions_Made.txt\", 'w')\n",
    "    for l in open(\"stub_Made.txt\"):\n",
    "        if l.startswith(\"user_id\"):\n",
    "            predictions.write(l)\n",
    "            continue\n",
    "        u,i = l.strip().split('-')\n",
    "        similarities = [0]\n",
    "        for recipe in recipePerUser[u]:\n",
    "            if i not in userPerRecipe:\n",
    "                similarities.append(0)\n",
    "            else:\n",
    "                similarities.append(Jaccard(userPerRecipe[i], userPerRecipe[recipe]))  \n",
    "        \n",
    "        if max(similarities) > sim_threshold and i in return1:\n",
    "            predictions.write(u + '-' + i + \",1\\n\")\n",
    "        else:\n",
    "            predictions.write(u + '-' + i + \",0\\n\")\n",
    "\n",
    "    predictions.close()"
   ]
  },
  {
   "cell_type": "code",
   "execution_count": 161,
   "id": "7edd4981",
   "metadata": {},
   "outputs": [],
   "source": [
    "Q6()"
   ]
  },
  {
   "cell_type": "code",
   "execution_count": null,
   "id": "9fd5cf3a",
   "metadata": {},
   "outputs": [],
   "source": []
  }
 ],
 "metadata": {
  "kernelspec": {
   "display_name": "Python 3",
   "language": "python",
   "name": "python3"
  },
  "language_info": {
   "codemirror_mode": {
    "name": "ipython",
    "version": 3
   },
   "file_extension": ".py",
   "mimetype": "text/x-python",
   "name": "python",
   "nbconvert_exporter": "python",
   "pygments_lexer": "ipython3",
   "version": "3.8.8"
  }
 },
 "nbformat": 4,
 "nbformat_minor": 5
}
