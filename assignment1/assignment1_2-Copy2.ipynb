{
 "cells": [
  {
   "cell_type": "code",
   "execution_count": 1,
   "id": "9d6fbf84",
   "metadata": {},
   "outputs": [],
   "source": [
    "import gzip\n",
    "import csv\n",
    "import random\n",
    "import numpy\n",
    "import math\n",
    "import pandas as pd\n",
    "import matplotlib.pyplot as plt\n",
    "from collections import defaultdict\n",
    "from sklearn import linear_model\n",
    "from surprise import SVD, Reader, Dataset\n",
    "from surprise.model_selection import train_test_split, GridSearchCV"
   ]
  },
  {
   "cell_type": "code",
   "execution_count": 2,
   "id": "fdf0334b",
   "metadata": {},
   "outputs": [],
   "source": [
    "def readGz(path):\n",
    "    for l in gzip.open(path, 'rt'):\n",
    "        yield eval(l)"
   ]
  },
  {
   "cell_type": "code",
   "execution_count": 3,
   "id": "21e020c2",
   "metadata": {},
   "outputs": [],
   "source": [
    "def readCSV(path):\n",
    "    f = gzip.open(path, 'rt')\n",
    "    c = csv.reader(f)\n",
    "    header = next(c)\n",
    "    for l in c:\n",
    "        d = dict(zip(header,l))\n",
    "        yield d['user_id'],d['recipe_id'],d"
   ]
  },
  {
   "cell_type": "code",
   "execution_count": 4,
   "id": "df4d16f0",
   "metadata": {},
   "outputs": [],
   "source": [
    "def getHeader(path):\n",
    "    f = gzip.open(path, 'rt', encoding = \"utf8\")\n",
    "    header = f.readline()\n",
    "    header = header.strip().split('\\t')\n",
    "    header = header[0].split(',')\n",
    "    return header"
   ]
  },
  {
   "cell_type": "code",
   "execution_count": 5,
   "id": "e1deb124",
   "metadata": {},
   "outputs": [],
   "source": [
    "# dataset = []\n",
    "# train = []\n",
    "# valid = []"
   ]
  },
  {
   "cell_type": "code",
   "execution_count": 6,
   "id": "a34be7ba",
   "metadata": {},
   "outputs": [],
   "source": [
    "# for user,recipe,d in readCSV(\"trainInteractions.csv.gz\"):\n",
    "#     data.append(d)"
   ]
  },
  {
   "cell_type": "code",
   "execution_count": 7,
   "id": "bcf5809c",
   "metadata": {},
   "outputs": [],
   "source": [
    "# header = getHeader(\"trainInteractions.csv.gz\")"
   ]
  },
  {
   "cell_type": "code",
   "execution_count": 8,
   "id": "1e96f4ea",
   "metadata": {},
   "outputs": [],
   "source": [
    "# recipeCount = defaultdict(int)\n",
    "# totalCooked = 0\n",
    "# userSet = set()\n",
    "# recipeSet = set()\n",
    "# userPerRecipe = defaultdict(set)\n",
    "# recipePerUser = defaultdict(set)\n",
    "# ratingDict = {}"
   ]
  },
  {
   "cell_type": "code",
   "execution_count": 9,
   "id": "84bac103",
   "metadata": {},
   "outputs": [],
   "source": [
    "# for d in data:\n",
    "#     user,recipe = d['user_id'], d['recipe_id']\n",
    "#     recipeCount[recipe] += 1\n",
    "#     totalCooked += 1\n",
    "#     userSet.add(user)\n",
    "#     recipeSet.add(recipe)\n",
    "#     userPerRecipe[recipe].add(user)\n",
    "#     recipePerUser[user].add(recipe)\n",
    "#     ratingDict[(user,recipe)] = int(d['rating'])"
   ]
  },
  {
   "cell_type": "code",
   "execution_count": 10,
   "id": "ee90c1b3",
   "metadata": {},
   "outputs": [],
   "source": [
    "# userIDs = {}\n",
    "# itemIDs = {}\n",
    "# interactions = []\n",
    "\n",
    "# for d in dataset:\n",
    "#     u = d['user_id']\n",
    "#     i = d['recipe_id']\n",
    "#     r = int(d['rating'])\n",
    "#     if not u in userIDs: userIDs[u] = len(userIDs)\n",
    "#     if not i in itemIDs: itemIDs[i] = len(itemIDs)\n",
    "#     interactions.append((u,i,r))"
   ]
  },
  {
   "cell_type": "code",
   "execution_count": 11,
   "id": "2082518f",
   "metadata": {},
   "outputs": [],
   "source": [
    "# interactionsTrain = interactions"
   ]
  },
  {
   "cell_type": "code",
   "execution_count": null,
   "id": "52507015",
   "metadata": {},
   "outputs": [],
   "source": []
  },
  {
   "cell_type": "code",
   "execution_count": 12,
   "id": "f3ca67a0",
   "metadata": {},
   "outputs": [],
   "source": [
    "reader = Reader(line_format = 'user item timestamp rating', sep = ',', skip_lines = 1)\n",
    "data = Dataset.load_from_file(\"trainInteractions.csv\", reader=reader)"
   ]
  },
  {
   "cell_type": "code",
   "execution_count": 13,
   "id": "d038f694",
   "metadata": {},
   "outputs": [],
   "source": [
    "# pd.DataFrame(data.__dict__['raw_ratings'], columns=['user_id','item_id','rating','timestamp'])"
   ]
  },
  {
   "cell_type": "code",
   "execution_count": 14,
   "id": "bc9c78e3",
   "metadata": {},
   "outputs": [],
   "source": [
    "trainset, testset = train_test_split(data, test_size = None, train_size = 1.0)"
   ]
  },
  {
   "cell_type": "code",
   "execution_count": null,
   "id": "1ba29ec9",
   "metadata": {},
   "outputs": [],
   "source": []
  },
  {
   "cell_type": "code",
   "execution_count": 15,
   "id": "ec45c2b5",
   "metadata": {},
   "outputs": [],
   "source": [
    "model = SVD(n_factors = 10, reg_all = 0.18)"
   ]
  },
  {
   "cell_type": "code",
   "execution_count": 16,
   "id": "fe8c137f",
   "metadata": {},
   "outputs": [
    {
     "data": {
      "text/plain": [
       "<surprise.prediction_algorithms.matrix_factorization.SVD at 0x7ffdb8893a60>"
      ]
     },
     "execution_count": 16,
     "metadata": {},
     "output_type": "execute_result"
    }
   ],
   "source": [
    "model.fit(trainset)"
   ]
  },
  {
   "cell_type": "code",
   "execution_count": null,
   "id": "95b25bbc",
   "metadata": {},
   "outputs": [],
   "source": []
  },
  {
   "cell_type": "code",
   "execution_count": null,
   "id": "eebce60f",
   "metadata": {},
   "outputs": [],
   "source": []
  },
  {
   "cell_type": "code",
   "execution_count": null,
   "id": "783f6cd2",
   "metadata": {},
   "outputs": [],
   "source": [
    "# predictions = model.test(testset)"
   ]
  },
  {
   "cell_type": "code",
   "execution_count": null,
   "id": "8cf63d4a",
   "metadata": {},
   "outputs": [],
   "source": [
    "# sse = 0\n",
    "# for p in predictions:\n",
    "#     sse += (p.r_ui - p.est)**2\n",
    "\n",
    "# print(sse / len(predictions))"
   ]
  },
  {
   "cell_type": "code",
   "execution_count": null,
   "id": "4eca6c40",
   "metadata": {},
   "outputs": [],
   "source": []
  },
  {
   "cell_type": "code",
   "execution_count": null,
   "id": "87314fca",
   "metadata": {},
   "outputs": [],
   "source": []
  },
  {
   "cell_type": "code",
   "execution_count": null,
   "id": "27dce0fa",
   "metadata": {},
   "outputs": [],
   "source": [
    "# param_grid = {'n_epochs': [5, 30], 'lr_all': [0.002, 0.005],\n",
    "#               'reg_all': [-1, 1]}\n",
    "# grid_search = GridSearchCV(SVD, param_grid, measures=['mae'], cv = 5)\n",
    "# grid_search.fit(data)"
   ]
  },
  {
   "cell_type": "code",
   "execution_count": null,
   "id": "fd6ff768",
   "metadata": {},
   "outputs": [],
   "source": [
    "# print(grid_search.best_params['mae'])"
   ]
  },
  {
   "cell_type": "code",
   "execution_count": null,
   "id": "14458002",
   "metadata": {},
   "outputs": [],
   "source": []
  },
  {
   "cell_type": "code",
   "execution_count": null,
   "id": "9fc19072",
   "metadata": {},
   "outputs": [],
   "source": []
  },
  {
   "cell_type": "code",
   "execution_count": 17,
   "id": "09ee8f4f",
   "metadata": {},
   "outputs": [],
   "source": [
    "# allRatings = []\n",
    "# userRatings = defaultdict(list)\n",
    "# itemRatings = defaultdict(list)\n",
    "\n",
    "# for user,recipe,d in readCSV(\"trainInteractions.csv.gz\"):\n",
    "#     r = int(d['rating'])\n",
    "#     allRatings.append(r)\n",
    "#     userRatings[user].append(r)\n",
    "#     itemRatings[recipe].append(r)\n",
    "\n",
    "# globalAverage = sum(allRatings) / len(allRatings)\n",
    "# userAverage = {}\n",
    "# itemAverage = {}\n",
    "# for u in userRatings:\n",
    "#     userAverage[u] = sum(userRatings[u]) / len(userRatings[u])\n",
    "# for i in itemRatings:\n",
    "#     itemAverage[i] = sum(itemRatings[i]) / len(itemRatings[i])\n",
    "\n",
    "predictions = open(\"predictions_Rated_SVD13.txt\", 'w')\n",
    "for l in open(\"stub_Rated.txt\"):\n",
    "    if l.startswith(\"user_id\"):\n",
    "        #header\n",
    "        predictions.write(l)\n",
    "        continue\n",
    "    u,i = l.strip().split('-')\n",
    "    predictions.write(u + '-' + i + ',' + str(model.predict(u, i).est) + '\\n')\n",
    "#     if u in userIDs and i in itemIDs:\n",
    "#         predictions.write(u + '-' + i + ',' + str(model.predict(u, i).est) + '\\n')\n",
    "#     elif i in itemAverage:\n",
    "#         predictions.write(u + '-' + i + ',' + str(itemAverage[i]) + '\\n')\n",
    "#     elif u in userAverage:\n",
    "#         predictions.write(u + '-' + i + ',' + str(userAverage[u]) + '\\n')\n",
    "#     else:\n",
    "#         predictions.write(u + '-' + i + ',' + str(globalAverage) + '\\n')\n",
    "\n",
    "predictions.close()"
   ]
  },
  {
   "cell_type": "code",
   "execution_count": null,
   "id": "69bd0ca2",
   "metadata": {},
   "outputs": [],
   "source": []
  }
 ],
 "metadata": {
  "kernelspec": {
   "display_name": "Python [conda env:root] *",
   "language": "python",
   "name": "conda-root-py"
  },
  "language_info": {
   "codemirror_mode": {
    "name": "ipython",
    "version": 3
   },
   "file_extension": ".py",
   "mimetype": "text/x-python",
   "name": "python",
   "nbconvert_exporter": "python",
   "pygments_lexer": "ipython3",
   "version": "3.8.8"
  }
 },
 "nbformat": 4,
 "nbformat_minor": 5
}
