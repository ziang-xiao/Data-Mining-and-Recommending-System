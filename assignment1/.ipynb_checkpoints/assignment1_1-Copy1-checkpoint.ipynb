{
 "cells": [
  {
   "cell_type": "code",
   "execution_count": 1,
   "id": "9d6fbf84",
   "metadata": {},
   "outputs": [],
   "source": [
    "import gzip\n",
    "import csv\n",
    "import random\n",
    "import numpy\n",
    "import math\n",
    "import matplotlib.pyplot as plt\n",
    "from collections import defaultdict\n",
    "from sklearn import linear_model"
   ]
  },
  {
   "cell_type": "code",
   "execution_count": 2,
   "id": "fdf0334b",
   "metadata": {},
   "outputs": [],
   "source": [
    "def readGz(path):\n",
    "    for l in gzip.open(path, 'rt'):\n",
    "        yield eval(l)"
   ]
  },
  {
   "cell_type": "code",
   "execution_count": 3,
   "id": "21e020c2",
   "metadata": {},
   "outputs": [],
   "source": [
    "def readCSV(path):\n",
    "    f = gzip.open(path, 'rt')\n",
    "    c = csv.reader(f)\n",
    "    header = next(c)\n",
    "    for l in c:\n",
    "        d = dict(zip(header,l))\n",
    "        yield d['user_id'],d['recipe_id'],d"
   ]
  },
  {
   "cell_type": "code",
   "execution_count": 4,
   "id": "df4d16f0",
   "metadata": {},
   "outputs": [],
   "source": [
    "def getHeader(path):\n",
    "    f = gzip.open(path, 'rt', encoding = \"utf8\")\n",
    "    header = f.readline()\n",
    "    header = header.strip().split('\\t')\n",
    "    header = header[0].split(',')\n",
    "    return header"
   ]
  },
  {
   "cell_type": "code",
   "execution_count": 5,
   "id": "249a278c",
   "metadata": {},
   "outputs": [],
   "source": [
    "def parse(f):\n",
    "    for l in gzip.open(f):\n",
    "        yield eval(l)"
   ]
  },
  {
   "cell_type": "code",
   "execution_count": 6,
   "id": "0ea2e9a2",
   "metadata": {},
   "outputs": [],
   "source": [
    "dataset = list(parse(\"trainRecipes.json.gz\"))"
   ]
  },
  {
   "cell_type": "code",
   "execution_count": 7,
   "id": "7abb4056",
   "metadata": {},
   "outputs": [
    {
     "data": {
      "text/plain": [
       "200000"
      ]
     },
     "execution_count": 7,
     "metadata": {},
     "output_type": "execute_result"
    }
   ],
   "source": [
    "len(dataset)"
   ]
  },
  {
   "cell_type": "code",
   "execution_count": 8,
   "id": "e1deb124",
   "metadata": {},
   "outputs": [],
   "source": [
    "data = []\n",
    "train = []\n",
    "valid = []"
   ]
  },
  {
   "cell_type": "code",
   "execution_count": 9,
   "id": "a34be7ba",
   "metadata": {},
   "outputs": [],
   "source": [
    "for user,recipe,d in readCSV(\"trainInteractions.csv.gz\"):\n",
    "    data.append(d)"
   ]
  },
  {
   "cell_type": "code",
   "execution_count": 10,
   "id": "bcf5809c",
   "metadata": {},
   "outputs": [],
   "source": [
    "header = getHeader(\"trainInteractions.csv.gz\")"
   ]
  },
  {
   "cell_type": "code",
   "execution_count": 11,
   "id": "5c60c4bf",
   "metadata": {},
   "outputs": [],
   "source": [
    "train = data[:400000]\n",
    "valid = data[400000:]"
   ]
  },
  {
   "cell_type": "markdown",
   "id": "2e1a7b82",
   "metadata": {},
   "source": [
    "Useful precalculation"
   ]
  },
  {
   "cell_type": "code",
   "execution_count": 12,
   "id": "1e96f4ea",
   "metadata": {},
   "outputs": [],
   "source": [
    "recipeCount = defaultdict(int)\n",
    "totalCooked = 0\n",
    "userSet = set()\n",
    "recipeSet = set()\n",
    "userPerRecipe = defaultdict(set)\n",
    "recipePerUser = defaultdict(set)\n",
    "ratingDict = {}"
   ]
  },
  {
   "cell_type": "code",
   "execution_count": 13,
   "id": "84bac103",
   "metadata": {},
   "outputs": [],
   "source": [
    "for d in train:\n",
    "    user,recipe = d['user_id'], d['recipe_id']\n",
    "    recipeCount[recipe] += 1\n",
    "    totalCooked += 1\n",
    "    userSet.add(user)\n",
    "    recipeSet.add(recipe)\n",
    "    userPerRecipe[recipe].add(user)\n",
    "    recipePerUser[user].add(recipe)\n",
    "    ratingDict[(user,recipe)] = int(d['rating'])"
   ]
  },
  {
   "cell_type": "code",
   "execution_count": 14,
   "id": "870c2f58",
   "metadata": {},
   "outputs": [],
   "source": [
    "userAverages = {}\n",
    "recipeAverages = {}\n",
    "\n",
    "for u in recipePerUser:\n",
    "    rs = [ratingDict[(u,i)] for i in recipePerUser[u]]\n",
    "    if len(rs) == 0:\n",
    "        userAverages[u] = 0\n",
    "        continue\n",
    "    userAverages[u] = sum(rs) / len(rs)\n",
    "    \n",
    "for i in userPerRecipe:\n",
    "    rs = [ratingDict[(u,i)] for u in userPerRecipe[i]]\n",
    "    if len(rs) == 0:\n",
    "        recipeAverages[i] = 0\n",
    "        continue\n",
    "    recipeAverages[i] = sum(rs) / len(rs)"
   ]
  },
  {
   "cell_type": "markdown",
   "id": "68113a57",
   "metadata": {},
   "source": [
    "Jaccard"
   ]
  },
  {
   "cell_type": "code",
   "execution_count": 15,
   "id": "fe2324a9",
   "metadata": {},
   "outputs": [],
   "source": [
    "def Jaccard(s1, s2):\n",
    "    numer = len(s1.intersection(s2))\n",
    "    denom = len(s1.union(s2))\n",
    "    if denom == 0:\n",
    "        return 0\n",
    "    return numer / denom"
   ]
  },
  {
   "cell_type": "markdown",
   "id": "aacd97e5",
   "metadata": {},
   "source": [
    "Cosine"
   ]
  },
  {
   "cell_type": "code",
   "execution_count": 16,
   "id": "69baf2e1",
   "metadata": {},
   "outputs": [],
   "source": [
    "def Cosine(i1, i2):\n",
    "    # Between two items\n",
    "    inter = userPerRecipe[i1].intersection(userPerRecipe[i2])\n",
    "    numer = 0\n",
    "    denom1 = 0\n",
    "    denom2 = 0\n",
    "    for u in inter:\n",
    "        numer += ratingDict[(u,i1)]*ratingDict[(u,i2)]\n",
    "    for u in userPerRecipe[i1]:\n",
    "        denom1 += ratingDict[(u,i1)]**2\n",
    "    for u in userPerRecipe[i2]:\n",
    "        denom2 += ratingDict[(u,i2)]**2\n",
    "    denom = math.sqrt(denom1) * math.sqrt(denom2)\n",
    "    if denom == 0: return 0\n",
    "    return numer / denom"
   ]
  },
  {
   "cell_type": "markdown",
   "id": "ddd6a584",
   "metadata": {},
   "source": [
    "Pearson Similarity"
   ]
  },
  {
   "cell_type": "code",
   "execution_count": 17,
   "id": "d1688deb",
   "metadata": {},
   "outputs": [],
   "source": [
    "def Pearson(i1, i2):\n",
    "    # Between two items\n",
    "    if i1 in recipeAverages:\n",
    "        iBar1 = recipeAverages[i1]\n",
    "    else:\n",
    "        iBar1 = 0\n",
    "    if i2 in recipeAverages:\n",
    "        iBar2 = recipeAverages[i2]\n",
    "    else:\n",
    "        iBar2 = 0\n",
    "    inter = userPerRecipe[i1].intersection(userPerRecipe[i2])\n",
    "    numer = 0\n",
    "    denom1 = 0\n",
    "    denom2 = 0\n",
    "    for u in inter:\n",
    "        numer += (ratingDict[(u,i1)] - iBar1)*(ratingDict[(u,i2)] - iBar2)\n",
    "    for u in inter: #usersPerItem[i1]:\n",
    "        denom1 += (ratingDict[(u,i1)] - iBar1)**2\n",
    "    #for u in usersPerItem[i2]:\n",
    "        denom2 += (ratingDict[(u,i2)] - iBar2)**2\n",
    "    denom = math.sqrt(denom1) * math.sqrt(denom2)\n",
    "    if denom == 0: return 0\n",
    "    return numer / denom"
   ]
  },
  {
   "cell_type": "code",
   "execution_count": null,
   "id": "4c8d147d",
   "metadata": {},
   "outputs": [],
   "source": [
    "# def Q3():\n",
    "#     thresholds = numpy.arange(-0.5, 0.6, 0.1)\n",
    "#     res = []\n",
    "#     for threshold in thresholds:\n",
    "#         correct = 0\n",
    "#         for d in valid:\n",
    "#             similarities = [0]\n",
    "#             userCooked = recipePerUser[d['user_id']]\n",
    "#             for recipe in userCooked:\n",
    "#                 similarities.append(Pearson(d['recipe_id'], recipe))\n",
    "                \n",
    "#             if max(similarities) > threshold:\n",
    "#                 correct += (d['rating'] != '0')\n",
    "\n",
    "#         res.append(correct/len(valid))\n",
    "#         print(correct/len(valid))\n",
    "#         print(threshold)\n",
    "\n",
    "#     plt.plot(thresholds, res, 'b-')\n",
    "#     plt.xlabel('Threshold')\n",
    "#     plt.ylabel('Accuracy for different thresholds')\n",
    "#     plt.show()\n",
    "#     return res"
   ]
  },
  {
   "cell_type": "code",
   "execution_count": null,
   "id": "a70b1688",
   "metadata": {},
   "outputs": [],
   "source": [
    "# res = Q3()"
   ]
  },
  {
   "cell_type": "code",
   "execution_count": null,
   "id": "074b603a",
   "metadata": {},
   "outputs": [],
   "source": [
    "# print(\"Accuracy on Validation set with similarity threshold \", 0 + res.index(max(res)) * 0.1, \" is\")\n",
    "# print(max(res))"
   ]
  },
  {
   "cell_type": "markdown",
   "id": "f34d00c8",
   "metadata": {},
   "source": [
    "Sim and pop on valid set"
   ]
  },
  {
   "cell_type": "code",
   "execution_count": null,
   "id": "a49a861f",
   "metadata": {},
   "outputs": [],
   "source": [
    "# def Q4():\n",
    "    \n",
    "#     pop_threshold = 1.77\n",
    "#     sim_threshold = 0\n",
    "    \n",
    "#     mostPopular = [(recipeCount[x], x) for x in recipeCount]\n",
    "#     mostPopular.sort()\n",
    "#     mostPopular.reverse()\n",
    "\n",
    "#     return1 = set()\n",
    "#     count = 0\n",
    "#     for ic, i in mostPopular:\n",
    "#         count += ic\n",
    "#         return1.add(i)\n",
    "#         if count > totalCooked / pop_threshold:\n",
    "#             break\n",
    "\n",
    "#     correct = 0\n",
    "#     for d in valid:\n",
    "#         similarities = [0]\n",
    "#         userCooked = recipePerUser[d['user_id']]\n",
    "#         for recipe in userCooked:\n",
    "#             similarities.append(Pearson(d['recipe_id'], recipe))\n",
    "\n",
    "#         if max(similarities) > sim_threshold or d['recipe_id'] in return1:\n",
    "#             correct += (d['rating'] != '0')\n",
    "            \n",
    "# #         if max(similarities) > sim_threshold:\n",
    "# #             correct += (d['rating'] != '0')\n",
    "    \n",
    "#     print(\"Accuracy on Validation set with \\npopularity threshold \", pop_threshold, \n",
    "#           \" (totalCooked / threshold) \\nand similarity threshold \", sim_threshold, \" is\")\n",
    "#     print(correct/len(valid))"
   ]
  },
  {
   "cell_type": "code",
   "execution_count": null,
   "id": "832ff693",
   "metadata": {},
   "outputs": [],
   "source": [
    "# Q4()"
   ]
  },
  {
   "cell_type": "code",
   "execution_count": null,
   "id": "dcff7953",
   "metadata": {},
   "outputs": [],
   "source": []
  },
  {
   "cell_type": "code",
   "execution_count": null,
   "id": "9bae484d",
   "metadata": {},
   "outputs": [],
   "source": [
    "# Utility data structures\n",
    "ingsPerItem = defaultdict(set)\n",
    "itemsPerIng = defaultdict(set)"
   ]
  },
  {
   "cell_type": "code",
   "execution_count": null,
   "id": "911c4b19",
   "metadata": {},
   "outputs": [],
   "source": [
    "for d in dataset:\n",
    "    r = d['recipe_id']\n",
    "    for i in d['ingredients']:\n",
    "        ingsPerItem[r].add(i)\n",
    "        itemsPerIng[i].add(r)"
   ]
  },
  {
   "cell_type": "code",
   "execution_count": null,
   "id": "93645314",
   "metadata": {},
   "outputs": [],
   "source": [
    "def Q4():\n",
    "    \n",
    "    pop_threshold = 1.77\n",
    "    sim_threshold = 0.012\n",
    "    \n",
    "    mostPopular = [(recipeCount[x], x) for x in recipeCount]\n",
    "    mostPopular.sort()\n",
    "    mostPopular.reverse()\n",
    "\n",
    "    return1 = set()\n",
    "    count = 0\n",
    "    for ic, i in mostPopular:\n",
    "        count += ic\n",
    "        return1.add(i)\n",
    "        if count > totalCooked / pop_threshold:\n",
    "            break\n",
    "\n",
    "    correct = 0\n",
    "    for d in valid:\n",
    "        similarities = [0]\n",
    "        ings = ingsPerItem[d['recipe_id']]\n",
    "        for i2 in ingsPerItem:\n",
    "            if i2 == i: continue\n",
    "            \n",
    "            sim = Jaccard(ings, ingsPerItem[i2])\n",
    "            similarities.append(sim)\n",
    "\n",
    "        if max(similarities) > sim_threshold or d['recipe_id'] in return1:\n",
    "            correct += (d['rating'] != '0')\n",
    "    \n",
    "    print(\"Accuracy on Validation set with \\npopularity threshold \", pop_threshold, \n",
    "          \" (totalCooked / threshold) \\nand similarity threshold \", sim_threshold, \" is\")\n",
    "    print(correct/len(valid))"
   ]
  },
  {
   "cell_type": "code",
   "execution_count": null,
   "id": "3b993694",
   "metadata": {},
   "outputs": [],
   "source": [
    "Q4()"
   ]
  },
  {
   "cell_type": "code",
   "execution_count": null,
   "id": "cd841fbd",
   "metadata": {},
   "outputs": [],
   "source": []
  },
  {
   "cell_type": "code",
   "execution_count": null,
   "id": "b2083e8a",
   "metadata": {},
   "outputs": [],
   "source": []
  },
  {
   "cell_type": "code",
   "execution_count": null,
   "id": "4ddd2aee",
   "metadata": {},
   "outputs": [],
   "source": [
    "def Q6():\n",
    "    \n",
    "    pop_threshold = 1.77\n",
    "    sim_threshold = 0\n",
    "    \n",
    "    recipeCount = defaultdict(int)\n",
    "    \n",
    "    for d in data:\n",
    "        user,recipe = d['user_id'], d['recipe_id']\n",
    "        recipeCount[recipe] += 1\n",
    "    \n",
    "    mostPopular = [(recipeCount[x], x) for x in recipeCount]\n",
    "    mostPopular.sort()\n",
    "    mostPopular.reverse()\n",
    "\n",
    "    return1 = set()\n",
    "    count = 0\n",
    "    for ic, i in mostPopular:\n",
    "        count += ic\n",
    "        return1.add(i)\n",
    "        if count > totalCooked / pop_threshold:\n",
    "            break\n",
    "\n",
    "    correct = 0\n",
    "    for d in valid:\n",
    "        similarities = [0]\n",
    "        similaritiesIngre = [0]\n",
    "        \n",
    "        if d['user_id'] in recipePerUser:\n",
    "            userCooked = recipePerUser[d['user_id']]\n",
    "            for recipe in userCooked:\n",
    "                similarities.append(Pearson(d['recipe_id'], recipe))\n",
    "        \n",
    "\n",
    "        if max(similarities) > sim_threshold or d['recipe_id'] in return1:\n",
    "            correct += (d['rating'] != '0')\n",
    "    \n",
    "    print(\"Accuracy on Validation set with \\npopularity threshold \", pop_threshold, \n",
    "          \" (totalCooked / threshold) \\nand similarity threshold \", sim_threshold, \" is\")\n",
    "    \n",
    "    print(correct/len(valid))   "
   ]
  },
  {
   "cell_type": "code",
   "execution_count": null,
   "id": "dff70b7b",
   "metadata": {},
   "outputs": [],
   "source": []
  },
  {
   "cell_type": "code",
   "execution_count": null,
   "id": "b76839b1",
   "metadata": {},
   "outputs": [],
   "source": []
  },
  {
   "cell_type": "markdown",
   "id": "3468eb49",
   "metadata": {},
   "source": [
    "Kaggle user name: ZiangX\\\n",
    "Score: 0.67190"
   ]
  },
  {
   "cell_type": "code",
   "execution_count": 20,
   "id": "a1e541cc",
   "metadata": {},
   "outputs": [],
   "source": [
    "def Q5():\n",
    "    \n",
    "    pop_threshold = 1.77\n",
    "    sim_threshold = 0\n",
    "    \n",
    "    recipeCount = defaultdict(int)\n",
    "    \n",
    "    for d in data:\n",
    "        user,recipe = d['user_id'], d['recipe_id']\n",
    "        recipeCount[recipe] += 1\n",
    "    \n",
    "    mostPopular = [(recipeCount[x], x) for x in recipeCount]\n",
    "    mostPopular.sort()\n",
    "    mostPopular.reverse()\n",
    "\n",
    "    return1 = set()\n",
    "    count = 0\n",
    "    for ic, i in mostPopular:\n",
    "        count += ic\n",
    "        return1.add(i)\n",
    "        if count > totalCooked / pop_threshold:\n",
    "            break               \n",
    "                \n",
    "    predictions = open(\"predictions_Made1.77.txt\", 'w')\n",
    "    for l in open(\"stub_Made.txt\"):\n",
    "        if l.startswith(\"user_id\"):\n",
    "            predictions.write(l)\n",
    "            continue\n",
    "        u,i = l.strip().split('-')\n",
    "        similarities = [0]\n",
    "        \n",
    "        if u in recipePerUser:\n",
    "            for recipe in recipePerUser[u]:\n",
    "                similarities.append(Pearson(i, recipe))\n",
    "        \n",
    "        if max(similarities) > sim_threshold or i in return1:\n",
    "            predictions.write(u + '-' + i + \",1\\n\")\n",
    "        else:\n",
    "            predictions.write(u + '-' + i + \",0\\n\")\n",
    "\n",
    "    predictions.close()"
   ]
  },
  {
   "cell_type": "code",
   "execution_count": 21,
   "id": "1f835966",
   "metadata": {},
   "outputs": [],
   "source": [
    "Q5()"
   ]
  },
  {
   "cell_type": "code",
   "execution_count": null,
   "id": "acc8b282",
   "metadata": {},
   "outputs": [],
   "source": []
  },
  {
   "cell_type": "code",
   "execution_count": null,
   "id": "c5d1b6a3",
   "metadata": {},
   "outputs": [],
   "source": []
  },
  {
   "cell_type": "code",
   "execution_count": null,
   "id": "1533247a",
   "metadata": {},
   "outputs": [],
   "source": [
    "def base():\n",
    "    recipeCount = defaultdict(int)\n",
    "    totalCooked = 0\n",
    "\n",
    "    for user,recipe,_ in readCSV(\"trainInteractions.csv.gz\"):\n",
    "        recipeCount[recipe] += 1\n",
    "        totalCooked += 1\n",
    "\n",
    "    mostPopular = [(recipeCount[x], x) for x in recipeCount]\n",
    "    mostPopular.sort()\n",
    "    mostPopular.reverse()\n",
    "\n",
    "    return1 = set()\n",
    "    count = 0\n",
    "    for ic, i in mostPopular:\n",
    "      count += ic\n",
    "      return1.add(i)\n",
    "      if count > totalCooked/1.88: break\n",
    "\n",
    "    predictions = open(\"predictions_Made25.txt\", 'w')\n",
    "    for l in open(\"stub_Made.txt\"):\n",
    "      if l.startswith(\"user_id\"):\n",
    "        #header\n",
    "        predictions.write(l)\n",
    "        continue\n",
    "      u,i = l.strip().split('-')\n",
    "      if i in return1:\n",
    "        predictions.write(u + '-' + i + \",1\\n\")\n",
    "      else:\n",
    "        predictions.write(u + '-' + i + \",0\\n\")\n",
    "\n",
    "    predictions.close()"
   ]
  },
  {
   "cell_type": "code",
   "execution_count": null,
   "id": "c7cccc23",
   "metadata": {},
   "outputs": [],
   "source": [
    "base()"
   ]
  },
  {
   "cell_type": "code",
   "execution_count": null,
   "id": "33e4b106",
   "metadata": {},
   "outputs": [],
   "source": []
  }
 ],
 "metadata": {
  "kernelspec": {
   "display_name": "Python 3 (ipykernel)",
   "language": "python",
   "name": "python3"
  },
  "language_info": {
   "codemirror_mode": {
    "name": "ipython",
    "version": 3
   },
   "file_extension": ".py",
   "mimetype": "text/x-python",
   "name": "python",
   "nbconvert_exporter": "python",
   "pygments_lexer": "ipython3",
   "version": "3.7.11"
  }
 },
 "nbformat": 4,
 "nbformat_minor": 5
}
