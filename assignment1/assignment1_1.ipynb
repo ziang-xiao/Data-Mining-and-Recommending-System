{
 "cells": [
  {
   "cell_type": "code",
   "execution_count": 1,
   "id": "9d6fbf84",
   "metadata": {},
   "outputs": [],
   "source": [
    "import gzip\n",
    "import csv\n",
    "import random\n",
    "import numpy\n",
    "import math\n",
    "import matplotlib.pyplot as plt\n",
    "from collections import defaultdict\n",
    "from sklearn import linear_model"
   ]
  },
  {
   "cell_type": "code",
   "execution_count": 2,
   "id": "fdf0334b",
   "metadata": {},
   "outputs": [],
   "source": [
    "def readGz(path):\n",
    "    for l in gzip.open(path, 'rt'):\n",
    "        yield eval(l)"
   ]
  },
  {
   "cell_type": "code",
   "execution_count": 3,
   "id": "21e020c2",
   "metadata": {},
   "outputs": [],
   "source": [
    "def readCSV(path):\n",
    "    f = gzip.open(path, 'rt')\n",
    "    c = csv.reader(f)\n",
    "    header = next(c)\n",
    "    for l in c:\n",
    "        d = dict(zip(header,l))\n",
    "        yield d['user_id'],d['recipe_id'],d"
   ]
  },
  {
   "cell_type": "code",
   "execution_count": 4,
   "id": "df4d16f0",
   "metadata": {},
   "outputs": [],
   "source": [
    "def getHeader(path):\n",
    "    f = gzip.open(path, 'rt', encoding = \"utf8\")\n",
    "    header = f.readline()\n",
    "    header = header.strip().split('\\t')\n",
    "    header = header[0].split(',')\n",
    "    return header"
   ]
  },
  {
   "cell_type": "code",
   "execution_count": 5,
   "id": "e1deb124",
   "metadata": {},
   "outputs": [],
   "source": [
    "data = []\n",
    "train = []\n",
    "valid = []"
   ]
  },
  {
   "cell_type": "markdown",
   "id": "daf0b166",
   "metadata": {},
   "source": [
    "Load in data and split the training data (‘trainInteractions.csv.gz’) as follows:\\\n",
    "(1) Reviews 1-400,000 for training\\\n",
    "(2) Reviews 400,000-500,000 for validation"
   ]
  },
  {
   "cell_type": "code",
   "execution_count": 6,
   "id": "a34be7ba",
   "metadata": {},
   "outputs": [],
   "source": [
    "for user,recipe,d in readCSV(\"trainInteractions.csv.gz\"):\n",
    "    data.append(d)"
   ]
  },
  {
   "cell_type": "code",
   "execution_count": 7,
   "id": "bcf5809c",
   "metadata": {},
   "outputs": [],
   "source": [
    "header = getHeader(\"trainInteractions.csv.gz\")"
   ]
  },
  {
   "cell_type": "code",
   "execution_count": 8,
   "id": "5c60c4bf",
   "metadata": {},
   "outputs": [],
   "source": [
    "train = data[:450000]\n",
    "valid = data[450000:]"
   ]
  },
  {
   "cell_type": "markdown",
   "id": "2e1a7b82",
   "metadata": {},
   "source": [
    "Useful precalculation"
   ]
  },
  {
   "cell_type": "code",
   "execution_count": 9,
   "id": "1e96f4ea",
   "metadata": {},
   "outputs": [],
   "source": [
    "recipeCount = defaultdict(int)\n",
    "totalCooked = 0\n",
    "userSet = set()\n",
    "recipeSet = set()\n",
    "userPerRecipe = defaultdict(set)\n",
    "recipePerUser = defaultdict(set)\n",
    "ratingDict = {}"
   ]
  },
  {
   "cell_type": "code",
   "execution_count": 10,
   "id": "84bac103",
   "metadata": {},
   "outputs": [],
   "source": [
    "for d in data:\n",
    "    user,recipe = d['user_id'], d['recipe_id']\n",
    "    recipeCount[recipe] += 1\n",
    "    totalCooked += 1\n",
    "    userSet.add(user)\n",
    "    recipeSet.add(recipe)\n",
    "    userPerRecipe[recipe].add(user)\n",
    "    recipePerUser[user].add(recipe)\n",
    "    ratingDict[(user,recipe)] = int(d['rating'])"
   ]
  },
  {
   "cell_type": "code",
   "execution_count": 11,
   "id": "870c2f58",
   "metadata": {},
   "outputs": [],
   "source": [
    "userAverages = {}\n",
    "recipeAverages = {}\n",
    "\n",
    "for u in recipePerUser:\n",
    "    rs = [ratingDict[(u,i)] for i in recipePerUser[u]]\n",
    "    if len(rs) == 0:\n",
    "        userAverages[u] = 0\n",
    "        continue\n",
    "    userAverages[u] = sum(rs) / len(rs)\n",
    "    \n",
    "for i in userPerRecipe:\n",
    "    rs = [ratingDict[(u,i)] for u in userPerRecipe[i]]\n",
    "    if len(rs) == 0:\n",
    "        recipeAverages[i] = 0\n",
    "        continue\n",
    "    recipeAverages[i] = sum(rs) / len(rs)"
   ]
  },
  {
   "cell_type": "markdown",
   "id": "68113a57",
   "metadata": {},
   "source": [
    "Jaccard"
   ]
  },
  {
   "cell_type": "code",
   "execution_count": 12,
   "id": "fe2324a9",
   "metadata": {},
   "outputs": [],
   "source": [
    "def Jaccard(s1, s2):\n",
    "    numer = len(s1.intersection(s2))\n",
    "    denom = len(s1.union(s2))\n",
    "    if denom == 0:\n",
    "        return 0\n",
    "    return numer / denom"
   ]
  },
  {
   "cell_type": "markdown",
   "id": "aacd97e5",
   "metadata": {},
   "source": [
    "Cosine"
   ]
  },
  {
   "cell_type": "code",
   "execution_count": 13,
   "id": "69baf2e1",
   "metadata": {},
   "outputs": [],
   "source": [
    "def Cosine(i1, i2):\n",
    "    # Between two items\n",
    "    inter = userPerRecipe[i1].intersection(userPerRecipe[i2])\n",
    "    numer = 0\n",
    "    denom1 = 0\n",
    "    denom2 = 0\n",
    "    for u in inter:\n",
    "        numer += ratingDict[(u,i1)]*ratingDict[(u,i2)]\n",
    "    for u in userPerRecipe[i1]:\n",
    "        denom1 += ratingDict[(u,i1)]**2\n",
    "    for u in userPerRecipe[i2]:\n",
    "        denom2 += ratingDict[(u,i2)]**2\n",
    "    denom = math.sqrt(denom1) * math.sqrt(denom2)\n",
    "    if denom == 0: return 0\n",
    "    return numer / denom"
   ]
  },
  {
   "cell_type": "markdown",
   "id": "ddd6a584",
   "metadata": {},
   "source": [
    "Pearson Similarity"
   ]
  },
  {
   "cell_type": "code",
   "execution_count": 14,
   "id": "d1688deb",
   "metadata": {},
   "outputs": [],
   "source": [
    "def Pearson(i1, i2):\n",
    "    # Between two items\n",
    "    if i1 in recipeAverages:\n",
    "        iBar1 = recipeAverages[i1]\n",
    "    else:\n",
    "        iBar1 = 0\n",
    "    if i2 in recipeAverages:\n",
    "        iBar2 = recipeAverages[i2]\n",
    "    else:\n",
    "        iBar2 = 0\n",
    "    inter = userPerRecipe[i1].intersection(userPerRecipe[i2])\n",
    "    numer = 0\n",
    "    denom1 = 0\n",
    "    denom2 = 0\n",
    "    for u in inter:\n",
    "        numer += (ratingDict[(u,i1)] - iBar1)*(ratingDict[(u,i2)] - iBar2)\n",
    "    for u in inter: #usersPerItem[i1]:\n",
    "        denom1 += (ratingDict[(u,i1)] - iBar1)**2\n",
    "    #for u in usersPerItem[i2]:\n",
    "        denom2 += (ratingDict[(u,i2)] - iBar2)**2\n",
    "    denom = math.sqrt(denom1) * math.sqrt(denom2)\n",
    "    if denom == 0: return 0\n",
    "    return numer / denom"
   ]
  },
  {
   "cell_type": "code",
   "execution_count": 15,
   "id": "4c8d147d",
   "metadata": {},
   "outputs": [],
   "source": [
    "def Q3():\n",
    "    thresholds = numpy.arange(-0.5, 0.6, 0.1)\n",
    "    res = []\n",
    "    for threshold in thresholds:\n",
    "        correct = 0\n",
    "        for d in valid:\n",
    "            similarities = [0]\n",
    "            userCooked = recipePerUser[d['user_id']]\n",
    "            for recipe in userCooked:\n",
    "                similarities.append(Pearson(d['recipe_id'], recipe))\n",
    "                \n",
    "            if max(similarities) > threshold:\n",
    "                correct += (d['rating'] != '0')\n",
    "\n",
    "        res.append(correct/len(valid))\n",
    "        print(correct/len(valid))\n",
    "        print(threshold)\n",
    "\n",
    "    plt.plot(thresholds, res, 'b-')\n",
    "    plt.xlabel('Threshold')\n",
    "    plt.ylabel('Accuracy for different thresholds')\n",
    "    plt.show()\n",
    "    return res"
   ]
  },
  {
   "cell_type": "code",
   "execution_count": 16,
   "id": "a70b1688",
   "metadata": {},
   "outputs": [
    {
     "name": "stdout",
     "output_type": "stream",
     "text": [
      "0.97588\n",
      "-0.5\n",
      "0.97588\n",
      "-0.4\n",
      "0.97588\n",
      "-0.30000000000000004\n",
      "0.97588\n",
      "-0.20000000000000007\n",
      "0.97588\n",
      "-0.10000000000000009\n",
      "0.97588\n",
      "-1.1102230246251565e-16\n",
      "0.44416\n",
      "0.09999999999999987\n",
      "0.44356\n",
      "0.19999999999999984\n",
      "0.44286\n",
      "0.2999999999999998\n",
      "0.44222\n",
      "0.3999999999999998\n",
      "0.44136\n",
      "0.4999999999999998\n"
     ]
    },
    {
     "data": {
      "image/png": "[encoded data removed]",
      "text/plain": [
       "<Figure size 432x288 with 1 Axes>"
      ]
     },
     "metadata": {
      "needs_background": "light"
     },
     "output_type": "display_data"
    }
   ],
   "source": [
    "res = Q3()"
   ]
  },
  {
   "cell_type": "code",
   "execution_count": 17,
   "id": "074b603a",
   "metadata": {},
   "outputs": [
    {
     "name": "stdout",
     "output_type": "stream",
     "text": [
      "Accuracy on Validation set with similarity threshold  0.0  is\n",
      "0.97588\n"
     ]
    }
   ],
   "source": [
    "print(\"Accuracy on Validation set with similarity threshold \", 0 + res.index(max(res)) * 0.1, \" is\")\n",
    "print(max(res))"
   ]
  },
  {
   "cell_type": "markdown",
   "id": "f34d00c8",
   "metadata": {},
   "source": [
    "Sim and pop on valid set"
   ]
  },
  {
   "cell_type": "code",
   "execution_count": 32,
   "id": "a49a861f",
   "metadata": {},
   "outputs": [],
   "source": [
    "def Q4():\n",
    "    \n",
    "    pop_threshold = 1.77\n",
    "    sim_threshold = 0\n",
    "    \n",
    "    mostPopular = [(recipeCount[x], x) for x in recipeCount]\n",
    "    mostPopular.sort()\n",
    "    mostPopular.reverse()\n",
    "\n",
    "    return1 = set()\n",
    "    count = 0\n",
    "    for ic, i in mostPopular:\n",
    "        count += ic\n",
    "        return1.add(i)\n",
    "        if count > totalCooked / pop_threshold:\n",
    "            break\n",
    "\n",
    "    correct = 0\n",
    "    for d in valid:\n",
    "        similarities = [0]\n",
    "        userCooked = recipePerUser[d['user_id']]\n",
    "        for recipe in userCooked:\n",
    "            similarities.append(Pearson(d['recipe_id'], recipe))\n",
    "\n",
    "        if max(similarities) > sim_threshold or d['recipe_id'] in return1:\n",
    "            correct += (d['rating'] != '0')\n",
    "            \n",
    "#         if max(similarities) > sim_threshold:\n",
    "#             correct += (d['rating'] != '0')\n",
    "    \n",
    "    print(\"Accuracy on Validation set with \\npopularity threshold \", pop_threshold, \n",
    "          \" (totalCooked / threshold) \\nand similarity threshold \", sim_threshold, \" is\")\n",
    "    print(correct/len(valid))"
   ]
  },
  {
   "cell_type": "code",
   "execution_count": 33,
   "id": "832ff693",
   "metadata": {},
   "outputs": [
    {
     "name": "stdout",
     "output_type": "stream",
     "text": [
      "Accuracy on Validation set with \n",
      "popularity threshold  1.77  (totalCooked / threshold) \n",
      "and similarity threshold  0  is\n",
      "0.55432\n"
     ]
    }
   ],
   "source": [
    "Q4()"
   ]
  },
  {
   "cell_type": "markdown",
   "id": "3468eb49",
   "metadata": {},
   "source": [
    "Kaggle user name: ZiangX\\\n",
    "Score: 0.67190"
   ]
  },
  {
   "cell_type": "code",
   "execution_count": 18,
   "id": "a1e541cc",
   "metadata": {},
   "outputs": [],
   "source": [
    "def Q5():\n",
    "    \n",
    "    recipeCount = defaultdict(int)\n",
    "    totalCooked = 0\n",
    "\n",
    "    for user,recipe,_ in readCSV(\"trainInteractions.csv.gz\"):\n",
    "        recipeCount[recipe] += 1\n",
    "        totalCooked += 1\n",
    "    \n",
    "    pop_threshold = 0.73\n",
    "    sim_threshold = 0\n",
    "    \n",
    "    mostPopular = [(recipeCount[x], x) for x in recipeCount]\n",
    "    mostPopular.sort()\n",
    "    mostPopular.reverse()\n",
    "\n",
    "    return1 = set()\n",
    "    count = 0\n",
    "    for ic, i in mostPopular:\n",
    "        count += ic\n",
    "        return1.add(i)\n",
    "        if count > (totalCooked*pop_threshold):\n",
    "            break               \n",
    "                \n",
    "    predictions = open(\"predictions_Made_ZZ.txt\", 'w')\n",
    "    for l in open(\"stub_Made.txt\"):\n",
    "        if l.startswith(\"user_id\"):\n",
    "            predictions.write(l)\n",
    "            continue\n",
    "        u,i = l.strip().split('-')\n",
    "        similarities = [0]\n",
    "        for recipe in recipePerUser[u]:\n",
    "            similarities.append(Pearson(i, recipe)) \n",
    "        \n",
    "        if max(similarities) > sim_threshold or i in return1:\n",
    "            predictions.write(u + '-' + i + \",1\\n\")\n",
    "        else:\n",
    "            predictions.write(u + '-' + i + \",0\\n\")\n",
    "\n",
    "    predictions.close()"
   ]
  },
  {
   "cell_type": "code",
   "execution_count": 19,
   "id": "1f835966",
   "metadata": {},
   "outputs": [],
   "source": [
    "Q5()"
   ]
  },
  {
   "cell_type": "code",
   "execution_count": null,
   "id": "acc8b282",
   "metadata": {},
   "outputs": [],
   "source": []
  }
 ],
 "metadata": {
  "kernelspec": {
   "display_name": "Python 3 (ipykernel)",
   "language": "python",
   "name": "python3"
  },
  "language_info": {
   "codemirror_mode": {
    "name": "ipython",
    "version": 3
   },
   "file_extension": ".py",
   "mimetype": "text/x-python",
   "name": "python",
   "nbconvert_exporter": "python",
   "pygments_lexer": "ipython3",
   "version": "3.7.11"
  }
 },
 "nbformat": 4,
 "nbformat_minor": 5
}
