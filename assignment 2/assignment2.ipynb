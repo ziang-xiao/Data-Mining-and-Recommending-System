{
 "cells": [
  {
   "cell_type": "code",
   "execution_count": 1,
   "id": "1990eb0c",
   "metadata": {},
   "outputs": [],
   "source": [
    "import gzip\n",
    "import math\n",
    "import random\n",
    "import scipy\n",
    "import scipy.optimize\n",
    "import numpy\n",
    "from collections import defaultdict\n",
    "import csv\n",
    "import matplotlib.pyplot as plt\n",
    "from collections import defaultdict\n",
    "from sklearn import linear_model\n",
    "import json"
   ]
  },
  {
   "cell_type": "code",
   "execution_count": 2,
   "id": "1920eb34",
   "metadata": {},
   "outputs": [],
   "source": [
    "def parse(path):\n",
    "    g = gzip.open(path, 'r')\n",
    "    for l in g:\n",
    "        yield json.loads(l)"
   ]
  },
  {
   "cell_type": "code",
   "execution_count": 3,
   "id": "eb2b457f",
   "metadata": {
    "scrolled": true
   },
   "outputs": [],
   "source": [
    "rawdata = list(parse(\"Office_Products_5.json.gz\"))"
   ]
  },
  {
   "cell_type": "code",
   "execution_count": 4,
   "id": "7b39537c",
   "metadata": {},
   "outputs": [
    {
     "data": {
      "text/plain": [
       "800357"
      ]
     },
     "execution_count": 4,
     "metadata": {},
     "output_type": "execute_result"
    }
   ],
   "source": [
    "len(rawdata)"
   ]
  },
  {
   "cell_type": "code",
   "execution_count": 78,
   "id": "e9d51807",
   "metadata": {},
   "outputs": [],
   "source": [
    "vote = []\n",
    "non_vote = []"
   ]
  },
  {
   "cell_type": "code",
   "execution_count": 79,
   "id": "a331156e",
   "metadata": {},
   "outputs": [],
   "source": [
    "for d in rawdata:\n",
    "    if \"vote\" in d:\n",
    "        vote.append(d)\n",
    "    else:\n",
    "        non_vote.append(d)"
   ]
  },
  {
   "cell_type": "code",
   "execution_count": 80,
   "id": "5e826058",
   "metadata": {},
   "outputs": [
    {
     "data": {
      "text/plain": [
       "{'overall': 4.0,\n",
       " 'vote': '13',\n",
       " 'verified': True,\n",
       " 'reviewTime': '06 28, 2014',\n",
       " 'reviewerID': 'A3INJI4T4U2JJS',\n",
       " 'asin': '0310432065',\n",
       " 'style': {'Format:': ' Diary'},\n",
       " 'reviewerName': 'WV Owl Gal',\n",
       " 'reviewText': 'That being said ...\\nI do like that it keeps all things easily @ hand ...\\nI do use it all week to study me Sabbath School Lesson ...\\nI use it also on a weekly basis to carry lesson & Bible to church ...\\nIt is good in theory ...\\nNeeds to be a bit firmer in construction ...',\n",
       " 'summary': \"Don't Have a Title ...\",\n",
       " 'unixReviewTime': 1403913600}"
      ]
     },
     "execution_count": 80,
     "metadata": {},
     "output_type": "execute_result"
    }
   ],
   "source": [
    "vote[0]"
   ]
  },
  {
   "cell_type": "code",
   "execution_count": 8,
   "id": "eed45f8a",
   "metadata": {},
   "outputs": [
    {
     "data": {
      "text/plain": [
       "88817"
      ]
     },
     "execution_count": 8,
     "metadata": {},
     "output_type": "execute_result"
    }
   ],
   "source": [
    "len(vote)"
   ]
  },
  {
   "cell_type": "code",
   "execution_count": 9,
   "id": "356442d5",
   "metadata": {},
   "outputs": [],
   "source": [
    "non_vote_sample = random.sample(non_vote, 150000 - len(vote))"
   ]
  },
  {
   "cell_type": "code",
   "execution_count": 10,
   "id": "bd1fdeb7",
   "metadata": {},
   "outputs": [
    {
     "data": {
      "text/plain": [
       "61183"
      ]
     },
     "execution_count": 10,
     "metadata": {},
     "output_type": "execute_result"
    }
   ],
   "source": [
    "len(non_vote_sample)"
   ]
  },
  {
   "cell_type": "code",
   "execution_count": 11,
   "id": "c1a1dd2a",
   "metadata": {},
   "outputs": [],
   "source": [
    "dataset = vote + non_vote_sample"
   ]
  },
  {
   "cell_type": "code",
   "execution_count": 12,
   "id": "ef0bf93a",
   "metadata": {},
   "outputs": [
    {
     "data": {
      "text/plain": [
       "150000"
      ]
     },
     "execution_count": 12,
     "metadata": {},
     "output_type": "execute_result"
    }
   ],
   "source": [
    "len(dataset)"
   ]
  },
  {
   "cell_type": "code",
   "execution_count": 15,
   "id": "7cf393ec",
   "metadata": {},
   "outputs": [],
   "source": [
    "file = open('Office_Products_5_150000.json', 'w')\n",
    "for i in dataset:\n",
    "    json_i = json.dumps(i)\n",
    "    file.write(json_i+'\\n')\n",
    "file.close()"
   ]
  },
  {
   "cell_type": "code",
   "execution_count": 16,
   "id": "40a27ae9",
   "metadata": {},
   "outputs": [],
   "source": [
    "###############################################"
   ]
  },
  {
   "cell_type": "code",
   "execution_count": 19,
   "id": "d7509386",
   "metadata": {},
   "outputs": [],
   "source": [
    "cnt1 = 0\n",
    "cnt2 = 0\n",
    "cnt3 = 0\n",
    "cnt4 = 0\n",
    "cnt5 = 0\n",
    "rating_sum = 0\n",
    "\n",
    "for d in dataset:\n",
    "    r = d[\"overall\"]\n",
    "    rating_sum += r\n",
    "    if r == 1.0:\n",
    "        cnt1 += 1\n",
    "    elif r == 2.0:\n",
    "        cnt2 += 1\n",
    "    elif r == 3.0:\n",
    "        cnt3 += 1\n",
    "    elif r == 4.0:\n",
    "        cnt4 += 1\n",
    "    elif r == 5.0:\n",
    "        cnt5 += 1\n",
    "    else:\n",
    "        print(\"invalid rating\")"
   ]
  },
  {
   "cell_type": "code",
   "execution_count": 20,
   "id": "6bc44385",
   "metadata": {},
   "outputs": [
    {
     "data": {
      "image/png": "[encoded data removed]",
      "text/plain": [
       "<Figure size 432x288 with 1 Axes>"
      ]
     },
     "metadata": {
      "needs_background": "light"
     },
     "output_type": "display_data"
    }
   ],
   "source": [
    "label_list = ['1.0', '2.0', '3.0', '4.0', '5.0']\n",
    "num_list = [cnt1, cnt2, cnt3, cnt4, cnt5]\n",
    "plt.bar(label_list, num_list)\n",
    "plt.xlabel(\"Ratings\")\n",
    "plt.ylabel(\"Counts\")\n",
    "plt.title(\"Review Rating Distribution\")\n",
    "plt.show()"
   ]
  },
  {
   "cell_type": "code",
   "execution_count": 22,
   "id": "64e831ba",
   "metadata": {},
   "outputs": [
    {
     "data": {
      "text/plain": [
       "4.227426666666667"
      ]
     },
     "execution_count": 22,
     "metadata": {},
     "output_type": "execute_result"
    }
   ],
   "source": [
    "rating_sum/len(dataset)"
   ]
  },
  {
   "cell_type": "code",
   "execution_count": null,
   "id": "3cb631a3",
   "metadata": {},
   "outputs": [],
   "source": []
  },
  {
   "cell_type": "code",
   "execution_count": 29,
   "id": "1ce12dfd",
   "metadata": {},
   "outputs": [],
   "source": [
    "productCount = defaultdict(int)\n",
    "userSet = set()\n",
    "productSet = set()\n",
    "userPerProduct = defaultdict(set)\n",
    "productPerUser = defaultdict(set)\n",
    "ratingDict = {}"
   ]
  },
  {
   "cell_type": "code",
   "execution_count": 30,
   "id": "215f7203",
   "metadata": {},
   "outputs": [],
   "source": [
    "for d in dataset:\n",
    "    user,product = d['reviewerID'], d['asin']\n",
    "    productCount[product] += 1\n",
    "    userSet.add(user)\n",
    "    productSet.add(product)\n",
    "    userPerProduct[product].add(user)\n",
    "    productPerUser[user].add(product)\n",
    "    ratingDict[(user,product)] = d['overall']"
   ]
  },
  {
   "cell_type": "code",
   "execution_count": 31,
   "id": "e3b957b9",
   "metadata": {},
   "outputs": [
    {
     "data": {
      "text/plain": [
       "24247"
      ]
     },
     "execution_count": 31,
     "metadata": {},
     "output_type": "execute_result"
    }
   ],
   "source": [
    "len(productCount)"
   ]
  },
  {
   "cell_type": "code",
   "execution_count": 32,
   "id": "3d809df5",
   "metadata": {},
   "outputs": [
    {
     "data": {
      "text/plain": [
       "68186"
      ]
     },
     "execution_count": 32,
     "metadata": {},
     "output_type": "execute_result"
    }
   ],
   "source": [
    "len(userSet)"
   ]
  },
  {
   "cell_type": "code",
   "execution_count": 33,
   "id": "334ab337",
   "metadata": {},
   "outputs": [
    {
     "data": {
      "text/plain": [
       "24247"
      ]
     },
     "execution_count": 33,
     "metadata": {},
     "output_type": "execute_result"
    }
   ],
   "source": [
    "len(productSet)"
   ]
  },
  {
   "cell_type": "code",
   "execution_count": 34,
   "id": "16a68848",
   "metadata": {},
   "outputs": [],
   "source": [
    "userAverages = {}\n",
    "productAverages = {}\n",
    "\n",
    "for u in productPerUser:\n",
    "    rs = [ratingDict[(u,i)] for i in productPerUser[u]]\n",
    "    if len(rs) == 0:\n",
    "        userAverages[u] = 0\n",
    "        continue\n",
    "    userAverages[u] = sum(rs) / len(rs)\n",
    "    \n",
    "for i in userPerProduct:\n",
    "    rs = [ratingDict[(u,i)] for u in userPerProduct[i]]\n",
    "    if len(rs) == 0:\n",
    "        productAverages[i] = 0\n",
    "        continue\n",
    "    productAverages[i] = sum(rs) / len(rs)"
   ]
  },
  {
   "cell_type": "code",
   "execution_count": 36,
   "id": "03463fbb",
   "metadata": {},
   "outputs": [
    {
     "data": {
      "text/plain": [
       "68186"
      ]
     },
     "execution_count": 36,
     "metadata": {},
     "output_type": "execute_result"
    }
   ],
   "source": [
    "len(userAverages)"
   ]
  },
  {
   "cell_type": "code",
   "execution_count": 37,
   "id": "1b169d01",
   "metadata": {},
   "outputs": [
    {
     "data": {
      "text/plain": [
       "dict"
      ]
     },
     "execution_count": 37,
     "metadata": {},
     "output_type": "execute_result"
    }
   ],
   "source": [
    "type(userAverages)"
   ]
  },
  {
   "cell_type": "code",
   "execution_count": 47,
   "id": "cc744db2",
   "metadata": {},
   "outputs": [],
   "source": [
    "x = list(range(1, len(userAverages) + 1))"
   ]
  },
  {
   "cell_type": "code",
   "execution_count": 53,
   "id": "2e1353a3",
   "metadata": {},
   "outputs": [],
   "source": [
    "y = sorted(userAverages.values())"
   ]
  },
  {
   "cell_type": "code",
   "execution_count": 61,
   "id": "45d8914d",
   "metadata": {},
   "outputs": [
    {
     "data": {
      "image/png": "[encoded data removed]",
      "text/plain": [
       "<Figure size 432x288 with 1 Axes>"
      ]
     },
     "metadata": {
      "needs_background": "light"
     },
     "output_type": "display_data"
    }
   ],
   "source": [
    "plt.scatter(x, y, marker = '.', s = 0.1)\n",
    "plt.xlabel('Reviewer')\n",
    "plt.ylabel('Average Rating')\n",
    "plt.title('Average Rating for Reviewer')\n",
    "plt.show()"
   ]
  },
  {
   "cell_type": "code",
   "execution_count": 62,
   "id": "74aed7a0",
   "metadata": {},
   "outputs": [
    {
     "data": {
      "image/png": "[encoded data removed]",
      "text/plain": [
       "<Figure size 432x288 with 1 Axes>"
      ]
     },
     "metadata": {
      "needs_background": "light"
     },
     "output_type": "display_data"
    }
   ],
   "source": [
    "x = list(range(1, len(productAverages) + 1))\n",
    "y = sorted(productAverages.values())\n",
    "plt.scatter(x, y, marker = '.', s = 0.1)\n",
    "plt.xlabel('Product')\n",
    "plt.ylabel('Average Rating')\n",
    "plt.title('Average Rating for Product')\n",
    "plt.show()"
   ]
  },
  {
   "cell_type": "code",
   "execution_count": 86,
   "id": "3f6e3449",
   "metadata": {},
   "outputs": [],
   "source": [
    "votecount1 = defaultdict(int)"
   ]
  },
  {
   "cell_type": "code",
   "execution_count": 89,
   "id": "3236357c",
   "metadata": {},
   "outputs": [],
   "source": [
    "for d in vote:\n",
    "    v = int(d['vote'].replace(\",\",\"\"))\n",
    "    votecount1[v] += 1"
   ]
  },
  {
   "cell_type": "code",
   "execution_count": 91,
   "id": "319b02b4",
   "metadata": {},
   "outputs": [],
   "source": [
    "f = zip(votecount1.keys(), votecount1.values())\n",
    "c = sorted(f)"
   ]
  },
  {
   "cell_type": "code",
   "execution_count": 92,
   "id": "c3e29e66",
   "metadata": {},
   "outputs": [
    {
     "data": {
      "text/plain": [
       "[(2, 30295),\n",
       " (3, 15235),\n",
       " (4, 8873),\n",
       " (5, 6002),\n",
       " (6, 4306),\n",
       " (7, 3170),\n",
       " (8, 2426),\n",
       " (9, 2043),\n",
       " (10, 1698),\n",
       " (11, 1283),\n",
       " (12, 1150),\n",
       " (13, 987),\n",
       " (14, 824),\n",
       " (15, 772),\n",
       " (16, 688),\n",
       " (17, 568),\n",
       " (18, 518),\n",
       " (19, 430),\n",
       " (20, 418),\n",
       " (21, 357),\n",
       " (22, 346),\n",
       " (23, 316),\n",
       " (24, 268),\n",
       " (25, 278),\n",
       " (26, 229),\n",
       " (27, 225),\n",
       " (28, 214),\n",
       " (29, 178),\n",
       " (30, 207),\n",
       " (31, 164),\n",
       " (32, 138),\n",
       " (33, 136),\n",
       " (34, 136),\n",
       " (35, 121),\n",
       " (36, 109),\n",
       " (37, 83),\n",
       " (38, 121),\n",
       " (39, 109),\n",
       " (40, 98),\n",
       " (41, 113),\n",
       " (42, 79),\n",
       " (43, 76),\n",
       " (44, 100),\n",
       " (45, 77),\n",
       " (46, 57),\n",
       " (47, 78),\n",
       " (48, 56),\n",
       " (49, 62),\n",
       " (50, 55),\n",
       " (51, 60),\n",
       " (52, 60),\n",
       " (53, 46),\n",
       " (54, 49),\n",
       " (55, 44),\n",
       " (56, 57),\n",
       " (57, 37),\n",
       " (58, 46),\n",
       " (59, 47),\n",
       " (60, 31),\n",
       " (61, 34),\n",
       " (62, 33),\n",
       " (63, 28),\n",
       " (64, 42),\n",
       " (65, 35),\n",
       " (66, 39),\n",
       " (67, 35),\n",
       " (68, 26),\n",
       " (69, 33),\n",
       " (70, 24),\n",
       " (71, 15),\n",
       " (72, 30),\n",
       " (73, 28),\n",
       " (74, 27),\n",
       " (75, 20),\n",
       " (76, 31),\n",
       " (77, 26),\n",
       " (78, 23),\n",
       " (79, 27),\n",
       " (80, 21),\n",
       " (81, 29),\n",
       " (82, 13),\n",
       " (83, 13),\n",
       " (84, 22),\n",
       " (85, 26),\n",
       " (86, 21),\n",
       " (87, 25),\n",
       " (88, 18),\n",
       " (89, 12),\n",
       " (90, 17),\n",
       " (91, 12),\n",
       " (92, 15),\n",
       " (93, 16),\n",
       " (94, 15),\n",
       " (95, 16),\n",
       " (96, 22),\n",
       " (97, 19),\n",
       " (98, 16),\n",
       " (99, 19),\n",
       " (100, 13),\n",
       " (101, 10),\n",
       " (102, 14),\n",
       " (103, 15),\n",
       " (104, 18),\n",
       " (105, 11),\n",
       " (106, 9),\n",
       " (107, 9),\n",
       " (108, 9),\n",
       " (109, 17),\n",
       " (110, 20),\n",
       " (111, 12),\n",
       " (112, 13),\n",
       " (113, 15),\n",
       " (114, 12),\n",
       " (115, 13),\n",
       " (116, 14),\n",
       " (117, 9),\n",
       " (118, 9),\n",
       " (119, 17),\n",
       " (120, 9),\n",
       " (121, 10),\n",
       " (122, 9),\n",
       " (123, 12),\n",
       " (124, 4),\n",
       " (125, 7),\n",
       " (126, 10),\n",
       " (127, 4),\n",
       " (128, 6),\n",
       " (129, 6),\n",
       " (130, 8),\n",
       " (131, 2),\n",
       " (132, 9),\n",
       " (133, 6),\n",
       " (134, 8),\n",
       " (135, 12),\n",
       " (136, 7),\n",
       " (137, 8),\n",
       " (138, 7),\n",
       " (139, 8),\n",
       " (140, 8),\n",
       " (141, 6),\n",
       " (142, 9),\n",
       " (143, 5),\n",
       " (144, 3),\n",
       " (145, 3),\n",
       " (146, 6),\n",
       " (147, 7),\n",
       " (148, 7),\n",
       " (149, 6),\n",
       " (150, 4),\n",
       " (151, 6),\n",
       " (152, 9),\n",
       " (153, 6),\n",
       " (154, 6),\n",
       " (155, 3),\n",
       " (156, 10),\n",
       " (157, 6),\n",
       " (158, 6),\n",
       " (159, 5),\n",
       " (160, 1),\n",
       " (161, 6),\n",
       " (162, 9),\n",
       " (163, 10),\n",
       " (164, 5),\n",
       " (165, 3),\n",
       " (166, 3),\n",
       " (167, 4),\n",
       " (168, 6),\n",
       " (169, 2),\n",
       " (170, 7),\n",
       " (171, 4),\n",
       " (172, 4),\n",
       " (173, 9),\n",
       " (174, 3),\n",
       " (175, 6),\n",
       " (176, 4),\n",
       " (177, 4),\n",
       " (178, 6),\n",
       " (179, 3),\n",
       " (180, 8),\n",
       " (181, 7),\n",
       " (182, 4),\n",
       " (183, 4),\n",
       " (184, 2),\n",
       " (186, 4),\n",
       " (187, 3),\n",
       " (188, 4),\n",
       " (189, 4),\n",
       " (190, 7),\n",
       " (191, 8),\n",
       " (192, 3),\n",
       " (193, 1),\n",
       " (194, 1),\n",
       " (195, 3),\n",
       " (196, 3),\n",
       " (197, 4),\n",
       " (199, 4),\n",
       " (200, 5),\n",
       " (201, 4),\n",
       " (202, 4),\n",
       " (203, 2),\n",
       " (204, 4),\n",
       " (205, 4),\n",
       " (206, 6),\n",
       " (209, 3),\n",
       " (210, 1),\n",
       " (211, 3),\n",
       " (212, 5),\n",
       " (213, 2),\n",
       " (214, 4),\n",
       " (215, 2),\n",
       " (216, 3),\n",
       " (217, 4),\n",
       " (218, 4),\n",
       " (219, 4),\n",
       " (220, 7),\n",
       " (221, 2),\n",
       " (222, 5),\n",
       " (223, 3),\n",
       " (224, 1),\n",
       " (225, 1),\n",
       " (226, 3),\n",
       " (227, 2),\n",
       " (228, 1),\n",
       " (229, 2),\n",
       " (230, 3),\n",
       " (231, 1),\n",
       " (232, 2),\n",
       " (233, 1),\n",
       " (234, 2),\n",
       " (235, 1),\n",
       " (236, 4),\n",
       " (237, 2),\n",
       " (238, 2),\n",
       " (239, 2),\n",
       " (240, 2),\n",
       " (241, 2),\n",
       " (242, 2),\n",
       " (243, 3),\n",
       " (244, 1),\n",
       " (245, 3),\n",
       " (246, 6),\n",
       " (247, 1),\n",
       " (248, 1),\n",
       " (249, 4),\n",
       " (250, 4),\n",
       " (251, 1),\n",
       " (252, 1),\n",
       " (253, 2),\n",
       " (254, 3),\n",
       " (255, 2),\n",
       " (256, 1),\n",
       " (257, 1),\n",
       " (259, 1),\n",
       " (260, 1),\n",
       " (262, 3),\n",
       " (263, 3),\n",
       " (264, 5),\n",
       " (266, 1),\n",
       " (267, 1),\n",
       " (268, 1),\n",
       " (269, 3),\n",
       " (270, 2),\n",
       " (272, 1),\n",
       " (273, 2),\n",
       " (274, 1),\n",
       " (275, 1),\n",
       " (279, 1),\n",
       " (280, 1),\n",
       " (282, 2),\n",
       " (284, 2),\n",
       " (285, 5),\n",
       " (287, 2),\n",
       " (288, 3),\n",
       " (291, 4),\n",
       " (292, 1),\n",
       " (294, 2),\n",
       " (295, 1),\n",
       " (296, 1),\n",
       " (297, 2),\n",
       " (298, 4),\n",
       " (299, 2),\n",
       " (301, 2),\n",
       " (302, 1),\n",
       " (303, 2),\n",
       " (304, 1),\n",
       " (305, 1),\n",
       " (306, 2),\n",
       " (307, 2),\n",
       " (308, 1),\n",
       " (309, 1),\n",
       " (310, 1),\n",
       " (311, 4),\n",
       " (312, 1),\n",
       " (315, 2),\n",
       " (316, 1),\n",
       " (319, 2),\n",
       " (320, 1),\n",
       " (321, 2),\n",
       " (323, 3),\n",
       " (324, 1),\n",
       " (326, 1),\n",
       " (327, 3),\n",
       " (329, 2),\n",
       " (334, 2),\n",
       " (337, 1),\n",
       " (338, 2),\n",
       " (339, 1),\n",
       " (340, 3),\n",
       " (342, 1),\n",
       " (343, 1),\n",
       " (345, 1),\n",
       " (346, 2),\n",
       " (347, 1),\n",
       " (350, 1),\n",
       " (352, 1),\n",
       " (353, 1),\n",
       " (355, 1),\n",
       " (356, 1),\n",
       " (358, 1),\n",
       " (362, 1),\n",
       " (363, 1),\n",
       " (364, 1),\n",
       " (365, 2),\n",
       " (368, 2),\n",
       " (370, 1),\n",
       " (372, 1),\n",
       " (378, 1),\n",
       " (379, 1),\n",
       " (380, 1),\n",
       " (381, 1),\n",
       " (382, 1),\n",
       " (383, 1),\n",
       " (384, 4),\n",
       " (387, 1),\n",
       " (388, 1),\n",
       " (390, 1),\n",
       " (391, 1),\n",
       " (393, 1),\n",
       " (396, 1),\n",
       " (398, 1),\n",
       " (404, 1),\n",
       " (406, 1),\n",
       " (408, 2),\n",
       " (409, 1),\n",
       " (417, 1),\n",
       " (418, 1),\n",
       " (419, 1),\n",
       " (420, 1),\n",
       " (421, 1),\n",
       " (422, 1),\n",
       " (425, 1),\n",
       " (430, 2),\n",
       " (431, 1),\n",
       " (434, 1),\n",
       " (440, 1),\n",
       " (441, 1),\n",
       " (448, 1),\n",
       " (451, 1),\n",
       " (457, 1),\n",
       " (460, 2),\n",
       " (464, 1),\n",
       " (465, 1),\n",
       " (468, 1),\n",
       " (472, 2),\n",
       " (473, 1),\n",
       " (474, 3),\n",
       " (477, 1),\n",
       " (479, 3),\n",
       " (480, 1),\n",
       " (484, 1),\n",
       " (485, 1),\n",
       " (486, 2),\n",
       " (487, 1),\n",
       " (489, 1),\n",
       " (499, 2),\n",
       " (500, 1),\n",
       " (511, 1),\n",
       " (516, 1),\n",
       " (521, 2),\n",
       " (524, 2),\n",
       " (525, 1),\n",
       " (529, 1),\n",
       " (531, 2),\n",
       " (537, 1),\n",
       " (538, 1),\n",
       " (539, 1),\n",
       " (540, 1),\n",
       " (547, 1),\n",
       " (550, 1),\n",
       " (559, 1),\n",
       " (577, 2),\n",
       " (580, 1),\n",
       " (582, 1),\n",
       " (591, 1),\n",
       " (600, 3),\n",
       " (601, 1),\n",
       " (604, 1),\n",
       " (610, 1),\n",
       " (612, 1),\n",
       " (613, 1),\n",
       " (615, 1),\n",
       " (621, 1),\n",
       " (632, 1),\n",
       " (635, 1),\n",
       " (636, 1),\n",
       " (640, 1),\n",
       " (644, 1),\n",
       " (648, 2),\n",
       " (652, 1),\n",
       " (655, 2),\n",
       " (656, 1),\n",
       " (658, 3),\n",
       " (661, 1),\n",
       " (665, 1),\n",
       " (667, 1),\n",
       " (670, 1),\n",
       " (671, 1),\n",
       " (672, 1),\n",
       " (674, 1),\n",
       " (680, 1),\n",
       " (681, 1),\n",
       " (701, 1),\n",
       " (732, 1),\n",
       " (747, 1),\n",
       " (756, 1),\n",
       " (760, 1),\n",
       " (785, 1),\n",
       " (807, 1),\n",
       " (815, 2),\n",
       " (829, 1),\n",
       " (830, 1),\n",
       " (850, 1),\n",
       " (860, 1),\n",
       " (861, 1),\n",
       " (893, 1),\n",
       " (898, 1),\n",
       " (911, 1),\n",
       " (929, 1),\n",
       " (930, 1),\n",
       " (945, 1),\n",
       " (969, 1),\n",
       " (1008, 1),\n",
       " (1013, 1),\n",
       " (1030, 2),\n",
       " (1049, 2),\n",
       " (1052, 1),\n",
       " (1147, 1),\n",
       " (1152, 1),\n",
       " (1162, 1),\n",
       " (1285, 1),\n",
       " (1289, 1),\n",
       " (1311, 1),\n",
       " (1318, 1),\n",
       " (1348, 1),\n",
       " (1355, 1),\n",
       " (1389, 1),\n",
       " (1417, 1),\n",
       " (1418, 1),\n",
       " (1537, 1),\n",
       " (1613, 1),\n",
       " (1674, 1),\n",
       " (1937, 1),\n",
       " (3100, 1)]"
      ]
     },
     "execution_count": 92,
     "metadata": {},
     "output_type": "execute_result"
    }
   ],
   "source": [
    "c"
   ]
  },
  {
   "cell_type": "code",
   "execution_count": null,
   "id": "103df34d",
   "metadata": {},
   "outputs": [],
   "source": []
  }
 ],
 "metadata": {
  "kernelspec": {
   "display_name": "Python 3 (ipykernel)",
   "language": "python",
   "name": "python3"
  },
  "language_info": {
   "codemirror_mode": {
    "name": "ipython",
    "version": 3
   },
   "file_extension": ".py",
   "mimetype": "text/x-python",
   "name": "python",
   "nbconvert_exporter": "python",
   "pygments_lexer": "ipython3",
   "version": "3.7.11"
  }
 },
 "nbformat": 4,
 "nbformat_minor": 5
}
