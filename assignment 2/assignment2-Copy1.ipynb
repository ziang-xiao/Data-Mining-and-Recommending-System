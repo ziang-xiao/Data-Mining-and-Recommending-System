{
 "cells": [
  {
   "cell_type": "code",
   "execution_count": 1,
   "id": "1990eb0c",
   "metadata": {},
   "outputs": [],
   "source": [
    "import gzip\n",
    "import math\n",
    "import random\n",
    "import scipy\n",
    "import scipy.optimize\n",
    "import numpy\n",
    "from collections import defaultdict\n",
    "import csv\n",
    "import matplotlib.pyplot as plt\n",
    "from collections import defaultdict\n",
    "from sklearn import linear_model\n",
    "import json"
   ]
  },
  {
   "cell_type": "code",
   "execution_count": 2,
   "id": "1920eb34",
   "metadata": {},
   "outputs": [],
   "source": [
    "def parse(path):\n",
    "    g = gzip.open(path, 'r')\n",
    "    for l in g:\n",
    "        yield json.loads(l)"
   ]
  },
  {
   "cell_type": "code",
   "execution_count": 3,
   "id": "4d622e39",
   "metadata": {},
   "outputs": [],
   "source": [
    "def parseData(fname):\n",
    "    for l in open(fname):\n",
    "        yield json.loads(l)"
   ]
  },
  {
   "cell_type": "code",
   "execution_count": 4,
   "id": "eb2b457f",
   "metadata": {
    "scrolled": true
   },
   "outputs": [],
   "source": [
    "dataset = list(parseData(\"Office_Products_200k.json\"))"
   ]
  },
  {
   "cell_type": "code",
   "execution_count": 5,
   "id": "7b39537c",
   "metadata": {},
   "outputs": [
    {
     "data": {
      "text/plain": [
       "200000"
      ]
     },
     "execution_count": 5,
     "metadata": {},
     "output_type": "execute_result"
    }
   ],
   "source": [
    "len(dataset)"
   ]
  },
  {
   "cell_type": "code",
   "execution_count": 6,
   "id": "e9d51807",
   "metadata": {},
   "outputs": [],
   "source": [
    "vote = []\n",
    "non_vote = []"
   ]
  },
  {
   "cell_type": "code",
   "execution_count": 7,
   "id": "a331156e",
   "metadata": {},
   "outputs": [],
   "source": [
    "for d in dataset:\n",
    "    if \"vote\" in d:\n",
    "        vote.append(d)\n",
    "    else:\n",
    "        non_vote.append(d)"
   ]
  },
  {
   "cell_type": "code",
   "execution_count": 8,
   "id": "5e826058",
   "metadata": {},
   "outputs": [
    {
     "data": {
      "text/plain": [
       "{'overall': 5.0,\n",
       " 'vote': '2',\n",
       " 'verified': False,\n",
       " 'reviewTime': '06 22, 2015',\n",
       " 'reviewerID': 'A2I6MHMAZZDCRX',\n",
       " 'asin': '0140503528',\n",
       " 'style': {'Format:': ' Hardcover'},\n",
       " 'reviewerName': 'Mark Baker - Carstairs Considers',\n",
       " 'reviewText': \"One day, Corduroy, a stuffed bear, goes with Lisa, his owner, and her mother to do laundry at the laundromat.  As Lisas mom reminds her to empty her pockets, Corduroy decides he needs a pocket on his overalls and sets out on a search to find one.  What might he find along the way?  Will he wander completely away from Lisa?\\n\\nThis is a sweet and fun book that I think I might like better than the original.  The reason for this is the creativity of what Corduroy runs across in the laundromat and what he thinks it might be.  We, of course, know better, but his guesses make perfect sense from his experiences.  The pictures are wonderful and expertly capture the story.\\n\\nIf you are a fan of this stuffed bears first adventure, don't hesitate to get this one.  And if youve missed Corduroy, by all means meet him soon.\",\n",
       " 'summary': 'Sweet and Fun Sequel',\n",
       " 'unixReviewTime': 1434931200}"
      ]
     },
     "execution_count": 8,
     "metadata": {},
     "output_type": "execute_result"
    }
   ],
   "source": [
    "vote[0]"
   ]
  },
  {
   "cell_type": "code",
   "execution_count": 9,
   "id": "eed45f8a",
   "metadata": {},
   "outputs": [
    {
     "data": {
      "text/plain": [
       "121441"
      ]
     },
     "execution_count": 9,
     "metadata": {},
     "output_type": "execute_result"
    }
   ],
   "source": [
    "len(vote)"
   ]
  },
  {
   "cell_type": "code",
   "execution_count": 10,
   "id": "bd1fdeb7",
   "metadata": {},
   "outputs": [
    {
     "data": {
      "text/plain": [
       "78559"
      ]
     },
     "execution_count": 10,
     "metadata": {},
     "output_type": "execute_result"
    }
   ],
   "source": [
    "len(non_vote)"
   ]
  },
  {
   "cell_type": "code",
   "execution_count": 16,
   "id": "40a27ae9",
   "metadata": {},
   "outputs": [],
   "source": [
    "###############################################"
   ]
  },
  {
   "cell_type": "code",
   "execution_count": 11,
   "id": "d7509386",
   "metadata": {},
   "outputs": [],
   "source": [
    "cnt1 = 0\n",
    "cnt2 = 0\n",
    "cnt3 = 0\n",
    "cnt4 = 0\n",
    "cnt5 = 0\n",
    "rating_sum = 0\n",
    "\n",
    "for d in dataset:\n",
    "    r = d[\"overall\"]\n",
    "    rating_sum += r\n",
    "    if r == 1.0:\n",
    "        cnt1 += 1\n",
    "    elif r == 2.0:\n",
    "        cnt2 += 1\n",
    "    elif r == 3.0:\n",
    "        cnt3 += 1\n",
    "    elif r == 4.0:\n",
    "        cnt4 += 1\n",
    "    elif r == 5.0:\n",
    "        cnt5 += 1\n",
    "    else:\n",
    "        print(\"invalid rating\")"
   ]
  },
  {
   "cell_type": "code",
   "execution_count": 12,
   "id": "6bc44385",
   "metadata": {},
   "outputs": [
    {
     "data": {
      "image/png": "[encoded data removed]",
      "text/plain": [
       "<Figure size 432x288 with 1 Axes>"
      ]
     },
     "metadata": {
      "needs_background": "light"
     },
     "output_type": "display_data"
    }
   ],
   "source": [
    "label_list = ['1.0', '2.0', '3.0', '4.0', '5.0']\n",
    "num_list = [cnt1, cnt2, cnt3, cnt4, cnt5]\n",
    "plt.bar(label_list, num_list)\n",
    "plt.xlabel(\"Ratings\")\n",
    "plt.ylabel(\"Counts\")\n",
    "plt.title(\"Review Rating Distribution\")\n",
    "plt.show()"
   ]
  },
  {
   "cell_type": "code",
   "execution_count": 13,
   "id": "64e831ba",
   "metadata": {},
   "outputs": [
    {
     "data": {
      "text/plain": [
       "4.207515"
      ]
     },
     "execution_count": 13,
     "metadata": {},
     "output_type": "execute_result"
    }
   ],
   "source": [
    "rating_sum/len(dataset)"
   ]
  },
  {
   "cell_type": "code",
   "execution_count": null,
   "id": "3cb631a3",
   "metadata": {},
   "outputs": [],
   "source": []
  },
  {
   "cell_type": "code",
   "execution_count": 14,
   "id": "1ce12dfd",
   "metadata": {},
   "outputs": [],
   "source": [
    "productCount = defaultdict(int)\n",
    "userSet = set()\n",
    "productSet = set()\n",
    "userPerProduct = defaultdict(set)\n",
    "productPerUser = defaultdict(set)\n",
    "ratingDict = {}"
   ]
  },
  {
   "cell_type": "code",
   "execution_count": 15,
   "id": "215f7203",
   "metadata": {},
   "outputs": [],
   "source": [
    "for d in dataset:\n",
    "    user,product = d['reviewerID'], d['asin']\n",
    "    productCount[product] += 1\n",
    "    userSet.add(user)\n",
    "    productSet.add(product)\n",
    "    userPerProduct[product].add(user)\n",
    "    productPerUser[user].add(product)\n",
    "    ratingDict[(user,product)] = d['overall']"
   ]
  },
  {
   "cell_type": "code",
   "execution_count": 16,
   "id": "e3b957b9",
   "metadata": {},
   "outputs": [
    {
     "data": {
      "text/plain": [
       "45697"
      ]
     },
     "execution_count": 16,
     "metadata": {},
     "output_type": "execute_result"
    }
   ],
   "source": [
    "len(productCount)"
   ]
  },
  {
   "cell_type": "code",
   "execution_count": 17,
   "id": "3d809df5",
   "metadata": {},
   "outputs": [
    {
     "data": {
      "text/plain": [
       "92231"
      ]
     },
     "execution_count": 17,
     "metadata": {},
     "output_type": "execute_result"
    }
   ],
   "source": [
    "len(userSet)"
   ]
  },
  {
   "cell_type": "code",
   "execution_count": 18,
   "id": "334ab337",
   "metadata": {},
   "outputs": [
    {
     "data": {
      "text/plain": [
       "45697"
      ]
     },
     "execution_count": 18,
     "metadata": {},
     "output_type": "execute_result"
    }
   ],
   "source": [
    "len(productSet)"
   ]
  },
  {
   "cell_type": "code",
   "execution_count": 19,
   "id": "16a68848",
   "metadata": {},
   "outputs": [],
   "source": [
    "userAverages = {}\n",
    "productAverages = {}\n",
    "\n",
    "for u in productPerUser:\n",
    "    rs = [ratingDict[(u,i)] for i in productPerUser[u]]\n",
    "    if len(rs) == 0:\n",
    "        userAverages[u] = 0\n",
    "        continue\n",
    "    userAverages[u] = sum(rs) / len(rs)\n",
    "    \n",
    "for i in userPerProduct:\n",
    "    rs = [ratingDict[(u,i)] for u in userPerProduct[i]]\n",
    "    if len(rs) == 0:\n",
    "        productAverages[i] = 0\n",
    "        continue\n",
    "    productAverages[i] = sum(rs) / len(rs)"
   ]
  },
  {
   "cell_type": "code",
   "execution_count": 78,
   "id": "03463fbb",
   "metadata": {},
   "outputs": [
    {
     "data": {
      "text/plain": [
       "92231"
      ]
     },
     "execution_count": 78,
     "metadata": {},
     "output_type": "execute_result"
    }
   ],
   "source": [
    "len(userAverages)"
   ]
  },
  {
   "cell_type": "code",
   "execution_count": 79,
   "id": "1b169d01",
   "metadata": {},
   "outputs": [
    {
     "data": {
      "text/plain": [
       "dict"
      ]
     },
     "execution_count": 79,
     "metadata": {},
     "output_type": "execute_result"
    }
   ],
   "source": [
    "type(userAverages)"
   ]
  },
  {
   "cell_type": "code",
   "execution_count": 80,
   "id": "cc744db2",
   "metadata": {},
   "outputs": [],
   "source": [
    "x = list(range(1, len(userAverages) + 1))"
   ]
  },
  {
   "cell_type": "code",
   "execution_count": 81,
   "id": "2e1353a3",
   "metadata": {},
   "outputs": [],
   "source": [
    "y = sorted(userAverages.values())"
   ]
  },
  {
   "cell_type": "code",
   "execution_count": 82,
   "id": "65639400",
   "metadata": {},
   "outputs": [],
   "source": [
    "cnt = 0\n",
    "for i in y:\n",
    "    if i >= 5.0:\n",
    "        cnt += 1"
   ]
  },
  {
   "cell_type": "code",
   "execution_count": 83,
   "id": "a5c687bc",
   "metadata": {},
   "outputs": [
    {
     "name": "stdout",
     "output_type": "stream",
     "text": [
      "47995\n"
     ]
    }
   ],
   "source": [
    "print(cnt)"
   ]
  },
  {
   "cell_type": "code",
   "execution_count": 84,
   "id": "b89c0078",
   "metadata": {},
   "outputs": [
    {
     "data": {
      "text/plain": [
       "92231"
      ]
     },
     "execution_count": 84,
     "metadata": {},
     "output_type": "execute_result"
    }
   ],
   "source": [
    "len(y)"
   ]
  },
  {
   "cell_type": "code",
   "execution_count": 24,
   "id": "45d8914d",
   "metadata": {},
   "outputs": [
    {
     "data": {
      "image/png": "[encoded data removed]",
      "text/plain": [
       "<Figure size 432x288 with 1 Axes>"
      ]
     },
     "metadata": {
      "needs_background": "light"
     },
     "output_type": "display_data"
    }
   ],
   "source": [
    "plt.scatter(x, y, marker = '.', s = 0.1)\n",
    "plt.xlabel('Reviewer')\n",
    "plt.ylabel('Average Rating')\n",
    "plt.title('Average Rating for Reviewer')\n",
    "plt.show()"
   ]
  },
  {
   "cell_type": "code",
   "execution_count": 85,
   "id": "74aed7a0",
   "metadata": {},
   "outputs": [
    {
     "data": {
      "image/png": "[encoded data removed]",
      "text/plain": [
       "<Figure size 432x288 with 1 Axes>"
      ]
     },
     "metadata": {
      "needs_background": "light"
     },
     "output_type": "display_data"
    }
   ],
   "source": [
    "x = list(range(1, len(productAverages) + 1))\n",
    "y = sorted(productAverages.values())\n",
    "plt.scatter(x, y, marker = '.', s = 0.1)\n",
    "plt.xlabel('Product')\n",
    "plt.ylabel('Average Rating')\n",
    "plt.title('Average Rating for Product')\n",
    "plt.show()"
   ]
  },
  {
   "cell_type": "code",
   "execution_count": 86,
   "id": "379dee16",
   "metadata": {},
   "outputs": [],
   "source": [
    "cnt = 0\n",
    "for i in y:\n",
    "    if i >= 5.0:\n",
    "        cnt += 1"
   ]
  },
  {
   "cell_type": "code",
   "execution_count": 87,
   "id": "e0657cd7",
   "metadata": {},
   "outputs": [
    {
     "name": "stdout",
     "output_type": "stream",
     "text": [
      "19129\n"
     ]
    }
   ],
   "source": [
    "print(cnt)"
   ]
  },
  {
   "cell_type": "code",
   "execution_count": 88,
   "id": "ad3da8ba",
   "metadata": {},
   "outputs": [
    {
     "data": {
      "text/plain": [
       "45697"
      ]
     },
     "execution_count": 88,
     "metadata": {},
     "output_type": "execute_result"
    }
   ],
   "source": [
    "len(y)"
   ]
  },
  {
   "cell_type": "code",
   "execution_count": 50,
   "id": "3f6e3449",
   "metadata": {},
   "outputs": [],
   "source": [
    "votecount1 = defaultdict(int)"
   ]
  },
  {
   "cell_type": "code",
   "execution_count": 51,
   "id": "3236357c",
   "metadata": {},
   "outputs": [],
   "source": [
    "for d in vote:\n",
    "    v = d['vote']\n",
    "    v = int(v.replace(\",\",\"\"))\n",
    "    votecount1[v] += 1"
   ]
  },
  {
   "cell_type": "code",
   "execution_count": 53,
   "id": "319b02b4",
   "metadata": {},
   "outputs": [],
   "source": [
    "f = zip(votecount1.keys(), votecount1.values())\n",
    "c = sorted(f)"
   ]
  },
  {
   "cell_type": "code",
   "execution_count": 74,
   "id": "e5a8b703",
   "metadata": {},
   "outputs": [
    {
     "data": {
      "text/plain": [
       "42283"
      ]
     },
     "execution_count": 74,
     "metadata": {},
     "output_type": "execute_result"
    }
   ],
   "source": [
    "max(votecount1.values())"
   ]
  },
  {
   "cell_type": "code",
   "execution_count": 64,
   "id": "798ad264",
   "metadata": {},
   "outputs": [],
   "source": [
    "vote_label = []\n",
    "review_cnt = []\n",
    "for x in c:\n",
    "      if x[0] <= 60:\n",
    "        vote_label.append(x[0])\n",
    "        review_cnt.append(x[1])"
   ]
  },
  {
   "cell_type": "code",
   "execution_count": 65,
   "id": "0d11dcbf",
   "metadata": {},
   "outputs": [
    {
     "data": {
      "image/png": "[encoded data removed]",
      "text/plain": [
       "<Figure size 432x288 with 1 Axes>"
      ]
     },
     "metadata": {
      "needs_background": "light"
     },
     "output_type": "display_data"
    }
   ],
   "source": [
    "plt.bar(vote_label, review_cnt)\n",
    "plt.xlabel(\"Vote Numbers\")\n",
    "plt.ylabel(\"Review Counts\")\n",
    "plt.title(\"Vote Distribution\")\n",
    "plt.show()"
   ]
  },
  {
   "cell_type": "code",
   "execution_count": 66,
   "id": "9d4aceb3",
   "metadata": {},
   "outputs": [
    {
     "data": {
      "text/plain": [
       "60"
      ]
     },
     "execution_count": 66,
     "metadata": {},
     "output_type": "execute_result"
    }
   ],
   "source": [
    "max(vote_label)"
   ]
  },
  {
   "cell_type": "code",
   "execution_count": null,
   "id": "53177d46",
   "metadata": {},
   "outputs": [],
   "source": []
  },
  {
   "cell_type": "code",
   "execution_count": 70,
   "id": "ad3c7bdd",
   "metadata": {},
   "outputs": [],
   "source": [
    "vote_label1 = []\n",
    "text_length = []\n",
    "for d in vote:\n",
    "    if 'reviewText' in d:\n",
    "        v = d['vote']\n",
    "        v = int(v.replace(\",\",\"\"))\n",
    "        length = len(d['reviewText'])\n",
    "        vote_label1.append(v)\n",
    "        text_length.append(length)"
   ]
  },
  {
   "cell_type": "code",
   "execution_count": 73,
   "id": "4c0be1d8",
   "metadata": {},
   "outputs": [
    {
     "data": {
      "image/png": "[encoded data removed]",
      "text/plain": [
       "<Figure size 432x288 with 1 Axes>"
      ]
     },
     "metadata": {
      "needs_background": "light"
     },
     "output_type": "display_data"
    }
   ],
   "source": [
    "plt.scatter(vote_label1, text_length, marker = '.', s = 0.5)\n",
    "plt.xlabel('Vote Numbers')\n",
    "plt.ylabel('Review Text Length')\n",
    "plt.title('Review Text Length - Vote Numbers Scatter Plot')\n",
    "plt.show()"
   ]
  },
  {
   "cell_type": "code",
   "execution_count": null,
   "id": "f2eaf96a",
   "metadata": {},
   "outputs": [],
   "source": []
  }
 ],
 "metadata": {
  "kernelspec": {
   "display_name": "Python 3 (ipykernel)",
   "language": "python",
   "name": "python3"
  },
  "language_info": {
   "codemirror_mode": {
    "name": "ipython",
    "version": 3
   },
   "file_extension": ".py",
   "mimetype": "text/x-python",
   "name": "python",
   "nbconvert_exporter": "python",
   "pygments_lexer": "ipython3",
   "version": "3.7.11"
  }
 },
 "nbformat": 4,
 "nbformat_minor": 5
}
