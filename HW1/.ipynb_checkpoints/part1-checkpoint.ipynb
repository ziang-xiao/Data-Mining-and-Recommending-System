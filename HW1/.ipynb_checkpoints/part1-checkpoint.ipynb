{
 "cells": [
  {
   "cell_type": "markdown",
   "id": "cfefff3d",
   "metadata": {},
   "source": [
    "# CSE 258, Fall 2021: Homework 1"
   ]
  },
  {
   "cell_type": "markdown",
   "id": "46e1c7fd",
   "metadata": {},
   "source": [
    "## Tasks — Regression (week 1):"
   ]
  },
  {
   "cell_type": "markdown",
   "id": "c116fc16",
   "metadata": {},
   "source": [
    "First, using the book review data, let’s see whether ratings can be predicted as a function of review length, or\n",
    "by using temporal features associated with a review."
   ]
  },
  {
   "cell_type": "code",
   "execution_count": 1,
   "id": "8b9f3573",
   "metadata": {},
   "outputs": [],
   "source": [
    "import numpy\n",
    "from urllib.request import urlopen\n",
    "import scipy.optimize\n",
    "import random\n",
    "import dateutil.parser\n",
    "from sklearn.metrics import mean_squared_error"
   ]
  },
  {
   "cell_type": "code",
   "execution_count": 2,
   "id": "d92e3e14",
   "metadata": {},
   "outputs": [],
   "source": [
    "def parseDataFromURL(fname):\n",
    "  for l in urlopen(fname):\n",
    "    yield eval(l)"
   ]
  },
  {
   "cell_type": "code",
   "execution_count": 3,
   "id": "6c98079d",
   "metadata": {},
   "outputs": [],
   "source": [
    "def parseData(fname):\n",
    "  for l in open(fname):\n",
    "    yield eval(l)"
   ]
  },
  {
   "cell_type": "code",
   "execution_count": 4,
   "id": "0f6c55fb",
   "metadata": {},
   "outputs": [
    {
     "name": "stdout",
     "output_type": "stream",
     "text": [
      "Reading data...\n",
      "done\n"
     ]
    }
   ],
   "source": [
    "print(\"Reading data...\")\n",
    "data = list(parseData(\"data/fantasy_10000.json\"))\n",
    "print(\"done\")"
   ]
  },
  {
   "cell_type": "markdown",
   "id": "7fe59ee3",
   "metadata": {},
   "source": [
    "### Q2 \n",
    "Estimates rating from review length."
   ]
  },
  {
   "cell_type": "code",
   "execution_count": 5,
   "id": "2cdc0274",
   "metadata": {},
   "outputs": [],
   "source": [
    "def feature(datum):\n",
    "  feat = [1]\n",
    "  reviewlen = len(datum['review_text'])\n",
    "  feat.append(reviewlen)\n",
    "  return feat"
   ]
  },
  {
   "cell_type": "code",
   "execution_count": 6,
   "id": "0fd557c4",
   "metadata": {},
   "outputs": [
    {
     "name": "stderr",
     "output_type": "stream",
     "text": [
      "<ipython-input-6-474cc5023d7b>:3: FutureWarning: `rcond` parameter will change to the default of machine precision times ``max(M, N)`` where M and N are the input matrix dimensions.\n",
      "To use the future default and silence this warning we advise to pass `rcond=None`, to keep using the old, explicitly pass `rcond=-1`.\n",
      "  theta,residuals,rank,s = numpy.linalg.lstsq(X, y)\n"
     ]
    }
   ],
   "source": [
    "X = [feature(d) for d in data]\n",
    "y = [d['rating'] for d in data]\n",
    "theta,residuals,rank,s = numpy.linalg.lstsq(X, y)"
   ]
  },
  {
   "cell_type": "code",
   "execution_count": 7,
   "id": "f19e8fc2",
   "metadata": {},
   "outputs": [
    {
     "name": "stdout",
     "output_type": "stream",
     "text": [
      "[[3.68568136e+00]\n",
      " [6.87371675e-05]]\n",
      "theta_0 is  [[3.68568136]] theta_1 is  [[6.87371675e-05]]\n"
     ]
    }
   ],
   "source": [
    "X = numpy.matrix(X)\n",
    "y = numpy.matrix(y)\n",
    "Theta = numpy.linalg.inv(X.T * X) * X.T * y.T\n",
    "y_pred = X * Theta\n",
    "print(Theta)\n",
    "print('theta_0 is ', Theta[0], 'theta_1 is ', Theta[1])"
   ]
  },
  {
   "cell_type": "code",
   "execution_count": 8,
   "id": "452d299c",
   "metadata": {},
   "outputs": [
    {
     "name": "stdout",
     "output_type": "stream",
     "text": [
      "MSE is 1.5522086622355378\n"
     ]
    }
   ],
   "source": [
    "print('MSE is', mean_squared_error(y.T,y_pred))"
   ]
  },
  {
   "cell_type": "markdown",
   "id": "8fc3d84f",
   "metadata": {},
   "source": [
    "### Q3\n",
    "Extend model to include (in addition to the length) features based on the time of the review, using a one-hot encoding for the weekday and year, write down feature vectors for the first two examples."
   ]
  },
  {
   "cell_type": "code",
   "execution_count": 9,
   "id": "d5cbb482",
   "metadata": {},
   "outputs": [],
   "source": [
    "for d in data:\n",
    "     d['date_added'] = dateutil.parser.parse(d['date_added'])"
   ]
  },
  {
   "cell_type": "code",
   "execution_count": 10,
   "id": "9ec2b2e4",
   "metadata": {},
   "outputs": [],
   "source": [
    "def feature_1(datum):\n",
    "  reviewlen = len(datum['review_text'])\n",
    "  #feat.append(reviewlen)\n",
    "\n",
    "  week = numpy.zeros(6)\n",
    "  if datum['date_added'].weekday() != 0:\n",
    "        week[datum['date_added'].weekday() - 1] = 1\n",
    "  \n",
    "  ###year range 2006 - 2017###\n",
    "  year = numpy.zeros(11)\n",
    "  if (datum['date_added'].year - 2006) != 0:\n",
    "        year[datum['date_added'].year - 2006 - 1] = 1\n",
    "    \n",
    "  feat = numpy.concatenate((1, reviewlen, week, year), axis = None)\n",
    "  return feat"
   ]
  },
  {
   "cell_type": "code",
   "execution_count": 11,
   "id": "f16a2750",
   "metadata": {},
   "outputs": [],
   "source": [
    "X_1 = [feature_1(d) for d in data]"
   ]
  },
  {
   "cell_type": "code",
   "execution_count": 12,
   "id": "c9544c8a",
   "metadata": {},
   "outputs": [
    {
     "name": "stdout",
     "output_type": "stream",
     "text": [
      "[1.000e+00 2.086e+03 0.000e+00 0.000e+00 0.000e+00 0.000e+00 0.000e+00\n",
      " 1.000e+00 0.000e+00 0.000e+00 0.000e+00 0.000e+00 0.000e+00 0.000e+00\n",
      " 0.000e+00 0.000e+00 0.000e+00 0.000e+00 1.000e+00]\n",
      "[1.000e+00 1.521e+03 0.000e+00 1.000e+00 0.000e+00 0.000e+00 0.000e+00\n",
      " 0.000e+00 0.000e+00 0.000e+00 0.000e+00 0.000e+00 0.000e+00 0.000e+00\n",
      " 0.000e+00 1.000e+00 0.000e+00 0.000e+00 0.000e+00]\n"
     ]
    }
   ],
   "source": [
    "print(X_1[0])\n",
    "print(X_1[1])"
   ]
  },
  {
   "cell_type": "markdown",
   "id": "09dcac44",
   "metadata": {},
   "source": [
    "The first two examples of feature vectors are listed above, with 1 + 1 + 6 + 11 = 19 elements. \n",
    "The second element is the review text length.\n",
    "3 - 8 elements are the one-hot encoding of week, using six dimensions for seven distinct values.\n",
    "9 - 19 elements are the one-hot encoding of year, the year range is 2006 - 2017, using 11 dimensions for 12 distinct values."
   ]
  },
  {
   "cell_type": "markdown",
   "id": "bf241ef1",
   "metadata": {},
   "source": [
    "### Q4\n",
    "Train models that "
   ]
  },
  {
   "cell_type": "markdown",
   "id": "9e1938f7",
   "metadata": {},
   "source": [
    "1.uses the weekday and year values directly as features"
   ]
  },
  {
   "cell_type": "code",
   "execution_count": 13,
   "id": "5c11328b",
   "metadata": {},
   "outputs": [],
   "source": [
    "def feature_2(datum):\n",
    "  feat = [1]\n",
    "  reviewlen = len(datum['review_text'])\n",
    "  feat.append(reviewlen)\n",
    "    \n",
    "  week = datum['date_added'].weekday()\n",
    "  feat.append(week)      \n",
    "  \n",
    "  year = datum['date_added'].year\n",
    "  feat.append(year)\n",
    "\n",
    "  return feat"
   ]
  },
  {
   "cell_type": "code",
   "execution_count": 14,
   "id": "b0b3394f",
   "metadata": {},
   "outputs": [],
   "source": [
    "X_2 = [feature_2(d) for d in data]"
   ]
  },
  {
   "cell_type": "markdown",
   "id": "bea42595",
   "metadata": {},
   "source": [
    "Feature vector examples using the weekday and year values directly as features"
   ]
  },
  {
   "cell_type": "code",
   "execution_count": 15,
   "id": "7df2f7f2",
   "metadata": {},
   "outputs": [
    {
     "name": "stdout",
     "output_type": "stream",
     "text": [
      "[1, 2086, 6, 2017]\n",
      "[1, 1521, 2, 2014]\n"
     ]
    }
   ],
   "source": [
    "print(X_2[0])\n",
    "print(X_2[1])"
   ]
  },
  {
   "cell_type": "code",
   "execution_count": 16,
   "id": "55123979",
   "metadata": {},
   "outputs": [
    {
     "name": "stderr",
     "output_type": "stream",
     "text": [
      "<ipython-input-16-84bffa17346a>:2: FutureWarning: `rcond` parameter will change to the default of machine precision times ``max(M, N)`` where M and N are the input matrix dimensions.\n",
      "To use the future default and silence this warning we advise to pass `rcond=None`, to keep using the old, explicitly pass `rcond=-1`.\n",
      "  theta_2,residuals_2,rank_2,s_2 = numpy.linalg.lstsq(X_2, y_2)\n"
     ]
    }
   ],
   "source": [
    "y_2 = [d['rating'] for d in data]\n",
    "theta_2,residuals_2,rank_2,s_2 = numpy.linalg.lstsq(X_2, y_2)"
   ]
  },
  {
   "cell_type": "code",
   "execution_count": 17,
   "id": "6edd0c12",
   "metadata": {},
   "outputs": [
    {
     "name": "stdout",
     "output_type": "stream",
     "text": [
      "[[-1.01742461e+02]\n",
      " [ 5.50923292e-05]\n",
      " [ 8.75072300e-03]\n",
      " [ 5.23592268e-02]]\n"
     ]
    }
   ],
   "source": [
    "X_2 = numpy.matrix(X_2)\n",
    "y_2 = numpy.matrix(y_2)\n",
    "Theta_2 = numpy.linalg.inv(X_2.T * X_2) * X_2.T * y_2.T\n",
    "y_pred_2 = X_2 * Theta_2\n",
    "print(Theta_2)"
   ]
  },
  {
   "cell_type": "markdown",
   "id": "af794ac7",
   "metadata": {},
   "source": [
    "Theta matrix for the model using the weekday and year values directly, along with review length as features, is shown above."
   ]
  },
  {
   "cell_type": "code",
   "execution_count": 18,
   "id": "7b27d67f",
   "metadata": {},
   "outputs": [
    {
     "name": "stdout",
     "output_type": "stream",
     "text": [
      "MSE is 1.5367740498705231\n"
     ]
    }
   ],
   "source": [
    "print('MSE is', mean_squared_error(y_2.T,y_pred_2))"
   ]
  },
  {
   "cell_type": "markdown",
   "id": "6e819758",
   "metadata": {},
   "source": [
    "2.uses the one-hot encoding from Question 3."
   ]
  },
  {
   "cell_type": "code",
   "execution_count": 19,
   "id": "3a6df554",
   "metadata": {},
   "outputs": [
    {
     "name": "stderr",
     "output_type": "stream",
     "text": [
      "<ipython-input-19-ab3b6b989ad2>:2: FutureWarning: `rcond` parameter will change to the default of machine precision times ``max(M, N)`` where M and N are the input matrix dimensions.\n",
      "To use the future default and silence this warning we advise to pass `rcond=None`, to keep using the old, explicitly pass `rcond=-1`.\n",
      "  theta_1,residuals_1,rank_1,s_1 = numpy.linalg.lstsq(X_1, y_1)\n"
     ]
    }
   ],
   "source": [
    "y_1 = [d['rating'] for d in data]\n",
    "theta_1,residuals_1,rank_1,s_1 = numpy.linalg.lstsq(X_1, y_1)"
   ]
  },
  {
   "cell_type": "code",
   "execution_count": 20,
   "id": "daf33c3b",
   "metadata": {},
   "outputs": [
    {
     "name": "stdout",
     "output_type": "stream",
     "text": [
      "[[ 4.87171479e+00]\n",
      " [ 5.15709386e-05]\n",
      " [ 4.89003441e-02]\n",
      " [ 1.45709798e-01]\n",
      " [ 1.06646403e-01]\n",
      " [ 1.26168316e-01]\n",
      " [ 3.83417660e-02]\n",
      " [ 1.02846903e-01]\n",
      " [-1.58244783e+00]\n",
      " [-1.70447417e+00]\n",
      " [-1.68316056e+00]\n",
      " [-1.67023905e+00]\n",
      " [-1.62877001e+00]\n",
      " [-1.19956705e+00]\n",
      " [-1.10444816e+00]\n",
      " [-1.09162361e+00]\n",
      " [-1.20861354e+00]\n",
      " [-1.23647487e+00]\n",
      " [-1.23331225e+00]]\n"
     ]
    }
   ],
   "source": [
    "X_1 = numpy.matrix(X_1)\n",
    "y_1 = numpy.matrix(y_1)\n",
    "Theta_1 = numpy.linalg.inv(X_1.T * X_1) * X_1.T * y_1.T\n",
    "y_pred_1 = X_1 * Theta_1\n",
    "print(Theta_1)"
   ]
  },
  {
   "cell_type": "markdown",
   "id": "edee8e55",
   "metadata": {},
   "source": [
    "Theta matrix for the model using the weekday and year values directly, along with review length as features is shown above."
   ]
  },
  {
   "cell_type": "code",
   "execution_count": 21,
   "id": "ef1e3859",
   "metadata": {},
   "outputs": [
    {
     "name": "stdout",
     "output_type": "stream",
     "text": [
      "MSE is 1.5123578656428203\n"
     ]
    }
   ],
   "source": [
    "print('MSE is', mean_squared_error(y_1.T,y_pred_1))"
   ]
  },
  {
   "cell_type": "markdown",
   "id": "c01ce8f6",
   "metadata": {},
   "source": [
    "### Q5\n",
    "Repeat the above question, but this time split the data into a training and test set. You should split\n",
    "the data randomly into 50%/50% train/test fractions. Report the MSE of each model separately on the\n",
    "training and test sets."
   ]
  },
  {
   "cell_type": "code",
   "execution_count": 22,
   "id": "135d9761",
   "metadata": {},
   "outputs": [],
   "source": [
    "random.shuffle(data)"
   ]
  },
  {
   "cell_type": "code",
   "execution_count": 23,
   "id": "ba95323c",
   "metadata": {},
   "outputs": [],
   "source": [
    "data_train = data[:5000]"
   ]
  },
  {
   "cell_type": "code",
   "execution_count": 24,
   "id": "03354c56",
   "metadata": {},
   "outputs": [],
   "source": [
    "data_test = data[5000:]"
   ]
  },
  {
   "cell_type": "markdown",
   "id": "98ea301e",
   "metadata": {},
   "source": [
    "Mode 1: uses the weekday and year values directly as features"
   ]
  },
  {
   "cell_type": "code",
   "execution_count": 25,
   "id": "85aea081",
   "metadata": {},
   "outputs": [
    {
     "name": "stderr",
     "output_type": "stream",
     "text": [
      "<ipython-input-25-6a985457c639>:3: FutureWarning: `rcond` parameter will change to the default of machine precision times ``max(M, N)`` where M and N are the input matrix dimensions.\n",
      "To use the future default and silence this warning we advise to pass `rcond=None`, to keep using the old, explicitly pass `rcond=-1`.\n",
      "  theta_2_train,residuals_2_train,rank_2_train,s_2_train = numpy.linalg.lstsq(X_2_train, y_2_train)\n"
     ]
    }
   ],
   "source": [
    "X_2_train = [feature_2(d) for d in data_train]\n",
    "y_2_train = [d['rating'] for d in data_train]\n",
    "theta_2_train,residuals_2_train,rank_2_train,s_2_train = numpy.linalg.lstsq(X_2_train, y_2_train)"
   ]
  },
  {
   "cell_type": "code",
   "execution_count": 26,
   "id": "1e7395a8",
   "metadata": {},
   "outputs": [
    {
     "name": "stdout",
     "output_type": "stream",
     "text": [
      "[[-1.14762741e+02]\n",
      " [ 4.25623582e-05]\n",
      " [ 1.91914910e-02]\n",
      " [ 5.88198506e-02]]\n"
     ]
    }
   ],
   "source": [
    "X_2_train = numpy.matrix(X_2_train)\n",
    "y_2_train = numpy.matrix(y_2_train)\n",
    "Theta_2_train = numpy.linalg.inv(X_2_train.T * X_2_train) * X_2_train.T * y_2_train.T\n",
    "y_pred_2_train = X_2_train * Theta_2_train\n",
    "print(Theta_2_train)"
   ]
  },
  {
   "cell_type": "markdown",
   "id": "f281fbad",
   "metadata": {},
   "source": [
    "The model trained by the train data is shown above."
   ]
  },
  {
   "cell_type": "code",
   "execution_count": 27,
   "id": "1e40bf09",
   "metadata": {},
   "outputs": [
    {
     "name": "stdout",
     "output_type": "stream",
     "text": [
      "MSE on train set is 1.5464241792564775\n"
     ]
    }
   ],
   "source": [
    "print('MSE on train set is', mean_squared_error(y_2_train.T,y_pred_2_train))"
   ]
  },
  {
   "cell_type": "code",
   "execution_count": 28,
   "id": "fdc1ab76",
   "metadata": {},
   "outputs": [
    {
     "name": "stdout",
     "output_type": "stream",
     "text": [
      "MSE on test set is 1.5287777560142166\n"
     ]
    }
   ],
   "source": [
    "X_2_test = [feature_2(d) for d in data_test]\n",
    "y_2_test = [d['rating'] for d in data_test]\n",
    "X_2_test = numpy.matrix(X_2_test)\n",
    "y_2_test = numpy.matrix(y_2_test)\n",
    "y_pred_2_test = X_2_test * Theta_2_train\n",
    "print('MSE on test set is', mean_squared_error(y_2_test.T,y_pred_2_test))"
   ]
  },
  {
   "cell_type": "markdown",
   "id": "de710025",
   "metadata": {},
   "source": [
    "Mode 2: uses the one-hot encoding from Question 3."
   ]
  },
  {
   "cell_type": "code",
   "execution_count": 29,
   "id": "5b292283",
   "metadata": {},
   "outputs": [
    {
     "name": "stderr",
     "output_type": "stream",
     "text": [
      "<ipython-input-29-e679345b2038>:3: FutureWarning: `rcond` parameter will change to the default of machine precision times ``max(M, N)`` where M and N are the input matrix dimensions.\n",
      "To use the future default and silence this warning we advise to pass `rcond=None`, to keep using the old, explicitly pass `rcond=-1`.\n",
      "  theta_1_train,residuals_1_train,rank_1_train,s_1_train = numpy.linalg.lstsq(X_1_train, y_1_train)\n"
     ]
    }
   ],
   "source": [
    "X_1_train = [feature_1(d) for d in data_train]\n",
    "y_1_train = [d['rating'] for d in data_train]\n",
    "theta_1_train,residuals_1_train,rank_1_train,s_1_train = numpy.linalg.lstsq(X_1_train, y_1_train)"
   ]
  },
  {
   "cell_type": "code",
   "execution_count": 30,
   "id": "85fca2ea",
   "metadata": {},
   "outputs": [
    {
     "name": "stdout",
     "output_type": "stream",
     "text": [
      "[[ 4.75316331e+00]\n",
      " [ 3.98615887e-05]\n",
      " [ 7.47143505e-02]\n",
      " [ 1.81985176e-01]\n",
      " [ 1.24909016e-01]\n",
      " [ 1.95296184e-01]\n",
      " [ 9.10525884e-02]\n",
      " [ 1.62760791e-01]\n",
      " [-1.73510618e+00]\n",
      " [-1.50455109e+00]\n",
      " [-1.64030133e+00]\n",
      " [-1.62270323e+00]\n",
      " [-1.55588222e+00]\n",
      " [-1.15902102e+00]\n",
      " [-1.01687603e+00]\n",
      " [-9.76953529e-01]\n",
      " [-1.05718420e+00]\n",
      " [-1.11943372e+00]\n",
      " [-1.11262106e+00]]\n"
     ]
    }
   ],
   "source": [
    "X_1_train = numpy.matrix(X_1_train)\n",
    "y_1_train = numpy.matrix(y_1_train)\n",
    "Theta_1_train = numpy.linalg.inv(X_1_train.T * X_1_train) * X_1_train.T * y_1_train.T\n",
    "y_pred_1_train = X_1_train * Theta_1_train\n",
    "print(Theta_1_train)"
   ]
  },
  {
   "cell_type": "markdown",
   "id": "f744fd11",
   "metadata": {},
   "source": [
    "The model trained by the train data is shown above."
   ]
  },
  {
   "cell_type": "code",
   "execution_count": 31,
   "id": "2a533777",
   "metadata": {},
   "outputs": [
    {
     "name": "stdout",
     "output_type": "stream",
     "text": [
      "MSE on train set is 1.5239479141853336\n"
     ]
    }
   ],
   "source": [
    "print('MSE on train set is', mean_squared_error(y_1_train.T,y_pred_1_train))"
   ]
  },
  {
   "cell_type": "code",
   "execution_count": 32,
   "id": "98ec5500",
   "metadata": {},
   "outputs": [
    {
     "name": "stdout",
     "output_type": "stream",
     "text": [
      "MSE on test set is 1.506207366808105\n"
     ]
    }
   ],
   "source": [
    "X_1_test = [feature_1(d) for d in data_test]\n",
    "y_1_test = [d['rating'] for d in data_test]\n",
    "X_1_test = numpy.matrix(X_1_test)\n",
    "y_1_test = numpy.matrix(y_1_test)\n",
    "y_pred_1_test = X_1_test * Theta_1_train\n",
    "print('MSE on test set is', mean_squared_error(y_1_test.T,y_pred_1_test))"
   ]
  },
  {
   "cell_type": "markdown",
   "id": "8e374ca7",
   "metadata": {},
   "source": [
    "### Q6\n",
    "Show that for a trivial predictor, i.e., $y = \\theta_0$, the best possible value of $\\theta_0$ in terms of the Mean Absolute Error is the median of the label $y$. Hint: compute the derivative of the model’s MAE and solve for $\\theta_0$."
   ]
  },
  {
   "cell_type": "markdown",
   "id": "689f9185",
   "metadata": {},
   "source": [
    "Mean Absolute Error is calculated as:\n",
    "$$MAE(y,\\hat{y}) = \\frac{1}{n}\\sum_{i-1}^{n}\\left | \\hat{y_i} - y_i \\right |$$\n",
    "$$MAE(y,\\hat{y}) = \\frac{1}{n}\\sum_{i-1}^{n}\\left | \\theta_0 - y_i \\right |$$\n",
    "Differentiate both sides of the equation with respect to $\\theta_0$:\n",
    "$$\\frac{\\partial MAE}{\\partial \\theta_0} = \\frac{1}{n}\\sum_{i-1}^{n}sgn(\\theta_0 - y_i) = 0$$\n",
    "$sgn()$ is sign function, which achieves minimum value 0 when $\\theta_0 = y_i$, that is, when the numbers of $\\theta_0 > y_i$ and $\\theta_0 < y_i$ in $n$ are equal, which means when $\\theta_0$ is the median, MAE could achieve the best possible value."
   ]
  }
 ],
 "metadata": {
  "kernelspec": {
   "display_name": "Python 3",
   "language": "python",
   "name": "python3"
  },
  "language_info": {
   "codemirror_mode": {
    "name": "ipython",
    "version": 3
   },
   "file_extension": ".py",
   "mimetype": "text/x-python",
   "name": "python",
   "nbconvert_exporter": "python",
   "pygments_lexer": "ipython3",
   "version": "3.8.8"
  }
 },
 "nbformat": 4,
 "nbformat_minor": 5
}
