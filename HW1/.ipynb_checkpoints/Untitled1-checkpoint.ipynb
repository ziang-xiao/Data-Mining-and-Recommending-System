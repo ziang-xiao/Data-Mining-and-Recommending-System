{
 "cells": [
  {
   "cell_type": "code",
   "execution_count": 8,
   "id": "ca259fee",
   "metadata": {},
   "outputs": [
    {
     "name": "stdout",
     "output_type": "stream",
     "text": [
      "Reading data...\n",
      "done\n"
     ]
    }
   ],
   "source": [
    "import numpy\n",
    "from urllib.request import urlopen\n",
    "import scipy.optimize\n",
    "import random\n",
    "import dateutil.parser\n",
    "from sklearn.metrics import mean_squared_error\n",
    "\n",
    "def parseDataFromURL(fname):\n",
    "  for l in urlopen(fname):\n",
    "    yield eval(l)\n",
    "\n",
    "def parseData(fname):\n",
    "  for l in open(fname):\n",
    "    yield eval(l)\n",
    "    \n",
    "print(\"Reading data...\")\n",
    "data = list(parseData(\"data/fantasy_10000.json\"))\n",
    "print(\"done\")    "
   ]
  },
  {
   "cell_type": "code",
   "execution_count": 9,
   "id": "501e7be8",
   "metadata": {},
   "outputs": [],
   "source": [
    "for d in data:\n",
    "     d['date_added'] = dateutil.parser.parse(d['date_added'])"
   ]
  },
  {
   "cell_type": "code",
   "execution_count": 10,
   "id": "01e404f8",
   "metadata": {},
   "outputs": [],
   "source": [
    "def feature_1(datum):\n",
    "\n",
    "  reviewlen = len(datum['review_text'])\n",
    "  #feat.append(reviewlen)\n",
    "\n",
    "  week = numpy.zeros(6)\n",
    "  if datum['date_added'].weekday() != 0:\n",
    "        week[datum['date_added'].weekday() - 1] = 1\n",
    "  \n",
    "  ###year range 2006 - 2017###\n",
    "  year = numpy.zeros(11)\n",
    "  if (datum['date_added'].year - 2006) != 0:\n",
    "        year[datum['date_added'].year - 2006 - 1] = 1\n",
    "    \n",
    "  feat = numpy.concatenate((1, reviewlen, week, year), axis = None)\n",
    "  return feat"
   ]
  },
  {
   "cell_type": "code",
   "execution_count": 11,
   "id": "1068008a",
   "metadata": {},
   "outputs": [],
   "source": [
    "data = data[5000:]"
   ]
  },
  {
   "cell_type": "code",
   "execution_count": 19,
   "id": "b0ff4207",
   "metadata": {},
   "outputs": [
    {
     "data": {
      "text/plain": [
       "{'user_id': '4937884e137afaa45446be1d2b760116',\n",
       " 'book_id': '17840319',\n",
       " 'review_id': '523aea7c85688a37ffb8d0fddceb5270',\n",
       " 'rating': 0,\n",
       " 'review_text': \"b'day gift from dad\",\n",
       " 'date_added': datetime.datetime(2013, 10, 3, 17, 56, 39, tzinfo=tzoffset(None, -25200)),\n",
       " 'date_updated': 'Fri Dec 06 08:19:00 -0800 2013',\n",
       " 'read_at': '',\n",
       " 'started_at': '',\n",
       " 'n_votes': 0,\n",
       " 'n_comments': 0}"
      ]
     },
     "execution_count": 19,
     "metadata": {},
     "output_type": "execute_result"
    }
   ],
   "source": [
    "data[3]"
   ]
  },
  {
   "cell_type": "code",
   "execution_count": 12,
   "id": "2814fca8",
   "metadata": {},
   "outputs": [
    {
     "name": "stderr",
     "output_type": "stream",
     "text": [
      "<ipython-input-12-995c46fadba2>:3: FutureWarning: `rcond` parameter will change to the default of machine precision times ``max(M, N)`` where M and N are the input matrix dimensions.\n",
      "To use the future default and silence this warning we advise to pass `rcond=None`, to keep using the old, explicitly pass `rcond=-1`.\n",
      "  theta_1,residuals_1,rank_1,s_1 = numpy.linalg.lstsq(X_1, y_1)\n"
     ]
    }
   ],
   "source": [
    "X_1 = [feature_1(d) for d in data]\n",
    "y_1 = [d['rating'] for d in data]\n",
    "theta_1,residuals_1,rank_1,s_1 = numpy.linalg.lstsq(X_1, y_1)"
   ]
  },
  {
   "cell_type": "code",
   "execution_count": 13,
   "id": "1ba37797",
   "metadata": {},
   "outputs": [
    {
     "name": "stdout",
     "output_type": "stream",
     "text": [
      "[[-2.56542969e+00]\n",
      " [ 4.64563835e-04]\n",
      " [-1.04975798e-01]\n",
      " [ 8.89698193e-01]\n",
      " [ 7.42516774e-02]\n",
      " [ 5.25841977e-01]\n",
      " [ 5.76750292e-01]\n",
      " [-3.95049310e-01]\n",
      " [-1.49282227e+01]\n",
      " [-5.07324219e+00]\n",
      " [-1.33217773e+01]\n",
      " [ 1.23486328e+00]\n",
      " [ 7.66113281e-01]\n",
      " [-1.17099609e+01]\n",
      " [-8.02148438e+00]\n",
      " [-1.60620117e+01]\n",
      " [-5.10351562e+00]\n",
      " [-1.54785156e-01]\n",
      " [-6.68603516e+00]]\n"
     ]
    }
   ],
   "source": [
    "X_1 = numpy.matrix(X_1)\n",
    "y_1 = numpy.matrix(y_1)\n",
    "Theta_1 = numpy.linalg.inv(X_1.T * X_1) * X_1.T * y_1.T\n",
    "y_pred_1 = X_1 * Theta_1\n",
    "print(Theta_1)"
   ]
  },
  {
   "cell_type": "code",
   "execution_count": 14,
   "id": "a08987c1",
   "metadata": {},
   "outputs": [
    {
     "name": "stdout",
     "output_type": "stream",
     "text": [
      "MSE is 210.21117312714952\n"
     ]
    }
   ],
   "source": [
    "print('MSE is', mean_squared_error(y_1.T,y_pred_1))"
   ]
  },
  {
   "cell_type": "code",
   "execution_count": null,
   "id": "c74b1f37",
   "metadata": {},
   "outputs": [],
   "source": []
  }
 ],
 "metadata": {
  "kernelspec": {
   "display_name": "Python 3",
   "language": "python",
   "name": "python3"
  },
  "language_info": {
   "codemirror_mode": {
    "name": "ipython",
    "version": 3
   },
   "file_extension": ".py",
   "mimetype": "text/x-python",
   "name": "python",
   "nbconvert_exporter": "python",
   "pygments_lexer": "ipython3",
   "version": "3.8.8"
  }
 },
 "nbformat": 4,
 "nbformat_minor": 5
}
