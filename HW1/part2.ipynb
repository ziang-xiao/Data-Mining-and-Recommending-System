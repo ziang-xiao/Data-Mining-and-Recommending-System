{
 "cells": [
  {
   "cell_type": "markdown",
   "id": "0ffb296c",
   "metadata": {},
   "source": [
    "## Tasks — Classification (week 2):"
   ]
  },
  {
   "cell_type": "markdown",
   "id": "4d0c9de3",
   "metadata": {},
   "source": [
    "In this question, using the beer review data, we’ll try to predict ratings (positive or negative) based on characteristics of beer reviews. Load the 50,000 beer review dataset, and construct a label vector by considering whether a review score is four or above, i.e.,\n",
    "$y = [d[’review/overall’] >= 4 for d in dataset]$"
   ]
  },
  {
   "cell_type": "code",
   "execution_count": 1,
   "id": "fe6dc882",
   "metadata": {},
   "outputs": [],
   "source": [
    "import numpy\n",
    "from urllib.request import urlopen\n",
    "import scipy.optimize\n",
    "import random\n",
    "import matplotlib.pyplot as plt\n",
    "from sklearn import linear_model"
   ]
  },
  {
   "cell_type": "code",
   "execution_count": 2,
   "id": "67cdf21f",
   "metadata": {},
   "outputs": [],
   "source": [
    "def parseDataFromURL(fname):\n",
    "  for l in urlopen(fname):\n",
    "    yield eval(l)"
   ]
  },
  {
   "cell_type": "code",
   "execution_count": 3,
   "id": "bbd76904",
   "metadata": {},
   "outputs": [],
   "source": [
    "def parseData(fname):\n",
    "  for l in open(fname):\n",
    "    yield eval(l)"
   ]
  },
  {
   "cell_type": "code",
   "execution_count": 4,
   "id": "c58aca9c",
   "metadata": {},
   "outputs": [
    {
     "name": "stdout",
     "output_type": "stream",
     "text": [
      "Reading data...\n",
      "done\n"
     ]
    }
   ],
   "source": [
    "print(\"Reading data...\")\n",
    "data = list(parseData(\"data/beer_50000.json\"))\n",
    "print(\"done\")"
   ]
  },
  {
   "cell_type": "markdown",
   "id": "2834f5f7",
   "metadata": {},
   "source": [
    "### Q7\n",
    "Fit a logistic regressor that estimates the binarized score from review length. Using the class weight=’balanced’ option, report the True Positive, True Negative, False Positive, False Negative, and Balanced Error Rates of the predictor."
   ]
  },
  {
   "cell_type": "code",
   "execution_count": 5,
   "id": "63f8014f",
   "metadata": {},
   "outputs": [],
   "source": [
    "def feature(datum):\n",
    "  feat = [1]\n",
    "  reviewlen = len(datum['review/text'])\n",
    "  feat.append(reviewlen)\n",
    "  return feat"
   ]
  },
  {
   "cell_type": "code",
   "execution_count": 6,
   "id": "b1574df3",
   "metadata": {},
   "outputs": [],
   "source": [
    "X = [feature(d) for d in data]\n",
    "y = [d['review/overall'] >= 4 for d in data]"
   ]
  },
  {
   "cell_type": "code",
   "execution_count": 7,
   "id": "e58078c0",
   "metadata": {},
   "outputs": [
    {
     "data": {
      "text/plain": [
       "LogisticRegression(class_weight='balanced')"
      ]
     },
     "execution_count": 7,
     "metadata": {},
     "output_type": "execute_result"
    }
   ],
   "source": [
    "mod = linear_model.LogisticRegression(C=1.0, class_weight='balanced')\n",
    "mod.fit(X,y)"
   ]
  },
  {
   "cell_type": "code",
   "execution_count": 8,
   "id": "129460cd",
   "metadata": {},
   "outputs": [],
   "source": [
    "pred = mod.predict(X)"
   ]
  },
  {
   "cell_type": "code",
   "execution_count": 9,
   "id": "69fbc3b2",
   "metadata": {},
   "outputs": [],
   "source": [
    "TP_ = numpy.logical_and(pred, y)\n",
    "FP_ = numpy.logical_and(pred, numpy.logical_not(y))\n",
    "TN_ = numpy.logical_and(numpy.logical_not(pred), numpy.logical_not(y))\n",
    "FN_ = numpy.logical_and(numpy.logical_not(pred), y)"
   ]
  },
  {
   "cell_type": "code",
   "execution_count": 10,
   "id": "48101b8c",
   "metadata": {},
   "outputs": [],
   "source": [
    "TP = sum(TP_)\n",
    "FP = sum(FP_)\n",
    "TN = sum(TN_)\n",
    "FN = sum(FN_)"
   ]
  },
  {
   "cell_type": "code",
   "execution_count": 11,
   "id": "b9a93975",
   "metadata": {},
   "outputs": [
    {
     "name": "stdout",
     "output_type": "stream",
     "text": [
      "TP is  14201 FP is  5885 TN is  10503 FN is  19411\n"
     ]
    }
   ],
   "source": [
    "print('TP is ', TP, 'FP is ', FP, 'TN is ', TN, 'FN is ', FN)"
   ]
  },
  {
   "cell_type": "code",
   "execution_count": 12,
   "id": "275af7ec",
   "metadata": {},
   "outputs": [],
   "source": [
    "BER = 1 - 0.5 * (TP / (TP + FN) + TN / (TN + FP))"
   ]
  },
  {
   "cell_type": "code",
   "execution_count": 13,
   "id": "27ea6d8b",
   "metadata": {},
   "outputs": [
    {
     "name": "stdout",
     "output_type": "stream",
     "text": [
      "BER is 0.4683031525957275\n"
     ]
    }
   ],
   "source": [
    "print('BER is', BER)"
   ]
  },
  {
   "cell_type": "markdown",
   "id": "ecb03ca4",
   "metadata": {},
   "source": [
    "### Q8\n",
    "Plot the precision@K of your classifier for K = {1 . . . 10000} (i.e., the x-axis of your plot should be K, and the y-axis of your plot should be the precision@K)."
   ]
  },
  {
   "cell_type": "code",
   "execution_count": 14,
   "id": "24167266",
   "metadata": {},
   "outputs": [],
   "source": [
    "scores = mod.decision_function(X)"
   ]
  },
  {
   "cell_type": "code",
   "execution_count": 15,
   "id": "93c7ef09",
   "metadata": {},
   "outputs": [],
   "source": [
    "scores_labels = list(zip(scores, y))\n",
    "scores_labels.sort(reverse = True)"
   ]
  },
  {
   "cell_type": "code",
   "execution_count": 16,
   "id": "5c883a48",
   "metadata": {},
   "outputs": [],
   "source": [
    "sortedlabels = [x[1] for x in scores_labels]"
   ]
  },
  {
   "cell_type": "code",
   "execution_count": 17,
   "id": "ca2eecf5",
   "metadata": {},
   "outputs": [],
   "source": [
    "p_K = [(sum(sortedlabels[:n]) / n) for n in range (1, 10001, 100)] "
   ]
  },
  {
   "cell_type": "code",
   "execution_count": 18,
   "id": "2a8e62df",
   "metadata": {},
   "outputs": [],
   "source": [
    "K = numpy.arange(1, 10001, 100)"
   ]
  },
  {
   "cell_type": "code",
   "execution_count": 19,
   "id": "b753473c",
   "metadata": {},
   "outputs": [
    {
     "data": {
      "image/png": "[encoded data removed]",
      "text/plain": [
       "<Figure size 432x288 with 1 Axes>"
      ]
     },
     "metadata": {
      "needs_background": "light"
     },
     "output_type": "display_data"
    }
   ],
   "source": [
    "plt.xlabel(\"K\")\n",
    "plt.ylabel(\"precision@K\") \n",
    "plt.plot(K, p_K) \n",
    "plt.show()"
   ]
  },
  {
   "cell_type": "markdown",
   "id": "8d048ed5",
   "metadata": {},
   "source": [
    "### Q9\n",
    "Our precision@K plot from Question 8 only measures precision with regard to the positive class. For this type of binary classification, we may be equally interested in the classifier’s accuracy for both the positive and negative classes. Recompute confidence scores for your classifier so that the ‘most confident’ predictions include either the most confident positive or the most confident negative predictions (i.e., probability closest to 1 or probability closest to zero).3 The precision@K now measures whether\n",
    "the classifier has the correct label (either ‘positive’ or ‘negative’) among the K most confident entries. Report this precision@K for K ∈ {1, 100, 10000} and include a plot as in Question 8."
   ]
  },
  {
   "cell_type": "code",
   "execution_count": 20,
   "id": "183a6fd2",
   "metadata": {},
   "outputs": [],
   "source": [
    "scores_1 = abs(mod.decision_function(X))"
   ]
  },
  {
   "cell_type": "code",
   "execution_count": 21,
   "id": "376ee995",
   "metadata": {},
   "outputs": [],
   "source": [
    "scores_labels_1 = list(zip(scores_1, y, pred))\n",
    "scores_labels_1.sort(reverse = True)"
   ]
  },
  {
   "cell_type": "code",
   "execution_count": 22,
   "id": "f057690b",
   "metadata": {},
   "outputs": [],
   "source": [
    "sortedlabels_1 = [(((x[1] == True) and (x[2] == True)) \n",
    "                   or ((x[1] == False) and (x[2] == False))) \n",
    "                  for x in scores_labels_1]"
   ]
  },
  {
   "cell_type": "code",
   "execution_count": 23,
   "id": "29ccf15a",
   "metadata": {},
   "outputs": [],
   "source": [
    "p_K_1 = [(sum(sortedlabels_1[:n]) / n) for n in range (1, 10001, 100)] "
   ]
  },
  {
   "cell_type": "code",
   "execution_count": 24,
   "id": "0b833e4f",
   "metadata": {},
   "outputs": [
    {
     "data": {
      "image/png": "[encoded data removed]",
      "text/plain": [
       "<Figure size 432x288 with 1 Axes>"
      ]
     },
     "metadata": {
      "needs_background": "light"
     },
     "output_type": "display_data"
    }
   ],
   "source": [
    "plt.xlabel(\"K\")\n",
    "plt.ylabel(\"precision@K\") \n",
    "plt.plot(K, p_K_1) \n",
    "plt.show()"
   ]
  },
  {
   "cell_type": "code",
   "execution_count": 25,
   "id": "0db9df44",
   "metadata": {},
   "outputs": [
    {
     "name": "stdout",
     "output_type": "stream",
     "text": [
      "percision@1 is 1.0\n"
     ]
    }
   ],
   "source": [
    "print('percision@1 is', sum(sortedlabels_1[:1]) / 1)"
   ]
  },
  {
   "cell_type": "code",
   "execution_count": 26,
   "id": "8272872d",
   "metadata": {},
   "outputs": [
    {
     "name": "stdout",
     "output_type": "stream",
     "text": [
      "percision@100 is 0.75\n"
     ]
    }
   ],
   "source": [
    "print('percision@100 is', sum(sortedlabels_1[:100]) / 100)"
   ]
  },
  {
   "cell_type": "code",
   "execution_count": 27,
   "id": "471f332a",
   "metadata": {},
   "outputs": [
    {
     "name": "stdout",
     "output_type": "stream",
     "text": [
      "percision@10000 is 0.6183\n"
     ]
    }
   ],
   "source": [
    "print('percision@10000 is', sum(sortedlabels_1[:10000]) / 10000)"
   ]
  }
 ],
 "metadata": {
  "kernelspec": {
   "display_name": "Python 3 (ipykernel)",
   "language": "python",
   "name": "python3"
  },
  "language_info": {
   "codemirror_mode": {
    "name": "ipython",
    "version": 3
   },
   "file_extension": ".py",
   "mimetype": "text/x-python",
   "name": "python",
   "nbconvert_exporter": "python",
   "pygments_lexer": "ipython3",
   "version": "3.7.11"
  }
 },
 "nbformat": 4,
 "nbformat_minor": 5
}
