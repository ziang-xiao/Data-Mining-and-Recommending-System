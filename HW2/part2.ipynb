{
 "cells": [
  {
   "cell_type": "markdown",
   "id": "1de21236",
   "metadata": {},
   "source": [
    "## Tasks — Rating Prediction:"
   ]
  },
  {
   "cell_type": "markdown",
   "id": "928d5753",
   "metadata": {},
   "source": [
    "### Q4\n",
    "Implement a rating prediction model based on the similarity function, and report the MSE of this rating prediction function when $Sim(i, j) = Jaccard(i, j)$."
   ]
  },
  {
   "cell_type": "code",
   "execution_count": null,
   "id": "204304b6",
   "metadata": {},
   "outputs": [],
   "source": [
    "import gzip\n",
    "import math\n",
    "import random\n",
    "import scipy\n",
    "import scipy.optimize\n",
    "import numpy\n",
    "from collections import defaultdict"
   ]
  },
  {
   "cell_type": "code",
   "execution_count": null,
   "id": "5071510d",
   "metadata": {},
   "outputs": [],
   "source": [
    "def parseDataFromURL(fname):\n",
    "  for l in urlopen(fname):\n",
    "    yield eval(l)\n",
    "    \n",
    "def parseData(fname):\n",
    "  for l in open(fname):\n",
    "    yield eval(l)\n",
    "    \n",
    "print(\"Reading data...\")\n",
    "data = list(parseData(\"data/goodreads_reviews_comics_graphic.json\"))\n",
    "print(\"done\")"
   ]
  },
  {
   "cell_type": "code",
   "execution_count": null,
   "id": "c6c3aca7",
   "metadata": {},
   "outputs": [],
   "source": []
  }
 ],
 "metadata": {
  "kernelspec": {
   "display_name": "Python 3",
   "language": "python",
   "name": "python3"
  },
  "language_info": {
   "codemirror_mode": {
    "name": "ipython",
    "version": 3
   },
   "file_extension": ".py",
   "mimetype": "text/x-python",
   "name": "python",
   "nbconvert_exporter": "python",
   "pygments_lexer": "ipython3",
   "version": "3.8.8"
  }
 },
 "nbformat": 4,
 "nbformat_minor": 5
}
