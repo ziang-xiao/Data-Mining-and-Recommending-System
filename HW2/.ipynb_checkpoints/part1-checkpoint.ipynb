{
 "cells": [
  {
   "cell_type": "markdown",
   "id": "4465e1c3",
   "metadata": {},
   "source": [
    "# CSE 258, Fall 2021: Homework 2"
   ]
  },
  {
   "cell_type": "markdown",
   "id": "778b96b9",
   "metadata": {},
   "source": [
    "## Tasks — Similarity Functions:"
   ]
  },
  {
   "cell_type": "markdown",
   "id": "9828a9be",
   "metadata": {},
   "source": [
    "### Q1\n",
    "Which 10 items have the highest Jaccard similarity compared to the first item (i.e., the item from the first review, ‘18471619’)? Report both similarities and item IDs"
   ]
  },
  {
   "cell_type": "code",
   "execution_count": 1,
   "id": "ae049ef3",
   "metadata": {},
   "outputs": [],
   "source": [
    "import gzip\n",
    "import math\n",
    "import random\n",
    "import scipy\n",
    "import scipy.optimize\n",
    "import numpy\n",
    "from collections import defaultdict"
   ]
  },
  {
   "cell_type": "code",
   "execution_count": 2,
   "id": "3dc65d0f",
   "metadata": {},
   "outputs": [
    {
     "name": "stdout",
     "output_type": "stream",
     "text": [
      "Reading data...\n",
      "done\n"
     ]
    }
   ],
   "source": [
    "def parseDataFromURL(fname):\n",
    "  for l in urlopen(fname):\n",
    "    yield eval(l)\n",
    "    \n",
    "def parseData(fname):\n",
    "  for l in open(fname):\n",
    "    yield eval(l)\n",
    "    \n",
    "print(\"Reading data...\")\n",
    "data = list(parseData(\"data/goodreads_reviews_comics_graphic.json\"))\n",
    "print(\"done\")"
   ]
  },
  {
   "cell_type": "code",
   "execution_count": 3,
   "id": "4777f778",
   "metadata": {},
   "outputs": [],
   "source": [
    "usersPerItem = defaultdict(set) # Maps an item to the users who rated it\n",
    "itemsPerUser = defaultdict(set) # Maps a user to the items that they rated\n",
    "itemNames = {}\n",
    "ratingDict = {}\n",
    "\n",
    "for d in data:\n",
    "    user,item = d['user_id'], d['book_id']\n",
    "    usersPerItem[item].add(user)\n",
    "    itemsPerUser[user].add(item)\n",
    "    ratingDict[(user,item)] = d['rating']\n",
    "    # itemNames[item] = d['product_title']"
   ]
  },
  {
   "cell_type": "code",
   "execution_count": 4,
   "id": "5b705978",
   "metadata": {},
   "outputs": [],
   "source": [
    "def Jaccard(s1, s2):\n",
    "    numer = len(s1.intersection(s2))\n",
    "    denom = len(s1.union(s2))\n",
    "    if denom == 0:\n",
    "        return 0\n",
    "    return numer / denom"
   ]
  },
  {
   "cell_type": "code",
   "execution_count": 5,
   "id": "f6d24004",
   "metadata": {},
   "outputs": [],
   "source": [
    "def mostSimilar_item(i, N):\n",
    "    similarities = []\n",
    "    users = usersPerItem[i]\n",
    "    for i2 in usersPerItem:\n",
    "        if i2 == i: continue\n",
    "        sim = Jaccard(users, usersPerItem[i2])\n",
    "        similarities.append((sim,i2))\n",
    "    similarities.sort(key=lambda x: x[1])\n",
    "    similarities.sort(key=lambda x: x[0],reverse = True)\n",
    "    return similarities[:N]"
   ]
  },
  {
   "cell_type": "code",
   "execution_count": 6,
   "id": "42ad5934",
   "metadata": {},
   "outputs": [
    {
     "data": {
      "text/plain": [
       "[(0.16666666666666666, '25334626'),\n",
       " (0.14285714285714285, '25659811'),\n",
       " (0.13793103448275862, '18369278'),\n",
       " (0.13157894736842105, '18430205'),\n",
       " (0.12903225806451613, '20299669'),\n",
       " (0.125, '17995154'),\n",
       " (0.12121212121212122, '18853527'),\n",
       " (0.12121212121212122, '23093378'),\n",
       " (0.12121212121212122, '23241671'),\n",
       " (0.11764705882352941, '18734070')]"
      ]
     },
     "execution_count": 6,
     "metadata": {},
     "output_type": "execute_result"
    }
   ],
   "source": [
    "item = data[0]['book_id']\n",
    "ms = mostSimilar_item(item, 10)\n",
    "ms"
   ]
  },
  {
   "cell_type": "markdown",
   "id": "2cce9937",
   "metadata": {},
   "source": [
    "The similarities and item IDs of 10 items have the highest Jaccard similarity compared to the first item are reported as above."
   ]
  },
  {
   "cell_type": "markdown",
   "id": "1e190881",
   "metadata": {},
   "source": [
    "### Q2\n",
    "There are several ways similar-item recommendations could be used to make personalized recommendations for a particular user. For instance we could:\\\n",
    "(a) Choosing the N items most similar to the user’s favorite (i.e., highest rated) item.\\\n",
    "(b) Finding the N most similar users, and recommending each of their their favorite (highest rated)\n",
    "items.\\\n",
    "Implement these two strategies for user ‘dc3763cdb9b2cae805882878eebb6a32’ (i.e., the user from the first review); in both cases use the Jaccard similarity as your measure of item-to-item or user-to-user similarity. In case of ties, always select the alphabetically first user or item. Report the top 10 items (and associated scores) in each case; note that you should avoid recommending items the user has already interacted with."
   ]
  },
  {
   "cell_type": "code",
   "execution_count": 7,
   "id": "23b9f64b",
   "metadata": {},
   "outputs": [
    {
     "name": "stdout",
     "output_type": "stream",
     "text": [
      "The user ID from the first review is \n",
      " dc3763cdb9b2cae805882878eebb6a32 \n",
      "The items that user purchased are \n",
      " {'18471619'}\n"
     ]
    }
   ],
   "source": [
    "user = data[0]['user_id']\n",
    "print('The user ID from the first review is \\n', user, '\\nThe items that user purchased are \\n', itemsPerUser[user])"
   ]
  },
  {
   "cell_type": "markdown",
   "id": "f5aab3f6",
   "metadata": {},
   "source": [
    " (a) Choosing the N items most similar to the user’s favorite (i.e., highest rated) item. "
   ]
  },
  {
   "cell_type": "markdown",
   "id": "d59cc57e",
   "metadata": {},
   "source": [
    "Since the user ‘dc3763cdb9b2cae805882878eebb6a32’ only rated one item '18471619', for strategy (a) choosing the N items most similar to the user’s favorite item, the result would be exactly the same as in Q1. The top 10 item IDs and similarities are as follow, alphabetically when similarities tie."
   ]
  },
  {
   "cell_type": "code",
   "execution_count": 8,
   "id": "4c3660d4",
   "metadata": {},
   "outputs": [
    {
     "data": {
      "text/plain": [
       "[(0.16666666666666666, '25334626'),\n",
       " (0.14285714285714285, '25659811'),\n",
       " (0.13793103448275862, '18369278'),\n",
       " (0.13157894736842105, '18430205'),\n",
       " (0.12903225806451613, '20299669'),\n",
       " (0.125, '17995154'),\n",
       " (0.12121212121212122, '18853527'),\n",
       " (0.12121212121212122, '23093378'),\n",
       " (0.12121212121212122, '23241671'),\n",
       " (0.11764705882352941, '18734070')]"
      ]
     },
     "execution_count": 8,
     "metadata": {},
     "output_type": "execute_result"
    }
   ],
   "source": [
    "ms"
   ]
  },
  {
   "cell_type": "markdown",
   "id": "15cec10c",
   "metadata": {},
   "source": [
    "(b) Finding the N most similar users, and recommending each of their their favorite (highest rated)\n",
    "items."
   ]
  },
  {
   "cell_type": "code",
   "execution_count": 9,
   "id": "3c528777",
   "metadata": {},
   "outputs": [],
   "source": [
    "def mostSimilar_user(i, u, N):\n",
    "    similarities = []\n",
    "    users = usersPerItem[i]\n",
    "    for u2 in users:\n",
    "        if u2 == u: continue\n",
    "        sim = Jaccard(itemsPerUser[u], itemsPerUser[u2])\n",
    "        similarities.append((sim,u2))\n",
    "    similarities.sort(reverse = True)\n",
    "    return similarities[:N]"
   ]
  },
  {
   "cell_type": "code",
   "execution_count": 10,
   "id": "e2b54386",
   "metadata": {},
   "outputs": [],
   "source": [
    "msu = mostSimilar_user(item, user, 20)"
   ]
  },
  {
   "cell_type": "code",
   "execution_count": 11,
   "id": "e77f99a6",
   "metadata": {},
   "outputs": [],
   "source": [
    "res = []\n",
    "for u in msu:\n",
    "    userItemRate = []\n",
    "    s = u[0]\n",
    "    u1 = u[1]\n",
    "    for i in itemsPerUser[u1]:\n",
    "        userItemRate.append((u1, i, ratingDict[u1,i]))\n",
    "    userItemRate.sort(key=lambda x: x[1])\n",
    "    userItemRate.sort(key=lambda x: x[2],reverse = True)    \n",
    "#     print(userItemRate)\n",
    "#     print('......')\n",
    "#     print(len(userItemRate))\n",
    "#     print('......')\n",
    "    if len(userItemRate) == 1 and userItemRate[0][1] == item: continue\n",
    "    if userItemRate[0][1] == item: res.append((s, u1, userItemRate[1][1]))\n",
    "    res.append((s, u1, userItemRate[0][1]))"
   ]
  },
  {
   "cell_type": "code",
   "execution_count": 12,
   "id": "7acc9ff8",
   "metadata": {},
   "outputs": [
    {
     "data": {
      "text/plain": [
       "[(0.3333333333333333, '6470c7f5e3468ba34e9fe628960fbbf1', '10767466'),\n",
       " (0.25, '6497ca91df3c182006874c96a8530b37', '17570797'),\n",
       " (0.2, '033cf640dfa6f85eb146c39787289628', '15704307'),\n",
       " (0.14285714285714285, '5510684ab6c18f2dd493787e66b2722c', '10138607'),\n",
       " (0.05555555555555555, '17f73ea38e97307935c0d3b6ca987b53', '12434747'),\n",
       " (0.030303030303030304, 'a39b4249d201ef5ce5ea553bdd013e66', '17995248'),\n",
       " (0.023809523809523808, '42519f961f79b61701bda60787b031cf', '10105459'),\n",
       " (0.02040816326530612, '65a7975989734fc6e18b7d2bd2bcb49f', '10997645'),\n",
       " (0.014925373134328358, '0fafb6f0843124383f4e2c5a2090fb09', '10361139'),\n",
       " (0.0136986301369863, '071222e19ae29dc9fdbe225d983449be', '10264328')]"
      ]
     },
     "execution_count": 12,
     "metadata": {},
     "output_type": "execute_result"
    }
   ],
   "source": [
    "res.sort(key=lambda x: x[1])\n",
    "res.sort(key=lambda x: x[0],reverse = True)\n",
    "res[:10]"
   ]
  },
  {
   "cell_type": "markdown",
   "id": "a6d24d52",
   "metadata": {},
   "source": [
    "10 top similar users and item recommended according to their rates are listed above, for each user, the recommended item is selected by the rank of rates of items purchased by that user, if there is a tie, select the alphabetically first item. In the event if the item is already consumed, take the next-highest-rated item from that user."
   ]
  },
  {
   "cell_type": "markdown",
   "id": "84c45e05",
   "metadata": {},
   "source": [
    "### Q3\n",
    "In class we briefly discussed whether the Pearson similarity should be implemented (a) only in terms of shared items (i.e., $U_i ∩ U_j$) in the denominator; or (b) in terms of all items each user consumed (i.e., $U_i$ or $U_j$ for each term in the denominator). (See last slide on Pearson similarity). Implement versions of the Pearson similarity based on both definitions, and report the 10 most similar items to the same query item from Question 1."
   ]
  },
  {
   "cell_type": "code",
   "execution_count": 13,
   "id": "9b0c38af",
   "metadata": {},
   "outputs": [],
   "source": [
    "userAverages = {}\n",
    "itemAverages = {}\n",
    "\n",
    "for u in itemsPerUser:\n",
    "    rs = [ratingDict[(u,i)] for i in itemsPerUser[u]]\n",
    "    if len(rs) == 0:\n",
    "        userAverages[u] = 0\n",
    "        continue\n",
    "    userAverages[u] = sum(rs) / len(rs)\n",
    "    \n",
    "for i in usersPerItem:\n",
    "    rs = [ratingDict[(u,i)] for u in usersPerItem[i]]\n",
    "    if len(rs) == 0:\n",
    "        itemAverages[i] = 0\n",
    "        continue\n",
    "    itemAverages[i] = sum(rs) / len(rs)"
   ]
  },
  {
   "cell_type": "code",
   "execution_count": 14,
   "id": "48af7fca",
   "metadata": {},
   "outputs": [],
   "source": [
    "item = data[0]['book_id']"
   ]
  },
  {
   "cell_type": "markdown",
   "id": "a886b78d",
   "metadata": {},
   "source": [
    "(a) only in terms of shared items (i.e., $U_i ∩ U_j$) in the denominator"
   ]
  },
  {
   "cell_type": "code",
   "execution_count": 15,
   "id": "cee8e7bd",
   "metadata": {},
   "outputs": [],
   "source": [
    "def itemPearsonA(i1, i2):\n",
    "    # Between two items\n",
    "    iBar1 = itemAverages[i1]\n",
    "    iBar2 = itemAverages[i2]\n",
    "    inter = usersPerItem[i1].intersection(usersPerItem[i2])\n",
    "    numer = 0\n",
    "    denom1 = 0\n",
    "    denom2 = 0\n",
    "    for u in inter:\n",
    "        numer += (ratingDict[(u,i1)] - iBar1)*(ratingDict[(u,i2)] - iBar2)\n",
    "    for u in inter:\n",
    "        denom1 += (ratingDict[(u,i1)] - iBar1)**2\n",
    "        denom2 += (ratingDict[(u,i2)] - iBar2)**2\n",
    "    denom = math.sqrt(denom1) * math.sqrt(denom2)\n",
    "    if denom == 0: return 0\n",
    "    return numer / denom"
   ]
  },
  {
   "cell_type": "code",
   "execution_count": 16,
   "id": "64553394",
   "metadata": {},
   "outputs": [],
   "source": [
    "def mostSimilar_item_pa(i, N):\n",
    "    similarities = []\n",
    "    users = usersPerItem[i]\n",
    "    for u in users:\n",
    "        for i2 in itemsPerUser[u]:\n",
    "            if i2 == i: continue\n",
    "            sim = itemPearsonA(i, i2)\n",
    "            similarities.append((sim,i2))\n",
    "    similarities.sort(reverse = True)\n",
    "    res = list(set(similarities))\n",
    "    res.sort(key=lambda x: x[1])\n",
    "    res.sort(key=lambda x: x[0],reverse = True)\n",
    "    return res[:N]"
   ]
  },
  {
   "cell_type": "code",
   "execution_count": 17,
   "id": "17a27a72",
   "metadata": {},
   "outputs": [
    {
     "data": {
      "text/plain": [
       "[(1.0000000000000002, '1103951'),\n",
       " (1.0000000000000002, '11986350'),\n",
       " (1.0000000000000002, '16007365'),\n",
       " (1.0000000000000002, '17132269'),\n",
       " (1.0000000000000002, '17571519'),\n",
       " (1.0000000000000002, '18468852'),\n",
       " (1.0000000000000002, '18527488'),\n",
       " (1.0000000000000002, '18594657'),\n",
       " (1.0000000000000002, '18624024'),\n",
       " (1.0000000000000002, '1882498')]"
      ]
     },
     "execution_count": 17,
     "metadata": {},
     "output_type": "execute_result"
    }
   ],
   "source": [
    "ms_pa = mostSimilar_item_pa(item, 10)\n",
    "ms_pa"
   ]
  },
  {
   "cell_type": "markdown",
   "id": "8ecbf4c8",
   "metadata": {},
   "source": [
    "Query item '18471619', 10 top items recommended by Pearson similarity strategy (a) are listed above."
   ]
  },
  {
   "cell_type": "markdown",
   "id": "9d34ab97",
   "metadata": {},
   "source": [
    "(b) in terms of all items each user consumed (i.e., $U_i$ or $U_j$ for each term in the denominator)"
   ]
  },
  {
   "cell_type": "code",
   "execution_count": 18,
   "id": "285e8fb2",
   "metadata": {},
   "outputs": [],
   "source": [
    "def itemPearsonB(i1, i2):\n",
    "    # Between two items\n",
    "    iBar1 = itemAverages[i1]\n",
    "    iBar2 = itemAverages[i2]\n",
    "    inter = usersPerItem[i1].intersection(usersPerItem[i2])\n",
    "    numer = 0\n",
    "    denom1 = 0\n",
    "    denom2 = 0\n",
    "    for u in inter:\n",
    "        numer += (ratingDict[(u,i1)] - iBar1)*(ratingDict[(u,i2)] - iBar2)\n",
    "    for u in usersPerItem[i1]:\n",
    "        denom1 += (ratingDict[(u,i1)] - iBar1)**2\n",
    "    for u in usersPerItem[i2]:\n",
    "        denom2 += (ratingDict[(u,i2)] - iBar2)**2\n",
    "    denom = math.sqrt(denom1) * math.sqrt(denom2)\n",
    "    if denom == 0: return 0\n",
    "    return numer / denom"
   ]
  },
  {
   "cell_type": "code",
   "execution_count": 19,
   "id": "14edc646",
   "metadata": {},
   "outputs": [],
   "source": [
    "def mostSimilar_item_pb(i, N):\n",
    "    similarities = []\n",
    "    users = usersPerItem[i]\n",
    "    for u in users:\n",
    "        for i2 in itemsPerUser[u]:\n",
    "            if i2 == i: continue\n",
    "            sim = itemPearsonB(i, i2)\n",
    "            similarities.append((sim,i2))\n",
    "    similarities.sort(reverse = True)\n",
    "    res = list(set(similarities))\n",
    "    res.sort(key=lambda x: x[1])\n",
    "    res.sort(key=lambda x: x[0],reverse = True)\n",
    "    return res[:N]"
   ]
  },
  {
   "cell_type": "code",
   "execution_count": 20,
   "id": "d09666bb",
   "metadata": {},
   "outputs": [
    {
     "data": {
      "text/plain": [
       "[(0.31898549007874194, '20300526'),\n",
       " (0.18785865431369264, '13280885'),\n",
       " (0.17896391275176457, '18208501'),\n",
       " (0.16269036695641687, '21521612'),\n",
       " (0.16269036695641687, '25430791'),\n",
       " (0.1555075595594449, '1341758'),\n",
       " (0.1526351566298752, '6314737'),\n",
       " (0.15204888048160353, '4009034'),\n",
       " (0.1494406444160154, '988744'),\n",
       " (0.14632419481281997, '18430205')]"
      ]
     },
     "execution_count": 20,
     "metadata": {},
     "output_type": "execute_result"
    }
   ],
   "source": [
    "ms_pb = mostSimilar_item_pb(item, 10)\n",
    "ms_pb"
   ]
  },
  {
   "cell_type": "markdown",
   "id": "448c374f",
   "metadata": {},
   "source": [
    "Query item '18471619', 10 top items recommended by Pearson similarity strategy (b) are listed above."
   ]
  },
  {
   "cell_type": "markdown",
   "id": "cf756939",
   "metadata": {},
   "source": [
    "## Tasks — Rating Prediction:"
   ]
  },
  {
   "cell_type": "markdown",
   "id": "96580dbc",
   "metadata": {},
   "source": [
    "### Q4\n",
    "Implement a rating prediction model based on the similarity function, and report the MSE of this rating prediction function when $Sim(i, j) = Jaccard(i, j)$."
   ]
  },
  {
   "cell_type": "code",
   "execution_count": 21,
   "id": "0223f115",
   "metadata": {},
   "outputs": [],
   "source": [
    "reviewsPerUser = defaultdict(list)\n",
    "reviewsPerItem = defaultdict(list)"
   ]
  },
  {
   "cell_type": "code",
   "execution_count": 22,
   "id": "bcc6a2ff",
   "metadata": {},
   "outputs": [],
   "source": [
    "# dataset = data\n",
    "dataset = data[:10000]"
   ]
  },
  {
   "cell_type": "code",
   "execution_count": 23,
   "id": "ccb54acb",
   "metadata": {},
   "outputs": [],
   "source": [
    "for d in dataset:\n",
    "    user,item = d['user_id'], d['book_id']\n",
    "    reviewsPerUser[user].append(d)\n",
    "    reviewsPerItem[item].append(d)"
   ]
  },
  {
   "cell_type": "code",
   "execution_count": 24,
   "id": "86854d0a",
   "metadata": {},
   "outputs": [],
   "source": [
    "def predictRating(user,item):\n",
    "    ratings = []\n",
    "    similarities = []\n",
    "    for d in reviewsPerUser[user]:\n",
    "        i2 = d['book_id']\n",
    "        if i2 == item: continue\n",
    "        ratings.append(d['rating'] - itemAverages[i2])\n",
    "        similarities.append(Jaccard(usersPerItem[item],usersPerItem[i2]))\n",
    "    if (sum(similarities) > 0):\n",
    "        weightedRatings = [(x*y) for x,y in zip(ratings,similarities)]\n",
    "        return itemAverages[item] + sum(weightedRatings) / sum(similarities)\n",
    "    else:\n",
    "        # User hasn't rated any similar items\n",
    "        return sum([d['rating'] for d in reviewsPerItem[item]]) / len(reviewsPerItem[item])"
   ]
  },
  {
   "cell_type": "code",
   "execution_count": 25,
   "id": "4aa80ab4",
   "metadata": {},
   "outputs": [],
   "source": [
    "def MSE(predictions, labels):\n",
    "    differences = [(x-y)**2 for x,y in zip(predictions,labels)]\n",
    "    return sum(differences) / len(differences)"
   ]
  },
  {
   "cell_type": "code",
   "execution_count": 26,
   "id": "a93c7b1f",
   "metadata": {},
   "outputs": [],
   "source": [
    "simPredictions = [predictRating(d['user_id'], d['book_id']) for d in dataset[:10000]]"
   ]
  },
  {
   "cell_type": "code",
   "execution_count": 27,
   "id": "e420cfa3",
   "metadata": {},
   "outputs": [],
   "source": [
    "labels = [d['rating'] for d in dataset[:10000]]"
   ]
  },
  {
   "cell_type": "code",
   "execution_count": 28,
   "id": "5291fde0",
   "metadata": {},
   "outputs": [
    {
     "data": {
      "text/plain": [
       "0.6855998508790649"
      ]
     },
     "execution_count": 28,
     "metadata": {},
     "output_type": "execute_result"
    }
   ],
   "source": [
    "MSE(simPredictions, labels)"
   ]
  },
  {
   "cell_type": "markdown",
   "id": "28154a35",
   "metadata": {},
   "source": [
    "The MSE of this rating prediction function on the first 10000 data when $Sim(i, j) = Jaccard(i, j)$ is 0.6855998508790649."
   ]
  },
  {
   "cell_type": "markdown",
   "id": "0cd92cf7",
   "metadata": {},
   "source": [
    "### Q6\n",
    "Design a decay function that outperforms (in terms of the MSE) the trivial function $f(t_{u,j})=1$, documenting any design choices you make."
   ]
  },
  {
   "cell_type": "markdown",
   "id": "a04c2bc3",
   "metadata": {},
   "source": [
    "Design a decay function as\n",
    "$$f(t)=e^{-\\lambda t}$$\n",
    "and the time form as\n",
    "$$t=|t_{u,i}-t_{u,j}|$$\n",
    "Where the time t_{u,i} and t_{u,j} are the 'data_updated' for a data in the dataset. The original value for key 'data_updated' is a formated string. Thus, first parse the string into a date.time objecta, then, convert the date.time object into days since unix time."
   ]
  },
  {
   "cell_type": "code",
   "execution_count": 29,
   "id": "1bc25f1f",
   "metadata": {},
   "outputs": [],
   "source": [
    "import dateutil.parser\n",
    "import datetime\n",
    "import pytz"
   ]
  },
  {
   "cell_type": "code",
   "execution_count": 30,
   "id": "bb2b6de0",
   "metadata": {},
   "outputs": [],
   "source": [
    "epoch = datetime.datetime.utcfromtimestamp(0).replace(tzinfo=pytz.UTC)"
   ]
  },
  {
   "cell_type": "code",
   "execution_count": 31,
   "id": "a4b09250",
   "metadata": {},
   "outputs": [],
   "source": [
    "def unix_time_days(dt):\n",
    "    return (dt - epoch).total_seconds() / 60 / 60 / 24"
   ]
  },
  {
   "cell_type": "code",
   "execution_count": 32,
   "id": "862f2c1b",
   "metadata": {},
   "outputs": [],
   "source": [
    "for d in dataset:\n",
    "    timeString = d['date_updated']\n",
    "    t = dateutil.parser.parse(timeString)\n",
    "    d['date_updated'] = unix_time_days(t)"
   ]
  },
  {
   "cell_type": "markdown",
   "id": "be590355",
   "metadata": {},
   "source": [
    "The converted days is relatively big, thus, for the dataset, we find the minimum days and maximum days, and map the time into an interval of $[0,1]$"
   ]
  },
  {
   "cell_type": "code",
   "execution_count": 33,
   "id": "6b78b3d6",
   "metadata": {},
   "outputs": [],
   "source": [
    "mind = min(dataset, key = lambda d:d['date_updated'])"
   ]
  },
  {
   "cell_type": "code",
   "execution_count": 34,
   "id": "8bff7b67",
   "metadata": {},
   "outputs": [
    {
     "data": {
      "text/plain": [
       "13661.855474537037"
      ]
     },
     "execution_count": 34,
     "metadata": {},
     "output_type": "execute_result"
    }
   ],
   "source": [
    "minday = mind['date_updated']\n",
    "minday"
   ]
  },
  {
   "cell_type": "code",
   "execution_count": 35,
   "id": "393a027a",
   "metadata": {},
   "outputs": [],
   "source": [
    "maxd = max(dataset, key = lambda d:d['date_updated'])"
   ]
  },
  {
   "cell_type": "code",
   "execution_count": 36,
   "id": "05cedd99",
   "metadata": {},
   "outputs": [
    {
     "data": {
      "text/plain": [
       "17470.63261574074"
      ]
     },
     "execution_count": 36,
     "metadata": {},
     "output_type": "execute_result"
    }
   ],
   "source": [
    "maxday = maxd['date_updated']\n",
    "maxday"
   ]
  },
  {
   "cell_type": "code",
   "execution_count": 37,
   "id": "d4f6b611",
   "metadata": {},
   "outputs": [
    {
     "data": {
      "text/plain": [
       "0.000262551460200154"
      ]
     },
     "execution_count": 37,
     "metadata": {},
     "output_type": "execute_result"
    }
   ],
   "source": [
    "k = 1/(maxday - minday)\n",
    "k"
   ]
  },
  {
   "cell_type": "code",
   "execution_count": 38,
   "id": "301ee036",
   "metadata": {},
   "outputs": [],
   "source": [
    "for d in dataset:\n",
    "    t = d['date_updated']\n",
    "    d['date_updated'] = (t - minday) * k"
   ]
  },
  {
   "cell_type": "code",
   "execution_count": 39,
   "id": "7499e331",
   "metadata": {},
   "outputs": [],
   "source": [
    "def predictRatingTemporal(user,item,time):\n",
    "    ratings = []\n",
    "    similarities = []\n",
    "    temporal = []\n",
    "    lmd = 1\n",
    "    for d in reviewsPerUser[user]:\n",
    "        i2 = d['book_id']\n",
    "        if i2 == item: continue\n",
    "        ratings.append(d['rating'] - itemAverages[i2])\n",
    "        similarities.append(Jaccard(usersPerItem[item],usersPerItem[i2]))\n",
    "        t2 = d['date_updated']\n",
    "        temporal.append(math.exp(-lmd * abs(t2 - time)))\n",
    "#         temporal.append(math.exp(-lmd * abs(time)))\n",
    "    if (sum(similarities) > 0):\n",
    "        weightedRatings = [(x*y*z) for x,y,z in zip(ratings,similarities,temporal)]\n",
    "        return itemAverages[item] + sum(weightedRatings) / sum(similarities)\n",
    "    else:\n",
    "        # User hasn't rated any similar items\n",
    "        return sum([d['rating'] for d in reviewsPerItem[item]]) / len(reviewsPerItem[item])"
   ]
  },
  {
   "cell_type": "code",
   "execution_count": 40,
   "id": "c11d32cd",
   "metadata": {},
   "outputs": [],
   "source": [
    "simPredictionsT = [predictRatingTemporal(d['user_id'], d['book_id'], d['date_updated']) for d in dataset]"
   ]
  },
  {
   "cell_type": "code",
   "execution_count": 41,
   "id": "f7f94cd5",
   "metadata": {},
   "outputs": [
    {
     "data": {
      "text/plain": [
       "0.6771017857892024"
      ]
     },
     "execution_count": 41,
     "metadata": {},
     "output_type": "execute_result"
    }
   ],
   "source": [
    "MSE(simPredictionsT, labels)"
   ]
  },
  {
   "cell_type": "markdown",
   "id": "eef5a0cc",
   "metadata": {},
   "source": [
    "For the timestamp, consider the form\n",
    "$$t=|t_{u,i}-t_{u,j}|$$\n",
    "and the similarity function would be\n",
    "$$f(t)=e^{-\\lambda t}=e^{-\\lambda |t_{u,i}-t_{u,j}|}$$\n",
    "When set $\\lambda$ naively as 1, the MSE of this temporal rating prediction function on the first 10000 data is 0.6771017857892024.\\\n",
    "The result outperforms Q4 (where $f(t_{u,j}) = 1$) in terms of the MSE."
   ]
  },
  {
   "cell_type": "code",
   "execution_count": null,
   "id": "e2cfa16a",
   "metadata": {},
   "outputs": [],
   "source": []
  }
 ],
 "metadata": {
  "kernelspec": {
   "display_name": "Python 3",
   "language": "python",
   "name": "python3"
  },
  "language_info": {
   "codemirror_mode": {
    "name": "ipython",
    "version": 3
   },
   "file_extension": ".py",
   "mimetype": "text/x-python",
   "name": "python",
   "nbconvert_exporter": "python",
   "pygments_lexer": "ipython3",
   "version": "3.8.8"
  }
 },
 "nbformat": 4,
 "nbformat_minor": 5
}
